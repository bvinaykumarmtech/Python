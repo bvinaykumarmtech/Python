{
  "nbformat": 4,
  "nbformat_minor": 0,
  "metadata": {
    "colab": {
      "name": "Dec_24.ipynb",
      "provenance": [],
      "authorship_tag": "ABX9TyPj68FF8a4JebDm1UT7hls/",
      "include_colab_link": true
    },
    "kernelspec": {
      "name": "python3",
      "display_name": "Python 3"
    }
  },
  "cells": [
    {
      "cell_type": "markdown",
      "metadata": {
        "id": "view-in-github",
        "colab_type": "text"
      },
      "source": [
        "<a href=\"https://colab.research.google.com/github/bvinaykumarmtech/Python/blob/master/Dec_24.ipynb\" target=\"_parent\"><img src=\"https://colab.research.google.com/assets/colab-badge.svg\" alt=\"Open In Colab\"/></a>"
      ]
    },
    {
      "cell_type": "code",
      "metadata": {
        "colab": {
          "base_uri": "https://localhost:8080/"
        },
        "id": "lsIkzvdZIJRy",
        "outputId": "ea32586e-2c1f-49db-bf41-0c3dc8caf468"
      },
      "source": [
        "# Exercise (Greatest of 3 Numbers) if elif else\r\n",
        "num1= int(input(\"Enter the First Number:, \"))\r\n",
        "num2= int(input(\"Enter the Second Number:, \"))\r\n",
        "num3= int(input(\"Enter the Third Number:, \"))\r\n",
        "if num1> num2 and num1> num3:\r\n",
        "  print(num1, 'is greatest Among', num2, \"and\", num3)\r\n",
        "elif num2> num1 and num2> num3:\r\n",
        "  print(num2, 'is greatest among', num1, \"and\", num3)\r\n",
        "else:\r\n",
        "  print(num3, 'is greatest among', num1, \"and\", num2)"
      ],
      "execution_count": 3,
      "outputs": [
        {
          "output_type": "stream",
          "text": [
            "Enter the First Number:, 10\n",
            "Enter the Second Number:, 0\n",
            "Enter the Third Number:, 3\n",
            "10 is greatest Among 0 and 3\n"
          ],
          "name": "stdout"
        }
      ]
    },
    {
      "cell_type": "code",
      "metadata": {
        "colab": {
          "base_uri": "https://localhost:8080/"
        },
        "id": "mzSLdA9BIRhM",
        "outputId": "fbc5e432-6c53-489c-cecd-8c641c1dbc9e"
      },
      "source": [
        "# Exercise (Greatest of 3 Numbers) nested if\r\n",
        "num1= int(input(\"Enter the First Number:, \"))\r\n",
        "num2= int(input(\"Enter the Second Number:, \"))\r\n",
        "num3= int(input(\"Enter the Third Number:, \"))\r\n",
        "if num1> num2:\r\n",
        "  if num1> num3:\r\n",
        "    print(num1, 'is greatest Among', num2, \"and\", num3)\r\n",
        "elif num2> num1:\r\n",
        "  if num2> num3:\r\n",
        "    print(num2, 'is greatest among', num1, \"and\", num3)\r\n",
        "else:\r\n",
        "  print(num3, 'is greatest among', num1, \"and\", num2)"
      ],
      "execution_count": 4,
      "outputs": [
        {
          "output_type": "stream",
          "text": [
            "Enter the First Number:, 25\n",
            "Enter the Second Number:, 36\n",
            "Enter the Third Number:, 7\n",
            "36 is greatest among 25 and 7\n"
          ],
          "name": "stdout"
        }
      ]
    },
    {
      "cell_type": "code",
      "metadata": {
        "id": "Bc7pAhLcKB6f"
      },
      "source": [
        "''' There are 5 employees in an Organization. Read the Basic Salary of Every Employee and calculate Gross and Net Salary\r\n",
        "and Print. \r\n",
        "Grade-1 Employee: 16000 is Basic\r\n",
        "Garde-2 Employee: 12000 is Basic\r\n",
        "Grade-3 Employee: 8000 is Basic\r\n",
        "Garde-4 Employee: 4000 is Basic\r\n",
        "Gross Salary: Basic+ DA+ HRA\r\n",
        "Net Salary: Gross Salary- PF- PT\r\n",
        "DA= 100% of Basic\r\n",
        "HRA= 12% of Basic\r\n",
        "PF= 12% Basic\r\n",
        "PT= Rs. 100 per 10000\r\n",
        "'''"
      ],
      "execution_count": null,
      "outputs": []
    }
  ]
}