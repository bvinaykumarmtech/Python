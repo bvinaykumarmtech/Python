{
  "nbformat": 4,
  "nbformat_minor": 0,
  "metadata": {
    "colab": {
      "name": "code.ipynb",
      "provenance": [],
      "authorship_tag": "ABX9TyNPONldPkx9grHhWo8cj7jd",
      "include_colab_link": true
    },
    "kernelspec": {
      "name": "python3",
      "display_name": "Python 3"
    }
  },
  "cells": [
    {
      "cell_type": "markdown",
      "metadata": {
        "id": "view-in-github",
        "colab_type": "text"
      },
      "source": [
        "<a href=\"https://colab.research.google.com/github/bvinaykumarmtech/Python/blob/master/Data%20Science.ipynb\" target=\"_parent\"><img src=\"https://colab.research.google.com/assets/colab-badge.svg\" alt=\"Open In Colab\"/></a>"
      ]
    },
    {
      "cell_type": "code",
      "metadata": {
        "colab": {
          "base_uri": "https://localhost:8080/"
        },
        "id": "PVp9BfisfQsc",
        "outputId": "926d22e9-fc27-4679-ce45-bc6f59541c8b"
      },
      "source": [
        "#Exercise-1\n",
        "print(\"ready to code\")"
      ],
      "execution_count": 1,
      "outputs": [
        {
          "output_type": "stream",
          "text": [
            "ready to code\n"
          ],
          "name": "stdout"
        }
      ]
    },
    {
      "cell_type": "code",
      "metadata": {
        "colab": {
          "base_uri": "https://localhost:8080/"
        },
        "id": "mJGkt-Jhg66Q",
        "outputId": "0e213393-9044-4256-bc92-4ace6d6adaee"
      },
      "source": [
        "#Exercise-2 (Calculator)\n",
        "a= int(input('Enter 1st Number:  '))\n",
        "b= int(input('Enter 2nd Number:  '))\n",
        "c= int(input('Enter 3rd Number:  '))\n",
        "d= int(input('Enter 4th Number:  '))\n",
        "e= a+b*c/d\n",
        "print (e)"
      ],
      "execution_count": 2,
      "outputs": [
        {
          "output_type": "stream",
          "text": [
            "Enter 1st Number:  2\n",
            "Enter 2nd Number:  3\n",
            "Enter 3rd Number:  4\n",
            "Enter 4th Number:  5\n",
            "4.4\n"
          ],
          "name": "stdout"
        }
      ]
    },
    {
      "cell_type": "code",
      "metadata": {
        "colab": {
          "base_uri": "https://localhost:8080/"
        },
        "id": "BQqFiBNmlZih",
        "outputId": "8e2d43ff-0af3-462c-859d-1e1fca4a8f54"
      },
      "source": [
        "#Exercise-6 (Predictive Model - EVEN/ODD)\n",
        "x= int(input('Enter your number:  '))\n",
        "if x%2== 0:\n",
        "  print('EVEN')\n",
        "else:\n",
        "  print('ODD')"
      ],
      "execution_count": 6,
      "outputs": [
        {
          "output_type": "stream",
          "text": [
            "Enter your number:  -562\n",
            "EVEN\n"
          ],
          "name": "stdout"
        }
      ]
    },
    {
      "cell_type": "code",
      "metadata": {
        "id": "HJYiwd0Al0Ng"
      },
      "source": [
        "Case Study on Amazon\n",
        "\n",
        "Data Scientist< 15LPA                   AI Specialist< 20LPA\n",
        "Solving Business Problems               Building Intelligent Products\n",
        "Eg: Prediction & Forecasting            Eg: Chatbots, SIRI, Alexa, Watson\n",
        "\n",
        "Data= Text & Numerical                  Data: Image, Video, Voice, recording, Text & Numerical\n",
        "\n",
        "Skills: Maths, PL, Analytics (EDA),     Skills: Maths, PL, Analytics (EDA), ML, NLP, \n",
        "Machine Learning & Visualization                Deep Learning & Visualization\n",
        "\n",
        "Aditya< Data Intelligent Specialist      In the end: Amazon saves 10LPA\n",
        "      < DS+ML+DL\n",
        "Salary= 25LPA"
      ],
      "execution_count": null,
      "outputs": []
    }
  ]
}