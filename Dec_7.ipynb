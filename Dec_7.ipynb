{
  "nbformat": 4,
  "nbformat_minor": 0,
  "metadata": {
    "colab": {
      "name": "Dec_7.ipynb",
      "provenance": [],
      "authorship_tag": "ABX9TyM9I/T7QXLaTKQxq38IH9u8",
      "include_colab_link": true
    },
    "kernelspec": {
      "name": "python3",
      "display_name": "Python 3"
    }
  },
  "cells": [
    {
      "cell_type": "markdown",
      "metadata": {
        "id": "view-in-github",
        "colab_type": "text"
      },
      "source": [
        "<a href=\"https://colab.research.google.com/github/bvinaykumarmtech/Python/blob/master/Dec_7.ipynb\" target=\"_parent\"><img src=\"https://colab.research.google.com/assets/colab-badge.svg\" alt=\"Open In Colab\"/></a>"
      ]
    },
    {
      "cell_type": "code",
      "metadata": {
        "colab": {
          "base_uri": "https://localhost:8080/"
        },
        "id": "CtqeVoxFfKpv",
        "outputId": "55ebb231-21bc-4f4f-8788-932de74e932e"
      },
      "source": [
        "# while loop\n",
        "i= 1\n",
        "while i> 5:\n",
        "  print(i)\n",
        "  i= i+1\n",
        "print('out of loop')"
      ],
      "execution_count": 5,
      "outputs": [
        {
          "output_type": "stream",
          "text": [
            "out of loop\n"
          ],
          "name": "stdout"
        }
      ]
    },
    {
      "cell_type": "code",
      "metadata": {
        "colab": {
          "base_uri": "https://localhost:8080/"
        },
        "id": "_PfNHUmCfoCv",
        "outputId": "01193228-5682-4772-e26e-5f3215a8fd19"
      },
      "source": [
        "# Write a Python script to print 0 to 10 ODD numbers (Output: 1, 3, 5, 7, 9,)\n",
        "i= 0 # initialization\n",
        "while i<= 10:# Test_expression/condition checking\n",
        "  if i% 2== 1:# checking for ODD number\n",
        "    print(i, end=', ')# printing ODD number\n",
        "  i= i+1# incrementing i value by 1\n",
        "\n"
      ],
      "execution_count": 7,
      "outputs": [
        {
          "output_type": "stream",
          "text": [
            "1, 3, 5, 7, 9, "
          ],
          "name": "stdout"
        }
      ]
    },
    {
      "cell_type": "code",
      "metadata": {
        "colab": {
          "base_uri": "https://localhost:8080/"
        },
        "id": "vupr0NbgiGft",
        "outputId": "aafc7de6-5901-4505-8e07-2760e537a25e"
      },
      "source": [
        "# Write a Python script to print 0 to 10 ODD numbers (Output: 1, 3, 5, 7, 9,)\n",
        "i= 1 # initialization\n",
        "while i<= 10: # Test_expression/condition checking\n",
        "  print(i, end=', ') # printing ODD number\n",
        "  i= i+2 # incrementing i value by 1"
      ],
      "execution_count": 8,
      "outputs": [
        {
          "output_type": "stream",
          "text": [
            "1, 3, 5, 7, 9, "
          ],
          "name": "stdout"
        }
      ]
    },
    {
      "cell_type": "code",
      "metadata": {
        "colab": {
          "base_uri": "https://localhost:8080/"
        },
        "id": "cHLsKvFnj-5E",
        "outputId": "0a3782e1-63e7-4601-c8c0-bb0d7eb8ba72"
      },
      "source": [
        "# Write a Python script to print sum(total) of 0 to 10 ODD numbers\n",
        "i= 1 # initialization\n",
        "total= 0 # initialization\n",
        "while i<= 10: # (i= 1) True , (i= 3) True, (i= 5) True, (i= 7) True, (i= 9) True, (i= 11) False\n",
        "  total += i # 1, 4, 9, 16, 25\n",
        "  i += 2 # 3, 5, 7, 9, 11\n",
        "print('Sum is, ', total) # 25\n"
      ],
      "execution_count": 10,
      "outputs": [
        {
          "output_type": "stream",
          "text": [
            "Sum is,  25\n"
          ],
          "name": "stdout"
        }
      ]
    },
    {
      "cell_type": "code",
      "metadata": {
        "colab": {
          "base_uri": "https://localhost:8080/"
        },
        "id": "L04NTMaWnLYo",
        "outputId": "36c4f0ca-ded4-44e6-c0db-1ab8b67bd943"
      },
      "source": [
        "# Python Script to demonstrate else clause in while loop\n",
        "count= 0\n",
        "while count< 5: # (count= 0) True, (count= 1) True, (count= 2) True, (count= 3) True, (count= 4) True, (count= 5) False\n",
        "  print(count, 'is less than 5') # 0 is less than 5, 1 is less than 5, 2 is less than 5, 3 is less than 5, 4 is less than 5\n",
        "  count+= 1 # 1, 2, 3, 4, 5\n",
        "else:\n",
        "  print(count, 'is not less than 5') # 5 is not less than 5"
      ],
      "execution_count": 11,
      "outputs": [
        {
          "output_type": "stream",
          "text": [
            "0 is less than 5\n",
            "1 is less than 5\n",
            "2 is less than 5\n",
            "3 is less than 5\n",
            "4 is less than 5\n",
            "5 is not less than 5\n"
          ],
          "name": "stdout"
        }
      ]
    },
    {
      "cell_type": "code",
      "metadata": {
        "id": "MZA8XRJ6riYp"
      },
      "source": [
        ""
      ],
      "execution_count": null,
      "outputs": []
    }
  ]
}