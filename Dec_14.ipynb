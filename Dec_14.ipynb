{
  "nbformat": 4,
  "nbformat_minor": 0,
  "metadata": {
    "colab": {
      "name": "Dec_14.ipynb",
      "provenance": [],
      "authorship_tag": "ABX9TyN7cAXF7Fg37bGmP8u+64Rx",
      "include_colab_link": true
    },
    "kernelspec": {
      "name": "python3",
      "display_name": "Python 3"
    }
  },
  "cells": [
    {
      "cell_type": "markdown",
      "metadata": {
        "id": "view-in-github",
        "colab_type": "text"
      },
      "source": [
        "<a href=\"https://colab.research.google.com/github/bvinaykumarmtech/Python/blob/master/Dec_14.ipynb\" target=\"_parent\"><img src=\"https://colab.research.google.com/assets/colab-badge.svg\" alt=\"Open In Colab\"/></a>"
      ]
    },
    {
      "cell_type": "code",
      "metadata": {
        "colab": {
          "base_uri": "https://localhost:8080/"
        },
        "id": "JsShzmLIX-K2",
        "outputId": "d60713e8-d135-48d1-d4f3-f1711c6684c3"
      },
      "source": [
        "# Exercise (Patterns)\r\n",
        "'''\r\n",
        "* * * * $\r\n",
        "* * * $ $\r\n",
        "* * $ $ $\r\n",
        "* $ $ $ $\r\n",
        "$ $ $ $ $\r\n",
        "'''\r\n",
        "N=1\r\n",
        "Num= int(input('Enter any Number:   '))\r\n",
        "for row in range(1, Num+1):\r\n",
        "  for space in range(Num-N):\r\n",
        "    print('*', end= ' ')\r\n",
        "  N= N+ 1\r\n",
        "  for column in range(1, row+1):\r\n",
        "    print('$', end= ' ')\r\n",
        "  print()\r\n",
        "else:\r\n",
        "  print('Success')\r\n"
      ],
      "execution_count": 44,
      "outputs": [
        {
          "output_type": "stream",
          "text": [
            "Enter any Number:   5\n",
            "        $ \n",
            "      $ $ \n",
            "    $ $ $ \n",
            "  $ $ $ $ \n",
            "$ $ $ $ $ \n",
            "Success\n"
          ],
          "name": "stdout"
        }
      ]
    },
    {
      "cell_type": "code",
      "metadata": {
        "colab": {
          "base_uri": "https://localhost:8080/"
        },
        "id": "-u2NV2Zrav70",
        "outputId": "f9929b4b-3f2e-4720-889c-7b2e9964ed4b"
      },
      "source": [
        "# Exercise (Patterns)\r\n",
        "'''\r\n",
        "* * * * 1\r\n",
        "* * * 1 2\r\n",
        "* * 1 2 3\r\n",
        "* 1 2 3 4\r\n",
        "1 2 3 4 5\r\n",
        "'''\r\n",
        "N=1\r\n",
        "Num= int(input('Enter any Number:   '))\r\n",
        "for row in range(1, Num+ 1):\r\n",
        "  for space in range(Num- N):\r\n",
        "    print('*', end= ' ')\r\n",
        "  N= N+ 1\r\n",
        "  for column in range(1, row+1):\r\n",
        "    print(column, end= ' ')\r\n",
        "  print()\r\n",
        "else:\r\n",
        "  print('Success')"
      ],
      "execution_count": 45,
      "outputs": [
        {
          "output_type": "stream",
          "text": [
            "Enter any Number:   5\n",
            "* * * * 1 \n",
            "* * * 1 2 \n",
            "* * 1 2 3 \n",
            "* 1 2 3 4 \n",
            "1 2 3 4 5 \n",
            "Success\n"
          ],
          "name": "stdout"
        }
      ]
    },
    {
      "cell_type": "code",
      "metadata": {
        "colab": {
          "base_uri": "https://localhost:8080/"
        },
        "id": "136AyGcwaGbn",
        "outputId": "4471d865-f3ed-46fc-d20e-f7f38cdca798"
      },
      "source": [
        "# Exercise (Patterns)\r\n",
        "'''\r\n",
        "        1\r\n",
        "      2 2\r\n",
        "    3 3 3\r\n",
        "  4 4 4 4\r\n",
        "5 5 5 5 5\r\n",
        "'''\r\n",
        "N=1\r\n",
        "Num= int(input('Enter any Number:   '))\r\n",
        "for row in range(1, Num+ 1):\r\n",
        "  for space in range(Num- N):\r\n",
        "    print(' ', end= ' ')\r\n",
        "  N= N+ 1\r\n",
        "  for column in range(row):\r\n",
        "    print(row, end= ' ')\r\n",
        "  print()\r\n",
        "else:\r\n",
        "  print('Success')"
      ],
      "execution_count": 47,
      "outputs": [
        {
          "output_type": "stream",
          "text": [
            "Enter any Number:   5\n",
            "        1 \n",
            "      2 2 \n",
            "    3 3 3 \n",
            "  4 4 4 4 \n",
            "5 5 5 5 5 \n",
            "Success\n"
          ],
          "name": "stdout"
        }
      ]
    },
    {
      "cell_type": "code",
      "metadata": {
        "id": "Fz-IaK-ShmOw"
      },
      "source": [
        ""
      ],
      "execution_count": null,
      "outputs": []
    },
    {
      "cell_type": "code",
      "metadata": {
        "colab": {
          "base_uri": "https://localhost:8080/"
        },
        "id": "VPdC8ou4jr8O",
        "outputId": "4db8ae89-5571-42e9-9eaf-4ce0c77ad4ba"
      },
      "source": [
        "# Exercise (Patterns)\r\n",
        "'''\r\n",
        "* * * * 1\r\n",
        "* * * 2 3\r\n",
        "* * 4 5 6\r\n",
        "* 7 8 9 10\r\n",
        "11 12 13 14 15\r\n",
        "'''\r\n",
        "N= 1\r\n",
        "M= 1\r\n",
        "Num= int(input('Enter any Number:   '))\r\n",
        "for row in range(1, Num+ 1):\r\n",
        "  for space in range(Num- N):\r\n",
        "    print('*', end= ' ')\r\n",
        "  N= N+ 1\r\n",
        "  for column in range(1, row+1):\r\n",
        "    print(M, end= ' ')\r\n",
        "    M= M+ 1\r\n",
        "  print()\r\n",
        "else:\r\n",
        "  print('Success')"
      ],
      "execution_count": 49,
      "outputs": [
        {
          "output_type": "stream",
          "text": [
            "Enter any Number:   5\n",
            "* * * * 1 \n",
            "* * * 2 3 \n",
            "* * 4 5 6 \n",
            "* 7 8 9 10 \n",
            "11 12 13 14 15 \n",
            "Success\n"
          ],
          "name": "stdout"
        }
      ]
    },
    {
      "cell_type": "code",
      "metadata": {
        "id": "Pb9ivIxvmvbO"
      },
      "source": [
        ""
      ],
      "execution_count": null,
      "outputs": []
    }
  ]
}