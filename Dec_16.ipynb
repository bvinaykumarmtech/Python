{
  "nbformat": 4,
  "nbformat_minor": 0,
  "metadata": {
    "colab": {
      "name": "Dec_16.ipynb",
      "provenance": [],
      "authorship_tag": "ABX9TyNzidkWNY3SQYRt6859XHfd",
      "include_colab_link": true
    },
    "kernelspec": {
      "name": "python3",
      "display_name": "Python 3"
    }
  },
  "cells": [
    {
      "cell_type": "markdown",
      "metadata": {
        "id": "view-in-github",
        "colab_type": "text"
      },
      "source": [
        "<a href=\"https://colab.research.google.com/github/bvinaykumarmtech/Python/blob/master/Dec_16.ipynb\" target=\"_parent\"><img src=\"https://colab.research.google.com/assets/colab-badge.svg\" alt=\"Open In Colab\"/></a>"
      ]
    },
    {
      "cell_type": "code",
      "metadata": {
        "colab": {
          "base_uri": "https://localhost:8080/"
        },
        "id": "rzDykrc6totC",
        "outputId": "26349a5d-2b23-4e1a-cfae-f8f1fc1a0f56"
      },
      "source": [
        "dir(__builtin__)"
      ],
      "execution_count": 5,
      "outputs": [
        {
          "output_type": "execute_result",
          "data": {
            "text/plain": [
              "['ArithmeticError',\n",
              " 'AssertionError',\n",
              " 'AttributeError',\n",
              " 'BaseException',\n",
              " 'BlockingIOError',\n",
              " 'BrokenPipeError',\n",
              " 'BufferError',\n",
              " 'BytesWarning',\n",
              " 'ChildProcessError',\n",
              " 'ConnectionAbortedError',\n",
              " 'ConnectionError',\n",
              " 'ConnectionRefusedError',\n",
              " 'ConnectionResetError',\n",
              " 'DeprecationWarning',\n",
              " 'EOFError',\n",
              " 'Ellipsis',\n",
              " 'EnvironmentError',\n",
              " 'Exception',\n",
              " 'False',\n",
              " 'FileExistsError',\n",
              " 'FileNotFoundError',\n",
              " 'FloatingPointError',\n",
              " 'FutureWarning',\n",
              " 'GeneratorExit',\n",
              " 'IOError',\n",
              " 'ImportError',\n",
              " 'ImportWarning',\n",
              " 'IndentationError',\n",
              " 'IndexError',\n",
              " 'InterruptedError',\n",
              " 'IsADirectoryError',\n",
              " 'KeyError',\n",
              " 'KeyboardInterrupt',\n",
              " 'LookupError',\n",
              " 'MemoryError',\n",
              " 'ModuleNotFoundError',\n",
              " 'NameError',\n",
              " 'None',\n",
              " 'NotADirectoryError',\n",
              " 'NotImplemented',\n",
              " 'NotImplementedError',\n",
              " 'OSError',\n",
              " 'OverflowError',\n",
              " 'PendingDeprecationWarning',\n",
              " 'PermissionError',\n",
              " 'ProcessLookupError',\n",
              " 'RecursionError',\n",
              " 'ReferenceError',\n",
              " 'ResourceWarning',\n",
              " 'RuntimeError',\n",
              " 'RuntimeWarning',\n",
              " 'StopAsyncIteration',\n",
              " 'StopIteration',\n",
              " 'SyntaxError',\n",
              " 'SyntaxWarning',\n",
              " 'SystemError',\n",
              " 'SystemExit',\n",
              " 'TabError',\n",
              " 'TimeoutError',\n",
              " 'True',\n",
              " 'TypeError',\n",
              " 'UnboundLocalError',\n",
              " 'UnicodeDecodeError',\n",
              " 'UnicodeEncodeError',\n",
              " 'UnicodeError',\n",
              " 'UnicodeTranslateError',\n",
              " 'UnicodeWarning',\n",
              " 'UserWarning',\n",
              " 'ValueError',\n",
              " 'Warning',\n",
              " 'ZeroDivisionError',\n",
              " '__IPYTHON__',\n",
              " '__build_class__',\n",
              " '__debug__',\n",
              " '__doc__',\n",
              " '__import__',\n",
              " '__loader__',\n",
              " '__name__',\n",
              " '__package__',\n",
              " '__spec__',\n",
              " 'abs',\n",
              " 'all',\n",
              " 'any',\n",
              " 'ascii',\n",
              " 'bin',\n",
              " 'bool',\n",
              " 'bytearray',\n",
              " 'bytes',\n",
              " 'callable',\n",
              " 'chr',\n",
              " 'classmethod',\n",
              " 'compile',\n",
              " 'complex',\n",
              " 'copyright',\n",
              " 'credits',\n",
              " 'delattr',\n",
              " 'dict',\n",
              " 'dir',\n",
              " 'display',\n",
              " 'divmod',\n",
              " 'dreload',\n",
              " 'enumerate',\n",
              " 'eval',\n",
              " 'exec',\n",
              " 'filter',\n",
              " 'float',\n",
              " 'format',\n",
              " 'frozenset',\n",
              " 'get_ipython',\n",
              " 'getattr',\n",
              " 'globals',\n",
              " 'hasattr',\n",
              " 'hash',\n",
              " 'help',\n",
              " 'hex',\n",
              " 'id',\n",
              " 'input',\n",
              " 'int',\n",
              " 'isinstance',\n",
              " 'issubclass',\n",
              " 'iter',\n",
              " 'len',\n",
              " 'license',\n",
              " 'list',\n",
              " 'locals',\n",
              " 'map',\n",
              " 'max',\n",
              " 'memoryview',\n",
              " 'min',\n",
              " 'next',\n",
              " 'object',\n",
              " 'oct',\n",
              " 'open',\n",
              " 'ord',\n",
              " 'pow',\n",
              " 'print',\n",
              " 'property',\n",
              " 'range',\n",
              " 'repr',\n",
              " 'reversed',\n",
              " 'round',\n",
              " 'set',\n",
              " 'setattr',\n",
              " 'slice',\n",
              " 'sorted',\n",
              " 'staticmethod',\n",
              " 'str',\n",
              " 'sum',\n",
              " 'super',\n",
              " 'tuple',\n",
              " 'type',\n",
              " 'vars',\n",
              " 'zip']"
            ]
          },
          "metadata": {
            "tags": []
          },
          "execution_count": 5
        }
      ]
    },
    {
      "cell_type": "code",
      "metadata": {
        "id": "FWeKaaVSvTdP"
      },
      "source": [
        "greeting= 'Hello'"
      ],
      "execution_count": 6,
      "outputs": []
    },
    {
      "cell_type": "code",
      "metadata": {
        "colab": {
          "base_uri": "https://localhost:8080/",
          "height": 35
        },
        "id": "fuvjPpt_yx0B",
        "outputId": "160ebe36-f21f-4035-931f-b7c9261621f9"
      },
      "source": [
        "greeting[::]\r\n"
      ],
      "execution_count": 14,
      "outputs": [
        {
          "output_type": "execute_result",
          "data": {
            "application/vnd.google.colaboratory.intrinsic+json": {
              "type": "string"
            },
            "text/plain": [
              "'Hello'"
            ]
          },
          "metadata": {
            "tags": []
          },
          "execution_count": 14
        }
      ]
    },
    {
      "cell_type": "code",
      "metadata": {
        "colab": {
          "base_uri": "https://localhost:8080/"
        },
        "id": "yzheC2c0y68z",
        "outputId": "6dfc0176-9daf-40f5-908b-3d67dc5e592f"
      },
      "source": [
        "# Adding two strings (Concatanation)\r\n",
        "s1= 'Aditya'\r\n",
        "s= ' '\r\n",
        "s2= 'College'\r\n",
        "print(s1+s+s2)\r\n",
        "print(s2+s1)"
      ],
      "execution_count": 18,
      "outputs": [
        {
          "output_type": "stream",
          "text": [
            "Aditya College\n",
            "CollegeAditya\n"
          ],
          "name": "stdout"
        }
      ]
    },
    {
      "cell_type": "code",
      "metadata": {
        "colab": {
          "base_uri": "https://localhost:8080/"
        },
        "id": "DMaOF_FIzvgm",
        "outputId": "e5fc3892-f428-4ac2-8a8d-70363283df25"
      },
      "source": [
        "# Adding two strings in reverse order (Concatanation)\r\n",
        "s1= 'Aditya'\r\n",
        "s= ' '\r\n",
        "s2= 'College'\r\n",
        "print(s1[::-1]+s+s2[::-1])"
      ],
      "execution_count": 19,
      "outputs": [
        {
          "output_type": "stream",
          "text": [
            "aytidA egelloC\n"
          ],
          "name": "stdout"
        }
      ]
    },
    {
      "cell_type": "code",
      "metadata": {
        "colab": {
          "base_uri": "https://localhost:8080/"
        },
        "id": "qCok2AaL0OdQ",
        "outputId": "9a785700-5ac4-4e55-9de2-f2ab22c6252b"
      },
      "source": [
        "# Multiplication of sequences\r\n",
        "s1= 'Aditya '\r\n",
        "s2= ' College'\r\n",
        "n= 5\r\n",
        "print(s1[::-1]*n)\r\n",
        "print(n* s2[::-1])\r\n",
        "print(s2* n)"
      ],
      "execution_count": 28,
      "outputs": [
        {
          "output_type": "stream",
          "text": [
            " aytidA aytidA aytidA aytidA aytidA\n",
            "egelloC egelloC egelloC egelloC egelloC \n",
            " College College College College College\n"
          ],
          "name": "stdout"
        }
      ]
    },
    {
      "cell_type": "code",
      "metadata": {
        "colab": {
          "base_uri": "https://localhost:8080/"
        },
        "id": "-7NBnfiF0oxf",
        "outputId": "19885aff-4d17-4b05-da9e-4ce00f2bcfdf"
      },
      "source": [
        "# Membership\r\n",
        "s1= 'Aditya'\r\n",
        "print(\"A\" in s1)\r\n",
        "print(\"A\" not in s1)\r\n",
        "print(\"z\" in s1)\r\n",
        "print(\"z\" not in s1)"
      ],
      "execution_count": 32,
      "outputs": [
        {
          "output_type": "stream",
          "text": [
            "True\n",
            "False\n",
            "False\n",
            "True\n"
          ],
          "name": "stdout"
        }
      ]
    },
    {
      "cell_type": "code",
      "metadata": {
        "colab": {
          "base_uri": "https://localhost:8080/"
        },
        "id": "qDCgo7Jx15cO",
        "outputId": "4ea38ffb-1a5f-4de7-8507-2580b3087bbc"
      },
      "source": [
        "# length of a sequence (Ex: string), minimum and maximum\r\n",
        "s1= 'Aditya'\r\n",
        "print(len(s1))\r\n",
        "print(min(s1))\r\n",
        "print(max(s1))"
      ],
      "execution_count": 35,
      "outputs": [
        {
          "output_type": "stream",
          "text": [
            "6\n",
            "A\n",
            "y\n"
          ],
          "name": "stdout"
        }
      ]
    },
    {
      "cell_type": "code",
      "metadata": {
        "colab": {
          "base_uri": "https://localhost:8080/"
        },
        "id": "V5DXrChL2X_n",
        "outputId": "d7887d0c-9dc5-4af6-cdf8-72c358c6540a"
      },
      "source": [
        "# Accessing a string (sequence) with for loop\r\n",
        "s1= 'Aditya'\r\n",
        "for i in range(len(s1)):\r\n",
        "  print(s1[i], end= ' ')"
      ],
      "execution_count": 43,
      "outputs": [
        {
          "output_type": "stream",
          "text": [
            "A d i t y a "
          ],
          "name": "stdout"
        }
      ]
    },
    {
      "cell_type": "code",
      "metadata": {
        "colab": {
          "base_uri": "https://localhost:8080/"
        },
        "id": "DVXV-yaI3TJc",
        "outputId": "5c1fe894-e190-469f-ad8f-1bbaad4ad7e3"
      },
      "source": [
        "# Accessing a string (sequence) with for loop\r\n",
        "s1= 'Aditya'\r\n",
        "for i in s1:\r\n",
        "  print(i, end= ' ')"
      ],
      "execution_count": 44,
      "outputs": [
        {
          "output_type": "stream",
          "text": [
            "A d i t y a "
          ],
          "name": "stdout"
        }
      ]
    },
    {
      "cell_type": "code",
      "metadata": {
        "colab": {
          "base_uri": "https://localhost:8080/"
        },
        "id": "EXcKFUrb4M4M",
        "outputId": "ebc3b6ec-3623-49bf-97ae-3f0d5ab47485"
      },
      "source": [
        "# Accessing a string (sequence) with for loop\r\n",
        "s1= 'Aditya'\r\n",
        "for i in min(s1):\r\n",
        "  print(i, end= ' ')"
      ],
      "execution_count": 52,
      "outputs": [
        {
          "output_type": "stream",
          "text": [
            "A "
          ],
          "name": "stdout"
        }
      ]
    },
    {
      "cell_type": "code",
      "metadata": {
        "colab": {
          "base_uri": "https://localhost:8080/"
        },
        "id": "hztnX0Ip4dhN",
        "outputId": "c24e1771-8ed6-4579-93fe-942fdd3192f3"
      },
      "source": [
        "# Accessing a string (sequence) with for loop\r\n",
        "s1= 'Aditya'\r\n",
        "for i in max(s1):\r\n",
        "  print(i, end= ' ')"
      ],
      "execution_count": 53,
      "outputs": [
        {
          "output_type": "stream",
          "text": [
            "y "
          ],
          "name": "stdout"
        }
      ]
    },
    {
      "cell_type": "code",
      "metadata": {
        "colab": {
          "base_uri": "https://localhost:8080/"
        },
        "id": "c9meknwz4wdD",
        "outputId": "f8372aa3-14b6-43b7-cef3-aba56398f93d"
      },
      "source": [
        "# Accessing a string (sequence) with for loop\r\n",
        "s1= 'Aditya'\r\n",
        "for i in min(s1), max(s1):\r\n",
        "  print(i, end= ' ')"
      ],
      "execution_count": 54,
      "outputs": [
        {
          "output_type": "stream",
          "text": [
            "A y "
          ],
          "name": "stdout"
        }
      ]
    },
    {
      "cell_type": "code",
      "metadata": {
        "colab": {
          "base_uri": "https://localhost:8080/"
        },
        "id": "tDTBfAm44xkP",
        "outputId": "1b007e01-8c3c-4b08-bee3-990d237a7ecc"
      },
      "source": [
        "print(dir(str))"
      ],
      "execution_count": 55,
      "outputs": [
        {
          "output_type": "stream",
          "text": [
            "['__add__', '__class__', '__contains__', '__delattr__', '__dir__', '__doc__', '__eq__', '__format__', '__ge__', '__getattribute__', '__getitem__', '__getnewargs__', '__gt__', '__hash__', '__init__', '__init_subclass__', '__iter__', '__le__', '__len__', '__lt__', '__mod__', '__mul__', '__ne__', '__new__', '__reduce__', '__reduce_ex__', '__repr__', '__rmod__', '__rmul__', '__setattr__', '__sizeof__', '__str__', '__subclasshook__', 'capitalize', 'casefold', 'center', 'count', 'encode', 'endswith', 'expandtabs', 'find', 'format', 'format_map', 'index', 'isalnum', 'isalpha', 'isdecimal', 'isdigit', 'isidentifier', 'islower', 'isnumeric', 'isprintable', 'isspace', 'istitle', 'isupper', 'join', 'ljust', 'lower', 'lstrip', 'maketrans', 'partition', 'replace', 'rfind', 'rindex', 'rjust', 'rpartition', 'rsplit', 'rstrip', 'split', 'splitlines', 'startswith', 'strip', 'swapcase', 'title', 'translate', 'upper', 'zfill']\n"
          ],
          "name": "stdout"
        }
      ]
    },
    {
      "cell_type": "code",
      "metadata": {
        "colab": {
          "base_uri": "https://localhost:8080/"
        },
        "id": "ieBcY1rU7g1D",
        "outputId": "819eea9b-956e-4fed-c8e3-57110e62c178"
      },
      "source": [
        "s= \"Aditya Engineering College\"\r\n",
        "print(s.count('e'))\r\n",
        "print(s.count('e', 15))\r\n",
        "print(s.count('e', 15, 18))"
      ],
      "execution_count": 56,
      "outputs": [
        {
          "output_type": "stream",
          "text": [
            "4\n",
            "2\n",
            "0\n"
          ],
          "name": "stdout"
        }
      ]
    },
    {
      "cell_type": "code",
      "metadata": {
        "colab": {
          "base_uri": "https://localhost:8080/"
        },
        "id": "qSu4dTJG_27B",
        "outputId": "e5bd2f31-cb9f-46a9-c20a-fad071cbc48a"
      },
      "source": [
        "help(s.endswith)"
      ],
      "execution_count": 57,
      "outputs": [
        {
          "output_type": "stream",
          "text": [
            "Help on built-in function endswith:\n",
            "\n",
            "endswith(...) method of builtins.str instance\n",
            "    S.endswith(suffix[, start[, end]]) -> bool\n",
            "    \n",
            "    Return True if S ends with the specified suffix, False otherwise.\n",
            "    With optional start, test S beginning at that position.\n",
            "    With optional end, stop comparing S at that position.\n",
            "    suffix can also be a tuple of strings to try.\n",
            "\n"
          ],
          "name": "stdout"
        }
      ]
    },
    {
      "cell_type": "code",
      "metadata": {
        "colab": {
          "base_uri": "https://localhost:8080/"
        },
        "id": "fvQ_GoLCAIH6",
        "outputId": "a20a70c9-6890-4976-e694-74f77ae1e10f"
      },
      "source": [
        "print(len(s))\r\n",
        "print(s.endswith('ege'))\r\n",
        "print(s.endswith('ege', 23))\r\n",
        "print(s.endswith('ege', 10, 26))"
      ],
      "execution_count": 69,
      "outputs": [
        {
          "output_type": "stream",
          "text": [
            "26\n",
            "True\n",
            "True\n",
            "True\n"
          ],
          "name": "stdout"
        }
      ]
    },
    {
      "cell_type": "code",
      "metadata": {
        "colab": {
          "base_uri": "https://localhost:8080/"
        },
        "id": "1xNLKR-XATRD",
        "outputId": "9a740011-5101-4141-d87e-13d47ae406d5"
      },
      "source": [
        "help(s.find)\r\n"
      ],
      "execution_count": 70,
      "outputs": [
        {
          "output_type": "stream",
          "text": [
            "Help on built-in function find:\n",
            "\n",
            "find(...) method of builtins.str instance\n",
            "    S.find(sub[, start[, end]]) -> int\n",
            "    \n",
            "    Return the lowest index in S where substring sub is found,\n",
            "    such that sub is contained within S[start:end].  Optional\n",
            "    arguments start and end are interpreted as in slice notation.\n",
            "    \n",
            "    Return -1 on failure.\n",
            "\n"
          ],
          "name": "stdout"
        }
      ]
    },
    {
      "cell_type": "code",
      "metadata": {
        "colab": {
          "base_uri": "https://localhost:8080/",
          "height": 35
        },
        "id": "iKvEnIlYBW6e",
        "outputId": "4c75d724-c3ce-4f5b-83d8-6a1e3cb4a997"
      },
      "source": [
        "s"
      ],
      "execution_count": 71,
      "outputs": [
        {
          "output_type": "execute_result",
          "data": {
            "application/vnd.google.colaboratory.intrinsic+json": {
              "type": "string"
            },
            "text/plain": [
              "'Aditya Engineering College'"
            ]
          },
          "metadata": {
            "tags": []
          },
          "execution_count": 71
        }
      ]
    },
    {
      "cell_type": "code",
      "metadata": {
        "colab": {
          "base_uri": "https://localhost:8080/"
        },
        "id": "mM9C92SbBa_n",
        "outputId": "87bfc89c-1926-45cf-8bb8-3a95aacefa03"
      },
      "source": [
        "print(s.find('in'))\r\n",
        "print(s.find('in', 16))\r\n",
        "print(s.find('in', 11, 17))"
      ],
      "execution_count": 82,
      "outputs": [
        {
          "output_type": "stream",
          "text": [
            "10\n",
            "-1\n",
            "15\n"
          ],
          "name": "stdout"
        }
      ]
    },
    {
      "cell_type": "code",
      "metadata": {
        "id": "KV-PjIxLBgOu"
      },
      "source": [
        ""
      ],
      "execution_count": null,
      "outputs": []
    }
  ]
}