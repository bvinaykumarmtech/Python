{
  "nbformat": 4,
  "nbformat_minor": 0,
  "metadata": {
    "colab": {
      "name": "Jan_02.ipynb",
      "provenance": [],
      "authorship_tag": "ABX9TyP0F5p0tnkaEfKf9vltEopr",
      "include_colab_link": true
    },
    "kernelspec": {
      "name": "python3",
      "display_name": "Python 3"
    }
  },
  "cells": [
    {
      "cell_type": "markdown",
      "metadata": {
        "id": "view-in-github",
        "colab_type": "text"
      },
      "source": [
        "<a href=\"https://colab.research.google.com/github/bvinaykumarmtech/Python/blob/master/Jan_02.ipynb\" target=\"_parent\"><img src=\"https://colab.research.google.com/assets/colab-badge.svg\" alt=\"Open In Colab\"/></a>"
      ]
    },
    {
      "cell_type": "code",
      "metadata": {
        "id": "RS-MKCPIQCpm"
      },
      "source": [
        "''' List - A list in Python is a data structure (data type).\r\n",
        "         - list is a class.\r\n",
        "         - List is a Sequence.\r\n",
        "         - Lists are mutable.\r\n",
        "         - List stores Heterogeneous Elements.\r\n",
        "         - Lists are Growable.'''\r\n"
      ],
      "execution_count": null,
      "outputs": []
    },
    {
      "cell_type": "code",
      "metadata": {
        "id": "zsSpYa4DQ628"
      },
      "source": [
        "l= [] # Empty List\r\n",
        "l1= list() # Empty List\r\n",
        "l2= [1] # List with 1 element\r\n",
        "l3= [1, 2.3, \"Aditya\", (4+5j)] # List with Heterogenous Elements\r\n"
      ],
      "execution_count": 2,
      "outputs": []
    },
    {
      "cell_type": "code",
      "metadata": {
        "colab": {
          "base_uri": "https://localhost:8080/"
        },
        "id": "ljsxDBCDRMJp",
        "outputId": "78b1fbc8-01f9-412a-d649-cd9269506164"
      },
      "source": [
        "# List of lists\r\n",
        "l= [[1,2], [3, 4, 5], [6, 7, 8, 9]]\r\n",
        "'''for i in l:\r\n",
        "  print(i)\r\n",
        "print(l[0])\r\n",
        "print(l[0][0])\r\n",
        "print(l[0][-1]) # print(l[0][1])\r\n",
        "print(l[2][3]) # print(l[-1][-1])'''\r\n",
        "l[0].insert(0, 0)\r\n",
        "print(l)\r\n",
        "l[2].remove(6)\r\n",
        "print(l)\r\n",
        "del (l[-1][-1])\r\n",
        "print(l)"
      ],
      "execution_count": 11,
      "outputs": [
        {
          "output_type": "stream",
          "text": [
            "[[0, 1, 2], [3, 4, 5], [6, 7, 8, 9]]\n",
            "[[0, 1, 2], [3, 4, 5], [7, 8, 9]]\n",
            "[[0, 1, 2], [3, 4, 5], [7, 8]]\n"
          ],
          "name": "stdout"
        }
      ]
    },
    {
      "cell_type": "code",
      "metadata": {
        "colab": {
          "base_uri": "https://localhost:8080/"
        },
        "id": "NIoewPJcSkmI",
        "outputId": "caff8f72-a41a-4468-e7fb-4f38fa56e1f1"
      },
      "source": [
        "# Exercise\r\n",
        "l= [[2,1], [4,3], [6,5]]\r\n",
        "# Sort the above list of lists in Assending order\r\n",
        "l[0].sort()\r\n",
        "l[1].sort()\r\n",
        "l[2].sort()\r\n",
        "print(l)"
      ],
      "execution_count": 15,
      "outputs": [
        {
          "output_type": "stream",
          "text": [
            "[[1, 2], [3, 4], [5, 6]]\n"
          ],
          "name": "stdout"
        }
      ]
    },
    {
      "cell_type": "code",
      "metadata": {
        "colab": {
          "base_uri": "https://localhost:8080/"
        },
        "id": "2WoL4oiKWFD7",
        "outputId": "43f71fef-b281-4e9a-e0ae-a1dc82857fb1"
      },
      "source": [
        "l= [1, 2, 4, 5, 6]\r\n",
        "l.insert(2, 3)\r\n",
        "print(l)"
      ],
      "execution_count": 17,
      "outputs": [
        {
          "output_type": "stream",
          "text": [
            "[1, 2, 3, 4, 5, 6]\n"
          ],
          "name": "stdout"
        }
      ]
    },
    {
      "cell_type": "code",
      "metadata": {
        "id": "fDc7GCWqW5Sm"
      },
      "source": [
        "''' Tuple - Tuple is a class in Python.\r\n",
        "          - Tuples are immutable like strings.\r\n",
        "          - Tuple elements/objects might be mutable.\r\n",
        "          - Tuple is a data structure. (data type)\r\n",
        "          - Tuples are sequences.\r\n",
        "          - Tuples stores Heterogeneous Elements.\r\n",
        "          - Tuples are not growable.'''\r\n"
      ],
      "execution_count": null,
      "outputs": []
    },
    {
      "cell_type": "code",
      "metadata": {
        "colab": {
          "base_uri": "https://localhost:8080/"
        },
        "id": "-v1Yo3RcY5iG",
        "outputId": "44e14d42-38bb-49f9-e753-48a057811261"
      },
      "source": [
        "t= () # Empty tuple\r\n",
        "t1= tuple() # Empty tuple\r\n",
        "t2= (1, ) # tuple with 1 element should contain comma operator\r\n",
        "t3= 1, # Tuple with 1 element should contain comma operator\r\n",
        "t4= 1, 2.3, \"Aditya\", [1,2,3], (2+4j) # tuple with heterogeneous Elements\r\n",
        "t5= (1, 2.3, \"Aditya\", [1,2,3], (2+4j)) # tuple with heterogeneous Elements\r\n",
        "print(t, t1, t2, t3, t4, t5, sep= '\\n')"
      ],
      "execution_count": 22,
      "outputs": [
        {
          "output_type": "stream",
          "text": [
            "()\n",
            "()\n",
            "(1,)\n",
            "(1,)\n",
            "(1, 2.3, 'Aditya', [1, 2, 3], (2+4j))\n",
            "(1, 2.3, 'Aditya', [1, 2, 3], (2+4j))\n"
          ],
          "name": "stdout"
        }
      ]
    },
    {
      "cell_type": "code",
      "metadata": {
        "colab": {
          "base_uri": "https://localhost:8080/"
        },
        "id": "3J44PD9nZMcf",
        "outputId": "5d6d416d-18cb-4b48-8d82-629aa950cb65"
      },
      "source": [
        "t= 1, 2, 3, 4\r\n",
        "a, b, c, d = 1, 2, 3, 4\r\n",
        "print(type(t), t)\r\n",
        "print(type(a), type(b), type(c), type(d), a, b, c, d, sep= '\\t')"
      ],
      "execution_count": 28,
      "outputs": [
        {
          "output_type": "stream",
          "text": [
            "<class 'tuple'> (1, 2, 3, 4)\n",
            "<class 'int'>\t<class 'int'>\t<class 'int'>\t<class 'int'>\t1\t2\t3\t4\n"
          ],
          "name": "stdout"
        }
      ]
    },
    {
      "cell_type": "code",
      "metadata": {
        "colab": {
          "base_uri": "https://localhost:8080/"
        },
        "id": "rDu82QQPbgu-",
        "outputId": "3908b482-7784-4c60-fc38-1cc6524ae993"
      },
      "source": [
        "# Passing iterable\r\n",
        "s= \"ADITYA\"\r\n",
        "l= list(s)\r\n",
        "print(l)\r\n",
        "l1= [1, \"Aditya\"]\r\n",
        "t= tuple(l1)\r\n",
        "print(t)\r\n",
        "l2= list(t)\r\n",
        "print(l2)\r\n",
        "t1= tuple(s)\r\n",
        "print(t1)"
      ],
      "execution_count": 37,
      "outputs": [
        {
          "output_type": "stream",
          "text": [
            "['A', 'D', 'I', 'T', 'Y', 'A']\n",
            "(1, 'Aditya')\n",
            "[1, 'Aditya']\n",
            "('A', 'D', 'I', 'T', 'Y', 'A')\n"
          ],
          "name": "stdout"
        }
      ]
    },
    {
      "cell_type": "code",
      "metadata": {
        "colab": {
          "base_uri": "https://localhost:8080/"
        },
        "id": "MFEuQYvHcgrP",
        "outputId": "21f93eb0-d767-4126-d976-78bc2ae6c4c8"
      },
      "source": [
        "a= \"Aditya\"\r\n",
        "b= \"Engineering\"\r\n",
        "c= \"College\"\r\n",
        "t= a, b, c\r\n",
        "print(t)"
      ],
      "execution_count": 43,
      "outputs": [
        {
          "output_type": "stream",
          "text": [
            "('Aditya', 'Engineering', 'College')\n"
          ],
          "name": "stdout"
        }
      ]
    },
    {
      "cell_type": "code",
      "metadata": {
        "colab": {
          "base_uri": "https://localhost:8080/"
        },
        "id": "aOxd2CYueAIY",
        "outputId": "b42fb661-dc8a-4bbe-eb57-d186dfb57c4a"
      },
      "source": [
        "t= (1, 2, [3,4], (5,6))\r\n",
        "print(t[2])\r\n",
        "print(t[-1])"
      ],
      "execution_count": 45,
      "outputs": [
        {
          "output_type": "stream",
          "text": [
            "[3, 4]\n",
            "(5, 6)\n"
          ],
          "name": "stdout"
        }
      ]
    },
    {
      "cell_type": "code",
      "metadata": {
        "colab": {
          "base_uri": "https://localhost:8080/",
          "height": 212
        },
        "id": "Nsr7djLYegiO",
        "outputId": "2c77868a-8ea2-48f4-905b-6c94b45c79df"
      },
      "source": [
        "t= (1, [2,3], 3.4, (5, 6))\r\n",
        "print(t.index((5,6)))\r\n",
        "print(t.index(10))"
      ],
      "execution_count": 50,
      "outputs": [
        {
          "output_type": "stream",
          "text": [
            "3\n"
          ],
          "name": "stdout"
        },
        {
          "output_type": "error",
          "ename": "ValueError",
          "evalue": "ignored",
          "traceback": [
            "\u001b[0;31m---------------------------------------------------------------------------\u001b[0m",
            "\u001b[0;31mValueError\u001b[0m                                Traceback (most recent call last)",
            "\u001b[0;32m<ipython-input-50-0583aa7007d7>\u001b[0m in \u001b[0;36m<module>\u001b[0;34m()\u001b[0m\n\u001b[1;32m      1\u001b[0m \u001b[0mt\u001b[0m\u001b[0;34m=\u001b[0m \u001b[0;34m(\u001b[0m\u001b[0;36m1\u001b[0m\u001b[0;34m,\u001b[0m \u001b[0;34m[\u001b[0m\u001b[0;36m2\u001b[0m\u001b[0;34m,\u001b[0m\u001b[0;36m3\u001b[0m\u001b[0;34m]\u001b[0m\u001b[0;34m,\u001b[0m \u001b[0;36m3.4\u001b[0m\u001b[0;34m,\u001b[0m \u001b[0;34m(\u001b[0m\u001b[0;36m5\u001b[0m\u001b[0;34m,\u001b[0m \u001b[0;36m6\u001b[0m\u001b[0;34m)\u001b[0m\u001b[0;34m)\u001b[0m\u001b[0;34m\u001b[0m\u001b[0;34m\u001b[0m\u001b[0m\n\u001b[1;32m      2\u001b[0m \u001b[0mprint\u001b[0m\u001b[0;34m(\u001b[0m\u001b[0mt\u001b[0m\u001b[0;34m.\u001b[0m\u001b[0mindex\u001b[0m\u001b[0;34m(\u001b[0m\u001b[0;34m(\u001b[0m\u001b[0;36m5\u001b[0m\u001b[0;34m,\u001b[0m\u001b[0;36m6\u001b[0m\u001b[0;34m)\u001b[0m\u001b[0;34m)\u001b[0m\u001b[0;34m)\u001b[0m\u001b[0;34m\u001b[0m\u001b[0;34m\u001b[0m\u001b[0m\n\u001b[0;32m----> 3\u001b[0;31m \u001b[0mprint\u001b[0m\u001b[0;34m(\u001b[0m\u001b[0mt\u001b[0m\u001b[0;34m.\u001b[0m\u001b[0mindex\u001b[0m\u001b[0;34m(\u001b[0m\u001b[0;36m10\u001b[0m\u001b[0;34m)\u001b[0m\u001b[0;34m)\u001b[0m\u001b[0;34m\u001b[0m\u001b[0;34m\u001b[0m\u001b[0m\n\u001b[0m",
            "\u001b[0;31mValueError\u001b[0m: tuple.index(x): x not in tuple"
          ]
        }
      ]
    },
    {
      "cell_type": "code",
      "metadata": {
        "id": "qLXcxajph3k_"
      },
      "source": [
        ""
      ],
      "execution_count": null,
      "outputs": []
    }
  ]
}