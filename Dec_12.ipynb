{
  "nbformat": 4,
  "nbformat_minor": 0,
  "metadata": {
    "colab": {
      "name": "Dec_12.ipynb",
      "provenance": [],
      "collapsed_sections": [],
      "authorship_tag": "ABX9TyMeRE4xdjsqYRZITJ85yrm6",
      "include_colab_link": true
    },
    "kernelspec": {
      "name": "python3",
      "display_name": "Python 3"
    }
  },
  "cells": [
    {
      "cell_type": "markdown",
      "metadata": {
        "id": "view-in-github",
        "colab_type": "text"
      },
      "source": [
        "<a href=\"https://colab.research.google.com/github/bvinaykumarmtech/Python/blob/master/Dec_12.ipynb\" target=\"_parent\"><img src=\"https://colab.research.google.com/assets/colab-badge.svg\" alt=\"Open In Colab\"/></a>"
      ]
    },
    {
      "cell_type": "code",
      "metadata": {
        "colab": {
          "base_uri": "https://localhost:8080/"
        },
        "id": "k5It1t7JIMLG",
        "outputId": "08dda8a4-34f1-4486-d1ab-ca23aff9756d"
      },
      "source": [
        "# Exercise (Display Numbers with range())\r\n",
        "for i in range(11): # start= 0, stop= 10, step= 1\r\n",
        "  print(i, end= ' ')\r\n"
      ],
      "execution_count": 2,
      "outputs": [
        {
          "output_type": "stream",
          "text": [
            "0 1 2 3 4 5 6 7 8 9 10 "
          ],
          "name": "stdout"
        }
      ]
    },
    {
      "cell_type": "code",
      "metadata": {
        "colab": {
          "base_uri": "https://localhost:8080/"
        },
        "id": "V-DLq9q3Ilq-",
        "outputId": "456ad17e-dc1b-4a37-cdaa-2b97eb67a7a6"
      },
      "source": [
        "# Exercise (Display Numbers with range())\r\n",
        "for i in range(1, 11): # start= 1, stop= 10, step= 1\r\n",
        "  print(i, end= ' ')"
      ],
      "execution_count": 3,
      "outputs": [
        {
          "output_type": "stream",
          "text": [
            "1 2 3 4 5 6 7 8 9 10 "
          ],
          "name": "stdout"
        }
      ]
    },
    {
      "cell_type": "code",
      "metadata": {
        "colab": {
          "base_uri": "https://localhost:8080/"
        },
        "id": "XnqNbRPUJByP",
        "outputId": "9c34e888-59f3-4123-a0b2-cd8607a4de20"
      },
      "source": [
        "# Exercise (Display Numbers with range())\r\n",
        "for i in range(1, 11, 2): # start= 1, stop= 10, step= 2\r\n",
        "  print(i, end= ' ')"
      ],
      "execution_count": 4,
      "outputs": [
        {
          "output_type": "stream",
          "text": [
            "1 3 5 7 9 "
          ],
          "name": "stdout"
        }
      ]
    },
    {
      "cell_type": "code",
      "metadata": {
        "colab": {
          "base_uri": "https://localhost:8080/"
        },
        "id": "sUEM-_AQJKbv",
        "outputId": "b1b77539-d741-41a4-9f5a-09ec89da2ca3"
      },
      "source": [
        "# Exercise (Display Numbers with range())\r\n",
        "for i in range(10, -10, -1): # start= 10, stop= -9, step= -1\r\n",
        "  print(i, end= ' ')"
      ],
      "execution_count": 8,
      "outputs": [
        {
          "output_type": "stream",
          "text": [
            "10 9 8 7 6 5 4 3 2 1 0 -1 -2 -3 -4 -5 -6 -7 -8 -9 "
          ],
          "name": "stdout"
        }
      ]
    },
    {
      "cell_type": "code",
      "metadata": {
        "colab": {
          "base_uri": "https://localhost:8080/"
        },
        "id": "bkH9doDLJkcg",
        "outputId": "de16dc8a-49b5-4ede-d1e5-57dc239714ee"
      },
      "source": [
        "# Exercise (12 Table)  1 X 12 = 12\r\n",
        "num= 12\r\n",
        "for i in range(1, 21):\r\n",
        "  print(i, 'X', num, '=', i* num )\r\n"
      ],
      "execution_count": 10,
      "outputs": [
        {
          "output_type": "stream",
          "text": [
            "1 X 12 = 12\n",
            "2 X 12 = 24\n",
            "3 X 12 = 36\n",
            "4 X 12 = 48\n",
            "5 X 12 = 60\n",
            "6 X 12 = 72\n",
            "7 X 12 = 84\n",
            "8 X 12 = 96\n",
            "9 X 12 = 108\n",
            "10 X 12 = 120\n",
            "11 X 12 = 132\n",
            "12 X 12 = 144\n",
            "13 X 12 = 156\n",
            "14 X 12 = 168\n",
            "15 X 12 = 180\n",
            "16 X 12 = 192\n",
            "17 X 12 = 204\n",
            "18 X 12 = 216\n",
            "19 X 12 = 228\n",
            "20 X 12 = 240\n"
          ],
          "name": "stdout"
        }
      ]
    },
    {
      "cell_type": "code",
      "metadata": {
        "colab": {
          "base_uri": "https://localhost:8080/"
        },
        "id": "Hrh15L7KK057",
        "outputId": "82dc6dff-3d25-4610-ea3d-d7141395162c"
      },
      "source": [
        "for i in range(5):\r\n",
        "  print('* * * * *')"
      ],
      "execution_count": 16,
      "outputs": [
        {
          "output_type": "stream",
          "text": [
            "* * * * *\n",
            "* * * * *\n",
            "* * * * *\n",
            "* * * * *\n",
            "* * * * *\n"
          ],
          "name": "stdout"
        }
      ]
    },
    {
      "cell_type": "code",
      "metadata": {
        "colab": {
          "base_uri": "https://localhost:8080/"
        },
        "id": "IMzZDMvaLOQI",
        "outputId": "d7d48fd6-b78b-4120-d525-9f63cf3bd6f7"
      },
      "source": [
        "for i in range(1, 6):\r\n",
        "  print(i, i, i, i, i)"
      ],
      "execution_count": 17,
      "outputs": [
        {
          "output_type": "stream",
          "text": [
            "1 1 1 1 1\n",
            "2 2 2 2 2\n",
            "3 3 3 3 3\n",
            "4 4 4 4 4\n",
            "5 5 5 5 5\n"
          ],
          "name": "stdout"
        }
      ]
    },
    {
      "cell_type": "code",
      "metadata": {
        "colab": {
          "base_uri": "https://localhost:8080/"
        },
        "id": "4MwM1Sy6MANx",
        "outputId": "96e5ac4e-e7f2-49e9-a92f-0b234c4e2837"
      },
      "source": [
        "for i in range(1, 6):\r\n",
        "  print(i, i+1, i+2, i+3, i+4)"
      ],
      "execution_count": 19,
      "outputs": [
        {
          "output_type": "stream",
          "text": [
            "1 2 3 4 5\n",
            "2 3 4 5 6\n",
            "3 4 5 6 7\n",
            "4 5 6 7 8\n",
            "5 6 7 8 9\n"
          ],
          "name": "stdout"
        }
      ]
    },
    {
      "cell_type": "code",
      "metadata": {
        "colab": {
          "base_uri": "https://localhost:8080/"
        },
        "id": "OZTHYjVBMHpu",
        "outputId": "b234edff-a405-4de5-b8b8-f9edb11a08a2"
      },
      "source": [
        "# Exercise (Pattern)\r\n",
        "'''\r\n",
        "* * * * *\r\n",
        "* * * * *\r\n",
        "* * * * *\r\n",
        "* * * * *\r\n",
        "* * * * *\r\n",
        "'''\r\n",
        "Rows= 5\r\n",
        "Columns= 5\r\n",
        "for i in range(Rows): # i= 0, 1, 2, 3, 4\r\n",
        "  for j in range (Columns): # j= 0, 1, 2, 3, 4, j= 0, 1, 2, 3, 4, J= 0, 1, 2, 3, 4, j= 0, 1, 2, 3, 4, j= 0, 1, 2, 3, 4\r\n",
        "    print('*', end= ' ')\r\n",
        "  print()\r\n",
        "else:\r\n",
        "  print('Pattern Successfully Printed')"
      ],
      "execution_count": 21,
      "outputs": [
        {
          "output_type": "stream",
          "text": [
            "* * * * * \n",
            "* * * * * \n",
            "* * * * * \n",
            "* * * * * \n",
            "* * * * * \n",
            "Pattern Successfully Printed\n"
          ],
          "name": "stdout"
        }
      ]
    },
    {
      "cell_type": "code",
      "metadata": {
        "colab": {
          "base_uri": "https://localhost:8080/"
        },
        "id": "1K7LCg03P9lF",
        "outputId": "598f9139-c8ec-4c96-e85f-19441d14116d"
      },
      "source": [
        "# Exercise (Pattern)\r\n",
        "'''\r\n",
        "1 1 1 1 1\r\n",
        "2 2 2 2 2\r\n",
        "3 3 3 3 3\r\n",
        "4 4 4 4 4\r\n",
        "5 5 5 5 5\r\n",
        "'''\r\n",
        "for row in range(1, 6): # row= 1, 2, 3, 4, 5\r\n",
        "  for column in range(1, 6): # column= 1, 2, 3, 4, 5\r\n",
        "    print(row, end= ' ') # print i value\r\n",
        "  print() # going for next line after 1st row is over\r\n",
        "else:\r\n",
        "  print('Successful')"
      ],
      "execution_count": 23,
      "outputs": [
        {
          "output_type": "stream",
          "text": [
            "1 1 1 1 1 \n",
            "2 2 2 2 2 \n",
            "3 3 3 3 3 \n",
            "4 4 4 4 4 \n",
            "5 5 5 5 5 \n",
            "Successful\n"
          ],
          "name": "stdout"
        }
      ]
    },
    {
      "cell_type": "code",
      "metadata": {
        "colab": {
          "base_uri": "https://localhost:8080/"
        },
        "id": "j_4wzjXRReyR",
        "outputId": "6c145014-5ff6-4d24-a311-2777e51a331d"
      },
      "source": [
        "# Exercise (Pattern)\r\n",
        "'''\r\n",
        "1 2 3 4 5    \r\n",
        "1 2 3 4 5   \r\n",
        "1 2 3 4 5\r\n",
        "1 2 3 4 5\r\n",
        "1 2 3 4 5\r\n",
        "'''\r\n",
        "for row in range(1, 6):\r\n",
        "  for column in range(1, 6):\r\n",
        "    print(column, end= ' ')\r\n",
        "  print()\r\n",
        "else:\r\n",
        "  print('Successful')\r\n"
      ],
      "execution_count": 24,
      "outputs": [
        {
          "output_type": "stream",
          "text": [
            "1 2 3 4 5 \n",
            "1 2 3 4 5 \n",
            "1 2 3 4 5 \n",
            "1 2 3 4 5 \n",
            "1 2 3 4 5 \n",
            "Successful\n"
          ],
          "name": "stdout"
        }
      ]
    },
    {
      "cell_type": "code",
      "metadata": {
        "colab": {
          "base_uri": "https://localhost:8080/"
        },
        "id": "DqQRGWotT87U",
        "outputId": "fc6a7a68-8b3a-4e1a-a256-a40e49832d8f"
      },
      "source": [
        "N= int(input('Enter a Number:  '))\r\n",
        "M= int(input('Enter a Number:  '))\r\n",
        "for row in range(N):\r\n",
        "  for column in range(M):\r\n",
        "    print(column+1, end= ' ')\r\n",
        "  print()\r\n",
        "else:\r\n",
        "  print('Success')"
      ],
      "execution_count": 30,
      "outputs": [
        {
          "output_type": "stream",
          "text": [
            "Enter a Number:  6\n",
            "Enter a Number:  9\n",
            "1 2 3 4 5 6 7 8 9 \n",
            "1 2 3 4 5 6 7 8 9 \n",
            "1 2 3 4 5 6 7 8 9 \n",
            "1 2 3 4 5 6 7 8 9 \n",
            "1 2 3 4 5 6 7 8 9 \n",
            "1 2 3 4 5 6 7 8 9 \n",
            "Success\n"
          ],
          "name": "stdout"
        }
      ]
    },
    {
      "cell_type": "code",
      "metadata": {
        "colab": {
          "base_uri": "https://localhost:8080/"
        },
        "id": "Bhsi2HGgUjUP",
        "outputId": "989fb073-3fae-43dc-db14-2c4ee9a63b82"
      },
      "source": [
        "# Exercise (Pattern)\r\n",
        "'''\r\n",
        "* \r\n",
        "* * \r\n",
        "* * * \r\n",
        "* * * * \r\n",
        "* * * * *\r\n",
        "'''\r\n",
        "N= int(input('Enter any Positive integer:'))\r\n",
        "for row in range(1, N+1): # row= 1, 2, 3, 4, 5\r\n",
        "  for column in range(row): # column= 1 column= 1, 2 column= 1, 2, 3 column= 1, 2, 3, 4 column= 1, 2, 3, 4, 5\r\n",
        "    print('*', end= ' ')\r\n",
        "  print()\r\n",
        "else:\r\n",
        "  print('Success')\r\n",
        "                 "
      ],
      "execution_count": 36,
      "outputs": [
        {
          "output_type": "stream",
          "text": [
            "Enter any Positive integer:10\n",
            "* \n",
            "* * \n",
            "* * * \n",
            "* * * * \n",
            "* * * * * \n",
            "* * * * * * \n",
            "* * * * * * * \n",
            "* * * * * * * * \n",
            "* * * * * * * * * \n",
            "* * * * * * * * * * \n",
            "Success\n"
          ],
          "name": "stdout"
        }
      ]
    },
    {
      "cell_type": "code",
      "metadata": {
        "colab": {
          "base_uri": "https://localhost:8080/"
        },
        "id": "d8Vcu1JzWJSY",
        "outputId": "118a57c2-75fe-4211-fc65-e90033a76e75"
      },
      "source": [
        "# Exercise (Pattern)\r\n",
        "'''\r\n",
        "1  \r\n",
        "2 2  \r\n",
        "3 3 3  \r\n",
        "4 4 4 4  \r\n",
        "5 5 5 5 5\r\n",
        "'''\r\n",
        "N= int(input('Enter any positive number:   '))\r\n",
        "for row in range(1, N+1): # row= 1, 2\r\n",
        "  for column in range(row): # column= 0 column= 0, 1\r\n",
        "    print(row, end= ' ')\r\n",
        "  print()\r\n",
        "else:\r\n",
        "  print('Success')\r\n"
      ],
      "execution_count": 38,
      "outputs": [
        {
          "output_type": "stream",
          "text": [
            "Enter any positive number:   8\n",
            "1 \n",
            "2 2 \n",
            "3 3 3 \n",
            "4 4 4 4 \n",
            "5 5 5 5 5 \n",
            "6 6 6 6 6 6 \n",
            "7 7 7 7 7 7 7 \n",
            "8 8 8 8 8 8 8 8 \n",
            "Success\n"
          ],
          "name": "stdout"
        }
      ]
    },
    {
      "cell_type": "code",
      "metadata": {
        "colab": {
          "base_uri": "https://localhost:8080/"
        },
        "id": "uBvs0TQjXBu3",
        "outputId": "1562f4ea-3da9-4f41-d22c-d491d5b83f5c"
      },
      "source": [
        "# Exercise (Pattern)\r\n",
        "'''\r\n",
        "1\r\n",
        "1 2\r\n",
        "1 2 3\r\n",
        "1 2 3 4\r\n",
        "1 2 3 4 5\r\n",
        "'''\r\n",
        "for row in range(1, 6): # row= 1\r\n",
        "  for column in range(row): # column= 0\r\n",
        "    print(column+1, end= ' ')\r\n",
        "  print()\r\n",
        "else:\r\n",
        "  print('Success')"
      ],
      "execution_count": 41,
      "outputs": [
        {
          "output_type": "stream",
          "text": [
            "1 \n",
            "1 2 \n",
            "1 2 3 \n",
            "1 2 3 4 \n",
            "1 2 3 4 5 \n",
            "Success\n"
          ],
          "name": "stdout"
        }
      ]
    },
    {
      "cell_type": "code",
      "metadata": {
        "id": "o-Eqw51vaWrb"
      },
      "source": [
        ""
      ],
      "execution_count": null,
      "outputs": []
    }
  ]
}