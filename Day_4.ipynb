{
 "cells": [
  {
   "cell_type": "markdown",
   "metadata": {},
   "source": [
    "#### There are four collection data types in the Python programming language: <br>\n",
    "\n",
    "**List** is a collection which is ordered and changeable. Allows duplicate members.<br>\n",
    "**Tuple** is a collection which is ordered and unchangeable. Allows duplicate members.<br>\n",
    "**Set** is a collection which is unordered and unindexed. No duplicate members.<br>\n",
    "**Dictionary** is a collection which is unordered, changeable and indexed. No duplicate members.<br>\n",
    "When choosing a collection type, it is useful to understand the properties of that type. <br>\n",
    "Choosing the right type for a particular data set could mean retention of meaning, and,<br>\n",
    "it could mean an increase in efficiency or security."
   ]
  },
  {
   "cell_type": "code",
   "execution_count": 1,
   "metadata": {},
   "outputs": [
    {
     "name": "stdout",
     "output_type": "stream",
     "text": [
      "YES! We have a match!\n"
     ]
    }
   ],
   "source": [
    "import re\n",
    "\n",
    "#Check if the string starts with \"The\" and ends with \"Spain\":\n",
    "\n",
    "txt = \"The rain in Spain\"\n",
    "x = re.search(\"^The.*Spain$\", txt)\n",
    "\n",
    "if (x):\n",
    "  print(\"YES! We have a match!\")\n",
    "else:\n",
    "  print(\"No match\")"
   ]
  },
  {
   "cell_type": "code",
   "execution_count": 2,
   "metadata": {},
   "outputs": [
    {
     "name": "stdout",
     "output_type": "stream",
     "text": [
      "['The', 'rain', 'in', 'Spain']\n"
     ]
    }
   ],
   "source": [
    "import re\n",
    "\n",
    "#Split the string at every white-space character:\n",
    "\n",
    "str = \"The rain in Spain\"\n",
    "x = re.split(\"\\s\", str)\n",
    "print(x)"
   ]
  },
  {
   "cell_type": "code",
   "execution_count": 5,
   "metadata": {},
   "outputs": [
    {
     "name": "stdout",
     "output_type": "stream",
     "text": [
      "['The', 'rain in Spain']\n"
     ]
    }
   ],
   "source": [
    "import re\n",
    "\n",
    "#Split the string at the first white-space character:\n",
    "\n",
    "str = \"The rain in Spain\"\n",
    "x = re.split(\"\\s\", str, 1)\n",
    "print(x)"
   ]
  },
  {
   "cell_type": "code",
   "execution_count": 6,
   "metadata": {},
   "outputs": [
    {
     "name": "stdout",
     "output_type": "stream",
     "text": [
      "The9rain9in9Spain\n"
     ]
    }
   ],
   "source": [
    "import re\n",
    "\n",
    "#Replace all white-space characters with the digit \"9\":\n",
    "\n",
    "str = \"The rain in Spain\"\n",
    "x = re.sub(\"\\s\", \"9\", str)\n",
    "print(x)"
   ]
  },
  {
   "cell_type": "code",
   "execution_count": 7,
   "metadata": {},
   "outputs": [
    {
     "name": "stdout",
     "output_type": "stream",
     "text": [
      "The9rain9in Spain\n"
     ]
    }
   ],
   "source": [
    "import re\n",
    "\n",
    "#Replace the first two occurrences of a white-space character with the digit 9:\n",
    "\n",
    "str = \"The rain in Spain\"\n",
    "x = re.sub(\"\\s\", \"9\", str, 2)\n",
    "print(x)"
   ]
  },
  {
   "cell_type": "code",
   "execution_count": 8,
   "metadata": {},
   "outputs": [
    {
     "name": "stdout",
     "output_type": "stream",
     "text": [
      "(12, 17)\n"
     ]
    }
   ],
   "source": [
    "import re\n",
    "\n",
    "#Search for an upper case \"S\" character in the beginning of a word, and print its position:\n",
    "\n",
    "str = \"The rain in Spain\"\n",
    "x = re.search(r\"\\bS\\w+\", str)\n",
    "print(x.span())"
   ]
  },
  {
   "cell_type": "code",
   "execution_count": 11,
   "metadata": {},
   "outputs": [
    {
     "data": {
      "text/plain": [
       "<re.Match object; span=(0, 4), match='aaaa'>"
      ]
     },
     "execution_count": 11,
     "metadata": {},
     "output_type": "execute_result"
    }
   ],
   "source": [
    "import re\n",
    "re.search('a*', 'aaaainaya')"
   ]
  },
  {
   "cell_type": "code",
   "execution_count": 63,
   "metadata": {},
   "outputs": [
    {
     "data": {
      "text/plain": [
       "<re.Match object; span=(0, 2), match='vi'>"
      ]
     },
     "execution_count": 63,
     "metadata": {},
     "output_type": "execute_result"
    }
   ],
   "source": [
    "re.search('(vi)+', 'viiiaainy')"
   ]
  },
  {
   "cell_type": "code",
   "execution_count": 20,
   "metadata": {},
   "outputs": [
    {
     "data": {
      "text/plain": [
       "<re.Match object; span=(0, 2), match='vy'>"
      ]
     },
     "execution_count": 20,
     "metadata": {},
     "output_type": "execute_result"
    }
   ],
   "source": [
    "name = 'vy'\n",
    "pattern = '^v.*y$'\n",
    "re.search(pattern, name)"
   ]
  },
  {
   "cell_type": "code",
   "execution_count": 60,
   "metadata": {},
   "outputs": [
    {
     "data": {
      "text/plain": [
       "<re.Match object; span=(0, 5), match='vinay'>"
      ]
     },
     "execution_count": 60,
     "metadata": {},
     "output_type": "execute_result"
    }
   ],
   "source": [
    "name = 'vinay'\n",
    "pattern = '^v.+y$'\n",
    "re.search(pattern, name)"
   ]
  },
  {
   "cell_type": "markdown",
   "metadata": {},
   "source": [
    "### Program to check mobile number valid or not"
   ]
  },
  {
   "cell_type": "code",
   "execution_count": 58,
   "metadata": {},
   "outputs": [
    {
     "name": "stdout",
     "output_type": "stream",
     "text": [
      "9848022338\n",
      "8886528765\n"
     ]
    }
   ],
   "source": [
    "#Program to check mobile number valid or not\n",
    "mobiles = ['9848022338', '5432101234', '8886528765']\n",
    "for mobileno in mobiles:\n",
    "    if re.search('^[6-9]\\d{9}$', mobileno):\n",
    "        print(mobileno)"
   ]
  },
  {
   "cell_type": "code",
   "execution_count": 59,
   "metadata": {},
   "outputs": [
    {
     "data": {
      "text/plain": [
       "<re.Match object; span=(0, 5), match='vinay'>"
      ]
     },
     "execution_count": 59,
     "metadata": {},
     "output_type": "execute_result"
    }
   ],
   "source": [
    "name = 'vinay'\n",
    "pattern = '^v.+y$'\n",
    "re.search(pattern, name)"
   ]
  },
  {
   "cell_type": "markdown",
   "metadata": {},
   "source": [
    "### Files in Python\n",
    "- Python supports 2 types of Files Binary Files, Text Files\n",
    "- 7 modes for each file type\n",
    "- read(r), write(w), append(a), exclusive mode(write)(x), r+, w+, a+"
   ]
  },
  {
   "cell_type": "code",
   "execution_count": 110,
   "metadata": {},
   "outputs": [
    {
     "name": "stdout",
     "output_type": "stream",
     "text": [
      "line 1\n",
      "line 2\n",
      "line 3\n",
      "line 4\n",
      "line 5\n"
     ]
    }
   ],
   "source": [
    "# Program to open already existing file (book.txt) contents\n",
    "f = open('book.txt')\n",
    "contents = f.read()\n",
    "print(contents)\n",
    "f.close()"
   ]
  },
  {
   "cell_type": "code",
   "execution_count": 111,
   "metadata": {},
   "outputs": [],
   "source": [
    "# write()and mode='w' demonstration\n",
    "f = open('notes.txt', 'w')\n",
    "f.write('BVinay\\nKumar\\nM.Tech')\n",
    "f.close()"
   ]
  },
  {
   "cell_type": "code",
   "execution_count": 112,
   "metadata": {},
   "outputs": [],
   "source": [
    "#Copy the data from 'students.txt' to report.txt\n",
    "f = open('students.txt')\n",
    "f1 = open('report.txt','w')\n",
    "data = f.read()\n",
    "f1.write(data)\n",
    "f1.close()\n",
    "f.close()"
   ]
  },
  {
   "cell_type": "code",
   "execution_count": 113,
   "metadata": {},
   "outputs": [],
   "source": [
    "# mode = 'a' demonstration\n",
    "f = open('report.txt', 'a')\n",
    "f.write('\\nPython')\n",
    "f.close()"
   ]
  },
  {
   "cell_type": "code",
   "execution_count": 126,
   "metadata": {},
   "outputs": [
    {
     "name": "stdout",
     "output_type": "stream",
     "text": [
      "line 1\n",
      "line 2\n",
      "line 3\n",
      "line 4\n",
      "line 5\n",
      "\n"
     ]
    }
   ],
   "source": [
    "f = open ('book.txt')\n",
    "data = f.read()\n",
    "data1 = f.read()\n",
    "print(data)\n",
    "print(data1)\n",
    "f2.close()"
   ]
  },
  {
   "cell_type": "code",
   "execution_count": 133,
   "metadata": {},
   "outputs": [
    {
     "name": "stdout",
     "output_type": "stream",
     "text": [
      "[1. 2. 3. 4.]\n"
     ]
    },
    {
     "data": {
      "text/plain": [
       "array([1., 2., 3., 4.])"
      ]
     },
     "execution_count": 133,
     "metadata": {},
     "output_type": "execute_result"
    }
   ],
   "source": [
    "from numpy import array\n",
    "a = array([4, 8, 12, 16])\n",
    "a = a / 4\n",
    "print(a)\n",
    "a"
   ]
  },
  {
   "cell_type": "code",
   "execution_count": 129,
   "metadata": {},
   "outputs": [
    {
     "ename": "TypeError",
     "evalue": "unsupported operand type(s) for /: 'list' and 'int'",
     "output_type": "error",
     "traceback": [
      "\u001b[1;31m---------------------------------------------------------------------------\u001b[0m",
      "\u001b[1;31mTypeError\u001b[0m                                 Traceback (most recent call last)",
      "\u001b[1;32m<ipython-input-129-30987fadd80d>\u001b[0m in \u001b[0;36m<module>\u001b[1;34m\u001b[0m\n\u001b[0;32m      1\u001b[0m \u001b[0mb\u001b[0m \u001b[1;33m=\u001b[0m \u001b[1;33m[\u001b[0m\u001b[1;36m4\u001b[0m\u001b[1;33m,\u001b[0m \u001b[1;36m8\u001b[0m\u001b[1;33m,\u001b[0m \u001b[1;36m12\u001b[0m\u001b[1;33m,\u001b[0m \u001b[1;36m16\u001b[0m\u001b[1;33m]\u001b[0m\u001b[1;33m\u001b[0m\u001b[1;33m\u001b[0m\u001b[0m\n\u001b[1;32m----> 2\u001b[1;33m \u001b[0mb\u001b[0m \u001b[1;33m=\u001b[0m \u001b[0mb\u001b[0m \u001b[1;33m/\u001b[0m \u001b[1;36m4\u001b[0m\u001b[1;33m\u001b[0m\u001b[1;33m\u001b[0m\u001b[0m\n\u001b[0m\u001b[0;32m      3\u001b[0m \u001b[0mprint\u001b[0m\u001b[1;33m(\u001b[0m\u001b[0mb\u001b[0m\u001b[1;33m)\u001b[0m\u001b[1;33m\u001b[0m\u001b[1;33m\u001b[0m\u001b[0m\n",
      "\u001b[1;31mTypeError\u001b[0m: unsupported operand type(s) for /: 'list' and 'int'"
     ]
    }
   ],
   "source": [
    "b = [4, 8, 12, 16]\n",
    "b = b / 4\n",
    "print(b)"
   ]
  },
  {
   "cell_type": "code",
   "execution_count": null,
   "metadata": {},
   "outputs": [],
   "source": []
  }
 ],
 "metadata": {
  "kernelspec": {
   "display_name": "Python 3",
   "language": "python",
   "name": "python3"
  },
  "language_info": {
   "codemirror_mode": {
    "name": "ipython",
    "version": 3
   },
   "file_extension": ".py",
   "mimetype": "text/x-python",
   "name": "python",
   "nbconvert_exporter": "python",
   "pygments_lexer": "ipython3",
   "version": "3.7.3"
  }
 },
 "nbformat": 4,
 "nbformat_minor": 2
}
