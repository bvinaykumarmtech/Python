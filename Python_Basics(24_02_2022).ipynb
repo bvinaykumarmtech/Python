{
  "nbformat": 4,
  "nbformat_minor": 0,
  "metadata": {
    "colab": {
      "name": "Python Basics(24-02-2022).ipynb",
      "provenance": [],
      "authorship_tag": "ABX9TyOND5POIG35sPTTP/jkF4fz",
      "include_colab_link": true
    },
    "kernelspec": {
      "name": "python3",
      "display_name": "Python 3"
    },
    "language_info": {
      "name": "python"
    }
  },
  "cells": [
    {
      "cell_type": "markdown",
      "metadata": {
        "id": "view-in-github",
        "colab_type": "text"
      },
      "source": [
        "<a href=\"https://colab.research.google.com/github/bvinaykumarmtech/Python/blob/master/Python_Basics(24_02_2022).ipynb\" target=\"_parent\"><img src=\"https://colab.research.google.com/assets/colab-badge.svg\" alt=\"Open In Colab\"/></a>"
      ]
    },
    {
      "cell_type": "code",
      "execution_count": 2,
      "metadata": {
        "colab": {
          "base_uri": "https://localhost:8080/"
        },
        "id": "3KGDvg8O9Hzs",
        "outputId": "50d7345b-aef0-4ce1-8f9d-05a9fe387d3a"
      },
      "outputs": [
        {
          "output_type": "stream",
          "name": "stdout",
          "text": [
            "['False', 'None', 'True', 'and', 'as', 'assert', 'async', 'await', 'break', 'class', 'continue', 'def', 'del', 'elif', 'else', 'except', 'finally', 'for', 'from', 'global', 'if', 'import', 'in', 'is', 'lambda', 'nonlocal', 'not', 'or', 'pass', 'raise', 'return', 'try', 'while', 'with', 'yield']\n"
          ]
        }
      ],
      "source": [
        "# How to print Keyword in Python\n",
        "import keyword\n",
        "print(keyword.kwlist)"
      ]
    },
    {
      "cell_type": "code",
      "source": [
        "# Write a Python Script to check whether or not the given number is Even.\n",
        "a = 6\n",
        "if a % 2 == 0:\n",
        "  print('The given number is Even', a)"
      ],
      "metadata": {
        "colab": {
          "base_uri": "https://localhost:8080/"
        },
        "id": "S0HsSbGa9iZk",
        "outputId": "7e8d9d50-d595-4d7a-8ec6-16b9c9cfa35f"
      },
      "execution_count": 4,
      "outputs": [
        {
          "output_type": "stream",
          "name": "stdout",
          "text": [
            "The given number is Even 6\n"
          ]
        }
      ]
    },
    {
      "cell_type": "code",
      "source": [
        "# Write a Python Script to check whether or not the given number is Odd.\n",
        "a = 7\n",
        "if a % 2 == 1:\n",
        "  print('The given number is Odd', a)"
      ],
      "metadata": {
        "colab": {
          "base_uri": "https://localhost:8080/"
        },
        "id": "VIC1g7sF-khf",
        "outputId": "bd8177cd-f7e6-4592-dc23-60f81851efcd"
      },
      "execution_count": 5,
      "outputs": [
        {
          "output_type": "stream",
          "name": "stdout",
          "text": [
            "The given number is Odd 7\n"
          ]
        }
      ]
    },
    {
      "cell_type": "code",
      "source": [
        "# Write a Python Script to check whether given Number is Even or Odd.\n",
        "a = int(input('Enter a Number:  '))\n",
        "if a % 2 == 0:\n",
        "  print('The given number is Even', a)\n",
        "else:\n",
        "  print('The given number is Odd', a)"
      ],
      "metadata": {
        "colab": {
          "base_uri": "https://localhost:8080/"
        },
        "id": "VScbQlAZ-4Zm",
        "outputId": "099d3c03-e9fc-44e2-9e3e-4cd9b3c80857"
      },
      "execution_count": 9,
      "outputs": [
        {
          "output_type": "stream",
          "name": "stdout",
          "text": [
            "Enter a Number:  26\n",
            "The given number is Even 26\n"
          ]
        }
      ]
    },
    {
      "cell_type": "code",
      "source": [
        "# Write a Python Script to display Even numbers from 1 to 10\n",
        "for i in range(0, 11):\n",
        "  if i%2==0:\n",
        "    print(i, 'is Even')"
      ],
      "metadata": {
        "colab": {
          "base_uri": "https://localhost:8080/"
        },
        "id": "9J0DUI5o_GD1",
        "outputId": "7a602893-7946-4802-97fb-b90b9df29953"
      },
      "execution_count": 12,
      "outputs": [
        {
          "output_type": "stream",
          "name": "stdout",
          "text": [
            "0 is Even\n",
            "2 is Even\n",
            "4 is Even\n",
            "6 is Even\n",
            "8 is Even\n",
            "10 is Even\n"
          ]
        }
      ]
    },
    {
      "cell_type": "code",
      "source": [
        "# Write a Python Script to display Both Even and Odd numbers from 1 to 10\n",
        "for i in range(0, 11):\n",
        "  if i%2==0:\n",
        "    print(i, 'is Even')\n",
        "  else:\n",
        "    print(i, 'is Odd')"
      ],
      "metadata": {
        "colab": {
          "base_uri": "https://localhost:8080/"
        },
        "id": "k7QFA-Do_seC",
        "outputId": "a71885fb-5112-4c54-9f6c-3c8d6a1fe6ac"
      },
      "execution_count": 13,
      "outputs": [
        {
          "output_type": "stream",
          "name": "stdout",
          "text": [
            "0 is Even\n",
            "1 is Odd\n",
            "2 is Even\n",
            "3 is Odd\n",
            "4 is Even\n",
            "5 is Odd\n",
            "6 is Even\n",
            "7 is Odd\n",
            "8 is Even\n",
            "9 is Odd\n",
            "10 is Even\n"
          ]
        }
      ]
    },
    {
      "cell_type": "code",
      "source": [
        "# Display Even Numbers from the list of Numbers\n",
        "L = [1, 2, 3, 4, 5, 6, 7, 8]\n",
        "for i in L:\n",
        "  if i%2==0:\n",
        "    print(i, 'is Even')"
      ],
      "metadata": {
        "colab": {
          "base_uri": "https://localhost:8080/"
        },
        "id": "vA0yPA2I_72x",
        "outputId": "726a7ccd-b83a-4ce6-b622-de929a9858f0"
      },
      "execution_count": 16,
      "outputs": [
        {
          "output_type": "stream",
          "name": "stdout",
          "text": [
            "2 is Even\n",
            "4 is Even\n",
            "6 is Even\n",
            "8 is Even\n"
          ]
        }
      ]
    },
    {
      "cell_type": "code",
      "source": [
        "# Write a Python script to perform sum over Even numbers in a List\n",
        "L = [1, 2, 3, 4, 5, 6, 7, 8]\n",
        "S = 0\n",
        "for i in L:\n",
        "  if i%2 == 0:\n",
        "    S = S+i\n",
        "print('Sum is: ', S)\n"
      ],
      "metadata": {
        "colab": {
          "base_uri": "https://localhost:8080/"
        },
        "id": "Mo9ul-M6AbV9",
        "outputId": "948ad890-50f4-4eb8-c7eb-664c76e2cc5f"
      },
      "execution_count": 18,
      "outputs": [
        {
          "output_type": "stream",
          "name": "stdout",
          "text": [
            "Sum is:  20\n"
          ]
        }
      ]
    },
    {
      "cell_type": "code",
      "source": [
        "# Write a Python script to perform sum over Odd numbers in a List\n",
        "L = [1, 2, 3, 4, 5, 6, 7, 8]\n",
        "S = 0\n",
        "for i in L:\n",
        "  if i%2 == 1:\n",
        "    S = S+i\n",
        "print('Sum is: ', S)"
      ],
      "metadata": {
        "colab": {
          "base_uri": "https://localhost:8080/"
        },
        "id": "S8YHRuO2A1k2",
        "outputId": "d1d9b24e-ad41-4e8e-e19c-f892aad70def"
      },
      "execution_count": 19,
      "outputs": [
        {
          "output_type": "stream",
          "name": "stdout",
          "text": [
            "Sum is:  16\n"
          ]
        }
      ]
    },
    {
      "cell_type": "code",
      "source": [
        "# Write a Python script to perform sum over Odd numbers in a List\n",
        "L = [1, 2, 3, 4, 5, 6, 7, 8]\n",
        "ESUM=0\n",
        "OSUM=0\n",
        "for i in L:\n",
        "  if i%2==1:\n",
        "    OSUM=OSUM+i\n",
        "  else:\n",
        "    ESUM=ESUM+i\n",
        "print('Even Sum', ESUM)\n",
        "print('Odd Sum', OSUM)"
      ],
      "metadata": {
        "colab": {
          "base_uri": "https://localhost:8080/"
        },
        "id": "TwWGxDTGBQ38",
        "outputId": "b78e20a6-5c11-48a7-ea5a-a48c8a68006a"
      },
      "execution_count": 21,
      "outputs": [
        {
          "output_type": "stream",
          "name": "stdout",
          "text": [
            "Even Sum 20\n",
            "Odd Sum 16\n"
          ]
        }
      ]
    },
    {
      "cell_type": "code",
      "source": [
        "# Write a Python Script to Product List Elements using range()\n",
        "L = [1, 2, 3, 4] # Ans: 1*2*3*4=?\n",
        "P = 1\n",
        "for i in range(len(L)):\n",
        "  P = P*L[i]\n",
        "print('The Product is:  ', P)\n",
        "\n"
      ],
      "metadata": {
        "colab": {
          "base_uri": "https://localhost:8080/"
        },
        "id": "pHRCzo1XBtJe",
        "outputId": "40a0ab22-5fc8-4729-ca78-5ca4cfce8fe2"
      },
      "execution_count": 25,
      "outputs": [
        {
          "output_type": "stream",
          "name": "stdout",
          "text": [
            "The Product is:   24\n"
          ]
        }
      ]
    },
    {
      "cell_type": "code",
      "source": [
        "# Write a Python Script to Product List Elements without using range()\n",
        "L = [1, 2, 3, 4] # Ans: 1*2*3*4=?\n",
        "P = 1\n",
        "for i in L:\n",
        "  P = P*i\n",
        "print('The Product is:  ', P)"
      ],
      "metadata": {
        "colab": {
          "base_uri": "https://localhost:8080/"
        },
        "id": "GN2l4xPKCkvd",
        "outputId": "97ed3c81-7dca-45c6-882d-38fa2855c79f"
      },
      "execution_count": 26,
      "outputs": [
        {
          "output_type": "stream",
          "name": "stdout",
          "text": [
            "The Product is:   24\n"
          ]
        }
      ]
    },
    {
      "cell_type": "code",
      "source": [
        "# Write a Python Script to Product Even Elements of List\n",
        "L = [1, 2, 3, 4, 5]\n",
        "P = 1\n",
        "for i in L:\n",
        "  if i%2==0:\n",
        "    P=P*i\n",
        "print(\"The Product is: \", P)\n"
      ],
      "metadata": {
        "colab": {
          "base_uri": "https://localhost:8080/"
        },
        "id": "4aRtoQ41DXvF",
        "outputId": "f061dcf8-fad3-4949-8fdf-60ab4dcef1c4"
      },
      "execution_count": 29,
      "outputs": [
        {
          "output_type": "stream",
          "name": "stdout",
          "text": [
            "The Product is:  8\n"
          ]
        }
      ]
    },
    {
      "cell_type": "code",
      "source": [
        "# Write a Python Script to Product Odd Elements of List\n",
        "L = [1, 2, 3, 4, 5]\n",
        "P = 1\n",
        "for i in L:\n",
        "  if i%2==1:\n",
        "    P=P*i\n",
        "print(\"The Product is: \", P)"
      ],
      "metadata": {
        "colab": {
          "base_uri": "https://localhost:8080/"
        },
        "id": "MywpdSQ7DvE-",
        "outputId": "1529e6a9-6f7e-4ed8-a68a-0811d70eddef"
      },
      "execution_count": 30,
      "outputs": [
        {
          "output_type": "stream",
          "name": "stdout",
          "text": [
            "The Product is:  15\n"
          ]
        }
      ]
    },
    {
      "cell_type": "code",
      "source": [
        "# Write a Pyrhon program to reverse the given number.\n",
        "# Example: Input: 123 Output: 321\n",
        "N = 123\n",
        "RNum=0\n",
        "while N>0:          # 123>0, 12>0, 1>0, 0>0\n",
        "  R = N % 10        # 3, 2, 1\n",
        "  RNum=RNum*10+R    # 3, 32, 321\n",
        "  N = N//10         # 12, 1, 0\n",
        "print('The Reversed Number is: ', RNum) # 321\n"
      ],
      "metadata": {
        "colab": {
          "base_uri": "https://localhost:8080/"
        },
        "id": "9TUQFrg7D3l-",
        "outputId": "90c6311b-a81e-4b56-c93e-e6c5fd4f79e7"
      },
      "execution_count": 43,
      "outputs": [
        {
          "output_type": "stream",
          "name": "stdout",
          "text": [
            "The Reversed Number is:  321\n"
          ]
        }
      ]
    },
    {
      "cell_type": "code",
      "source": [
        "# Write a Pyrhon program to sum the individual digits of a given number.\n",
        "# Example: input: 123 Output: 6\n",
        "N = 123\n",
        "ISum=0\n",
        "while N>0:      # 123>0, 12>0, 1>0, 0>0\n",
        "  R=N%10        # 3, 2, 1\n",
        "  ISum=ISum+R   # 3, 5, 6\n",
        "  N=N//10       # 12, 1, 0\n",
        "print('The Sum of Individual numbers is:', ISum) # 6"
      ],
      "metadata": {
        "colab": {
          "base_uri": "https://localhost:8080/"
        },
        "id": "kTcrRLE0GeCE",
        "outputId": "de88ca09-98ed-4d6b-98c8-1d7faee158e7"
      },
      "execution_count": 44,
      "outputs": [
        {
          "output_type": "stream",
          "name": "stdout",
          "text": [
            "The Sum of Individual numbers is: 6\n"
          ]
        }
      ]
    },
    {
      "cell_type": "code",
      "source": [
        "print(dir(str))"
      ],
      "metadata": {
        "colab": {
          "base_uri": "https://localhost:8080/"
        },
        "id": "R9S_qHLEIPt7",
        "outputId": "c4953a31-28e0-46ee-e223-dcaad46c1903"
      },
      "execution_count": 45,
      "outputs": [
        {
          "output_type": "stream",
          "name": "stdout",
          "text": [
            "['__add__', '__class__', '__contains__', '__delattr__', '__dir__', '__doc__', '__eq__', '__format__', '__ge__', '__getattribute__', '__getitem__', '__getnewargs__', '__gt__', '__hash__', '__init__', '__init_subclass__', '__iter__', '__le__', '__len__', '__lt__', '__mod__', '__mul__', '__ne__', '__new__', '__reduce__', '__reduce_ex__', '__repr__', '__rmod__', '__rmul__', '__setattr__', '__sizeof__', '__str__', '__subclasshook__', 'capitalize', 'casefold', 'center', 'count', 'encode', 'endswith', 'expandtabs', 'find', 'format', 'format_map', 'index', 'isalnum', 'isalpha', 'isascii', 'isdecimal', 'isdigit', 'isidentifier', 'islower', 'isnumeric', 'isprintable', 'isspace', 'istitle', 'isupper', 'join', 'ljust', 'lower', 'lstrip', 'maketrans', 'partition', 'replace', 'rfind', 'rindex', 'rjust', 'rpartition', 'rsplit', 'rstrip', 'split', 'splitlines', 'startswith', 'strip', 'swapcase', 'title', 'translate', 'upper', 'zfill']\n"
          ]
        }
      ]
    },
    {
      "cell_type": "code",
      "source": [
        "print(dir(list))"
      ],
      "metadata": {
        "colab": {
          "base_uri": "https://localhost:8080/"
        },
        "id": "k-TFes_gI0hP",
        "outputId": "312e373c-df4e-47cc-c031-e057536575fb"
      },
      "execution_count": 46,
      "outputs": [
        {
          "output_type": "stream",
          "name": "stdout",
          "text": [
            "['__add__', '__class__', '__contains__', '__delattr__', '__delitem__', '__dir__', '__doc__', '__eq__', '__format__', '__ge__', '__getattribute__', '__getitem__', '__gt__', '__hash__', '__iadd__', '__imul__', '__init__', '__init_subclass__', '__iter__', '__le__', '__len__', '__lt__', '__mul__', '__ne__', '__new__', '__reduce__', '__reduce_ex__', '__repr__', '__reversed__', '__rmul__', '__setattr__', '__setitem__', '__sizeof__', '__str__', '__subclasshook__', 'append', 'clear', 'copy', 'count', 'extend', 'index', 'insert', 'pop', 'remove', 'reverse', 'sort']\n"
          ]
        }
      ]
    },
    {
      "cell_type": "code",
      "source": [
        "# Syntax of If\n",
        "# if condition:\n",
        "#   statements\n",
        "# else:\n",
        "#   statements"
      ],
      "metadata": {
        "id": "ZVIloRyBI71X"
      },
      "execution_count": 47,
      "outputs": []
    },
    {
      "cell_type": "code",
      "source": [
        "# Write a Python Script to add Even indexed Elements of a List\n",
        "L = [1, 3, 5, 2, 7, 8, 6, 9]\n",
        "S = 0\n",
        "for i in range(len(L)): # i=0, i=1, i=2, ....., i=len(L)-1\n",
        "  if i%2==0:\n",
        "    S = S + L[i]        # Elements at Index i: 1, 5, 7, 6\n",
        "print('Sum is: ', S)\n",
        "\n"
      ],
      "metadata": {
        "colab": {
          "base_uri": "https://localhost:8080/"
        },
        "id": "MYMmGUcwJZWy",
        "outputId": "849ff140-0a86-48d6-8df2-bfd4eb5c9300"
      },
      "execution_count": 50,
      "outputs": [
        {
          "output_type": "stream",
          "name": "stdout",
          "text": [
            "Sum is:  19\n"
          ]
        }
      ]
    },
    {
      "cell_type": "code",
      "source": [
        "# Write a Python Script to add Odd indexed Elements of a List\n",
        "L = [1, 3, 5, 2, 7, 8, 6, 9]\n",
        "S = 0\n",
        "for i in range(len(L)):\n",
        "  if i%2==1:\n",
        "    S=S+L[i]\n",
        "print('The Odd Indexed Sum is: ', S)\n"
      ],
      "metadata": {
        "colab": {
          "base_uri": "https://localhost:8080/"
        },
        "id": "Yy1eTCTzLywM",
        "outputId": "a7e1d64d-c155-4254-9884-cd9f1bec88ea"
      },
      "execution_count": 52,
      "outputs": [
        {
          "output_type": "stream",
          "name": "stdout",
          "text": [
            "The Odd Indexed Sum is:  22\n"
          ]
        }
      ]
    },
    {
      "cell_type": "code",
      "source": [
        ""
      ],
      "metadata": {
        "id": "8P6GW9WGM887"
      },
      "execution_count": null,
      "outputs": []
    }
  ]
}