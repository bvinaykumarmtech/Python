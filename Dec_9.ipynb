{
  "nbformat": 4,
  "nbformat_minor": 0,
  "metadata": {
    "colab": {
      "name": "Dec_9.ipynb",
      "provenance": [],
      "authorship_tag": "ABX9TyP+0mMNHikBGUuVc2GYiagI",
      "include_colab_link": true
    },
    "kernelspec": {
      "name": "python3",
      "display_name": "Python 3"
    }
  },
  "cells": [
    {
      "cell_type": "markdown",
      "metadata": {
        "id": "view-in-github",
        "colab_type": "text"
      },
      "source": [
        "<a href=\"https://colab.research.google.com/github/bvinaykumarmtech/Python/blob/master/Dec_9.ipynb\" target=\"_parent\"><img src=\"https://colab.research.google.com/assets/colab-badge.svg\" alt=\"Open In Colab\"/></a>"
      ]
    },
    {
      "cell_type": "code",
      "metadata": {
        "colab": {
          "base_uri": "https://localhost:8080/"
        },
        "id": "6mrfB4rXq1YW",
        "outputId": "fe43e339-7428-44d8-efbd-927cf831c3e4"
      },
      "source": [
        "# Exercise (Python Script to display College name N number of times, where N is user provided value)\r\n",
        "# Algorithm\r\n",
        "'''\r\n",
        "Step 0: Start\r\n",
        "Step 1: read N value\r\n",
        "Step 2: display College Name\r\n",
        "Step 3: repeat Step 2 N number of times\r\n",
        "Step 4: End\r\n",
        "'''\r\n",
        "N= int(input('Enter N value:   ,')) # Reading N value\r\n",
        "i= 0 # Initialization of Loop control variable\r\n",
        "while i< N: # condition checking\r\n",
        "  # Body of loop begin\r\n",
        "  print(i+1, 'ADITYA ENGINEERING COLLEGE (Autonomous)')\r\n",
        "  i+= 1 # updating loop control variable\r\n",
        "else:\r\n",
        "  print('While Condition is Failed')"
      ],
      "execution_count": null,
      "outputs": [
        {
          "output_type": "stream",
          "text": [
            "Enter N value:   ,10\n",
            "1 ADITYA ENGINEERING COLLEGE (Autonomous)\n",
            "2 ADITYA ENGINEERING COLLEGE (Autonomous)\n",
            "3 ADITYA ENGINEERING COLLEGE (Autonomous)\n",
            "4 ADITYA ENGINEERING COLLEGE (Autonomous)\n",
            "5 ADITYA ENGINEERING COLLEGE (Autonomous)\n"
          ],
          "name": "stdout"
        }
      ]
    },
    {
      "cell_type": "code",
      "metadata": {
        "colab": {
          "base_uri": "https://localhost:8080/"
        },
        "id": "NLQendJ9vDcK",
        "outputId": "fb1a68d3-44e7-4397-d5a3-2f66966be3d4"
      },
      "source": [
        "N= int(input('Enter N value:   ,')) # Reading N value\r\n",
        "i= 0 # Initialization of Loop control variable\r\n",
        "while i< N: # condition checking\r\n",
        "  # Body of loop begin\r\n",
        "  if i== 5:\r\n",
        "    break # if this statements is executed then the execution controller will come out of the loop\r\n",
        "  print(i+1, 'ADITYA ENGINEERING COLLEGE (Autonomous)')\r\n",
        "  i+= 1 # updating loop control variable\r\n",
        "else:\r\n",
        "  print('While Condition is Failed') # if while condition is False, then only this statement will execute"
      ],
      "execution_count": null,
      "outputs": [
        {
          "output_type": "stream",
          "text": [
            "Enter N value:   ,10\n",
            "1 ADITYA ENGINEERING COLLEGE (Autonomous)\n",
            "2 ADITYA ENGINEERING COLLEGE (Autonomous)\n",
            "3 ADITYA ENGINEERING COLLEGE (Autonomous)\n",
            "4 ADITYA ENGINEERING COLLEGE (Autonomous)\n",
            "5 ADITYA ENGINEERING COLLEGE (Autonomous)\n"
          ],
          "name": "stdout"
        }
      ]
    },
    {
      "cell_type": "code",
      "metadata": {
        "colab": {
          "base_uri": "https://localhost:8080/"
        },
        "id": "EBkW8UPEwSVq",
        "outputId": "c013f1fb-a010-4a13-d7d3-1641d9853a14"
      },
      "source": [
        "N= int(input('Enter N value:   ,')) # Reading N value\r\n",
        "i= 0 # Initialization of Loop control variable\r\n",
        "while i< N: # condition checking\r\n",
        "  # Body of loop begin\r\n",
        "  i+= 1 # updating loop control variable\r\n",
        "  if i== 5:\r\n",
        "    continue # when this statement executes, Python interpreter skips the next statements and directly go to condition part of while\r\n",
        "  print(i, 'ADITYA ENGINEERING COLLEGE (Autonomous)')\r\n",
        "else:\r\n",
        "  print('While Condition is Failed') # if while condition is False, then only this statement will execute"
      ],
      "execution_count": null,
      "outputs": [
        {
          "output_type": "stream",
          "text": [
            "Enter N value:   ,10\n",
            "1 ADITYA ENGINEERING COLLEGE (Autonomous)\n",
            "2 ADITYA ENGINEERING COLLEGE (Autonomous)\n",
            "3 ADITYA ENGINEERING COLLEGE (Autonomous)\n",
            "4 ADITYA ENGINEERING COLLEGE (Autonomous)\n",
            "6 ADITYA ENGINEERING COLLEGE (Autonomous)\n",
            "7 ADITYA ENGINEERING COLLEGE (Autonomous)\n",
            "8 ADITYA ENGINEERING COLLEGE (Autonomous)\n",
            "9 ADITYA ENGINEERING COLLEGE (Autonomous)\n",
            "10 ADITYA ENGINEERING COLLEGE (Autonomous)\n",
            "While Condition is Failed\n"
          ],
          "name": "stdout"
        }
      ]
    },
    {
      "cell_type": "code",
      "metadata": {
        "colab": {
          "base_uri": "https://localhost:8080/"
        },
        "id": "raE393JSwjeW",
        "outputId": "ac185c91-131e-47e8-aca5-730a069c9788"
      },
      "source": [
        "# Exercise (Sum of Even and Odd numbers upto N)\r\n",
        "# Algorithm\r\n",
        "'''\r\n",
        "Step 0: Start\r\n",
        "Step 1: read N value\r\n",
        "Step 2: Initialize Even_Sum and Odd_Sum to 0.\r\n",
        "Step 3: Check the number is Even or Odd\r\n",
        "Step 3.1 If the number is Even, then add to Even_Sum\r\n",
        "Step 3.2 If the number is Odd, then add to Odd_Sum\r\n",
        "Step 4: repeat Step 3 until condition gets False\r\n",
        "Step 5: Stop\r\n",
        "'''\r\n",
        "N= int(input('Enter N value:  ,'))\r\n",
        "Even_Sum= 0\r\n",
        "Odd_Sum= 0\r\n",
        "i= 1\r\n",
        "while i<= N:\r\n",
        "  if i%2== 0:\r\n",
        "    Even_Sum= Even_Sum+ i\r\n",
        "  else:\r\n",
        "    Odd_Sum= Odd_Sum+ i\r\n",
        "  i= i+ 1\r\n",
        "print('Even Sum is: ,', Even_Sum)\r\n",
        "print('Odd Sum is: ,',Odd_Sum)\r\n",
        "print('Total is: ,', Even_Sum+ Odd_Sum)"
      ],
      "execution_count": null,
      "outputs": [
        {
          "output_type": "stream",
          "text": [
            "Enter N value:  ,10\n",
            "Even Sum is: , 30\n",
            "Odd Sum is: , 25\n",
            "Total is: , 55\n"
          ],
          "name": "stdout"
        }
      ]
    },
    {
      "cell_type": "code",
      "metadata": {
        "colab": {
          "base_uri": "https://localhost:8080/"
        },
        "id": "CkibEiyF1p_v",
        "outputId": "741cd17c-8a66-4f27-8903-01e98f72419a"
      },
      "source": [
        "# Display the numbers 1 to 10 using for loop\r\n",
        "# Algorithm\r\n",
        "'''\r\n",
        "Step 0: Start\r\n",
        "Step 1: Display the number\r\n",
        "Stem 2: repeat Step 1 till the sequence is over\r\n",
        "Step 3: Stop\r\n",
        "'''\r\n",
        "for i in range(1, 11): # 1, 2, 3, 4,... , 10, 11(False)\r\n",
        "  print(i, end= ' ')"
      ],
      "execution_count": null,
      "outputs": [
        {
          "output_type": "stream",
          "text": [
            "1 2 3 4 5 6 7 8 9 10 "
          ],
          "name": "stdout"
        }
      ]
    },
    {
      "cell_type": "code",
      "metadata": {
        "colab": {
          "base_uri": "https://localhost:8080/"
        },
        "id": "nsZzkkxf5ogC",
        "outputId": "ed7c8ea8-8cfb-470b-e4db-ad811ea9762c"
      },
      "source": [
        "# Display the numbers 1 to 10 using for loop\r\n",
        "# Algorithm\r\n",
        "'''\r\n",
        "Step 0: Start\r\n",
        "Step 1: Display the number\r\n",
        "Stem 2: repeat Step 1 till the sequence is over\r\n",
        "Step 3: Stop\r\n",
        "'''\r\n",
        "x= range(10)\r\n",
        "for i in x: # 1, 2, 3, 4,... , 10, 11(False)\r\n",
        "  print(i+1, 'ADITYA ENGINEERING COLLEGE')"
      ],
      "execution_count": null,
      "outputs": [
        {
          "output_type": "stream",
          "text": [
            "1 ADITYA ENGINEERING COLLEGE\n",
            "2 ADITYA ENGINEERING COLLEGE\n",
            "3 ADITYA ENGINEERING COLLEGE\n",
            "4 ADITYA ENGINEERING COLLEGE\n",
            "5 ADITYA ENGINEERING COLLEGE\n",
            "6 ADITYA ENGINEERING COLLEGE\n",
            "7 ADITYA ENGINEERING COLLEGE\n",
            "8 ADITYA ENGINEERING COLLEGE\n",
            "9 ADITYA ENGINEERING COLLEGE\n",
            "10 ADITYA ENGINEERING COLLEGE\n"
          ],
          "name": "stdout"
        }
      ]
    },
    {
      "cell_type": "code",
      "metadata": {
        "colab": {
          "base_uri": "https://localhost:8080/"
        },
        "id": "r-RxnBVl6r9Q",
        "outputId": "e404bb2b-7d0e-4866-bd3b-c354a95814f4"
      },
      "source": [
        "# Exercise (Sum of Even and Odd numbers upto 10) using for loop\r\n",
        "Even_Sum= 0\r\n",
        "Odd_Sum= 0\r\n",
        "for i in range(1, 11, 1):\r\n",
        "  if i%2== 0:\r\n",
        "    Even_Sum+= i\r\n",
        "  else:\r\n",
        "    Odd_Sum+= i\r\n",
        "else:\r\n",
        "  print('Odd Sum is:  ,', Odd_Sum)    \r\n",
        "  print('Even Sum is:  ,', Even_Sum)"
      ],
      "execution_count": 30,
      "outputs": [
        {
          "output_type": "stream",
          "text": [
            "Odd Sum is:  , 25\n",
            "Even Sum is:  , 30\n"
          ],
          "name": "stdout"
        }
      ]
    },
    {
      "cell_type": "code",
      "metadata": {
        "id": "M0Yhq1p07ldB"
      },
      "source": [
        ""
      ],
      "execution_count": null,
      "outputs": []
    }
  ]
}