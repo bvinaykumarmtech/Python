{
  "nbformat": 4,
  "nbformat_minor": 0,
  "metadata": {
    "colab": {
      "name": "Python Basics (08-03-2022).ipynb",
      "provenance": [],
      "authorship_tag": "ABX9TyNX5WERKJXKJ1/gTwFcUgQ3",
      "include_colab_link": true
    },
    "kernelspec": {
      "name": "python3",
      "display_name": "Python 3"
    },
    "language_info": {
      "name": "python"
    }
  },
  "cells": [
    {
      "cell_type": "markdown",
      "metadata": {
        "id": "view-in-github",
        "colab_type": "text"
      },
      "source": [
        "<a href=\"https://colab.research.google.com/github/bvinaykumarmtech/Python/blob/master/Python_Basics_(08_03_2022).ipynb\" target=\"_parent\"><img src=\"https://colab.research.google.com/assets/colab-badge.svg\" alt=\"Open In Colab\"/></a>"
      ]
    },
    {
      "cell_type": "code",
      "execution_count": null,
      "metadata": {
        "colab": {
          "base_uri": "https://localhost:8080/"
        },
        "id": "YLcSdQ9j1pAH",
        "outputId": "e59870d4-09d3-4a1a-b8e6-4ebc8a4c2827"
      },
      "outputs": [
        {
          "output_type": "stream",
          "name": "stdout",
          "text": [
            "Enter any Number:  56\n",
            "The Given Number is Even\n"
          ]
        }
      ],
      "source": [
        "# Even or Odd\n",
        "number = int(input('Enter any Number:  '))\n",
        "if number % 2 == 1:\n",
        "  print('The Given number is Odd')\n",
        "else:\n",
        "  print('The Given Number is Even')"
      ]
    },
    {
      "cell_type": "code",
      "source": [
        "# If Number is Even Say 'Hai' Otherwise 'Bye'\n",
        "number = int(input('Enter any Number:'))\n",
        "a = number % 2\n",
        "if a == 0:\n",
        "  print('Hai')\n",
        "else:\n",
        "  print('Bye')"
      ],
      "metadata": {
        "id": "M_g0MKQ521m8",
        "colab": {
          "base_uri": "https://localhost:8080/"
        },
        "outputId": "6409dd54-4959-4b63-a1f8-9576b31ae74b"
      },
      "execution_count": null,
      "outputs": [
        {
          "output_type": "stream",
          "name": "stdout",
          "text": [
            "Enter any Number:56\n",
            "Hai\n"
          ]
        }
      ]
    },
    {
      "cell_type": "code",
      "source": [
        "# List is a Sequence like Strings\n",
        "# List is Mutable\n",
        "# List is a Class\n",
        "# List is a Heterogeneous Container (It may have same type of elements or Different Type)\n",
        "\n",
        "# How to Create an Empty List\n",
        "\n",
        "L = list()\n",
        "# Adding Elements to a List\n",
        "L.append(1) # Integer\n",
        "L.append(2.2) # Float\n",
        "L.append(\"Paul\") # String\n",
        "\n",
        "# Displaying List Elements\n",
        "print(L)"
      ],
      "metadata": {
        "colab": {
          "base_uri": "https://localhost:8080/"
        },
        "id": "_17xAWt4MqnU",
        "outputId": "4de5c7b7-6622-4022-90c8-78aa87335ecd"
      },
      "execution_count": null,
      "outputs": [
        {
          "output_type": "stream",
          "name": "stdout",
          "text": [
            "[1, 2.2, 'Paul']\n"
          ]
        }
      ]
    },
    {
      "cell_type": "code",
      "source": [
        "# Element by Element Access\n",
        "for i in L:\n",
        "  print(i)"
      ],
      "metadata": {
        "colab": {
          "base_uri": "https://localhost:8080/"
        },
        "id": "Qrbzs4aZNn4z",
        "outputId": "cf114c08-b5df-4262-dae6-0b93c77d54a5"
      },
      "execution_count": null,
      "outputs": [
        {
          "output_type": "stream",
          "name": "stdout",
          "text": [
            "1\n",
            "2.2\n",
            "Paul\n"
          ]
        }
      ]
    },
    {
      "cell_type": "code",
      "source": [
        "for i in range(len(L)):\n",
        "  print(i, '=>', L[i])"
      ],
      "metadata": {
        "colab": {
          "base_uri": "https://localhost:8080/"
        },
        "id": "5UHX_eEROA-n",
        "outputId": "5e4aca16-c006-4818-da5b-c69af015ac7e"
      },
      "execution_count": null,
      "outputs": [
        {
          "output_type": "stream",
          "name": "stdout",
          "text": [
            "0 => 1\n",
            "1 => 2.2\n",
            "2 => Paul\n"
          ]
        }
      ]
    },
    {
      "cell_type": "code",
      "source": [
        "i = 0\n",
        "while i < len(L):\n",
        "  print(i, '=>', L[i])\n",
        "  i = i + 1"
      ],
      "metadata": {
        "colab": {
          "base_uri": "https://localhost:8080/"
        },
        "id": "vX1nWd2KOcqp",
        "outputId": "1c28c01d-dac9-411e-fca8-9b2075a2458a"
      },
      "execution_count": null,
      "outputs": [
        {
          "output_type": "stream",
          "name": "stdout",
          "text": [
            "0 => 1\n",
            "1 => 2.2\n",
            "2 => Paul\n"
          ]
        }
      ]
    },
    {
      "cell_type": "code",
      "source": [
        "# List of Integers\n",
        "L = [1, 2, 3, 4, 5, 6, 7]\n",
        "print('The Number of Elements of a List is: ', len(L)) # Length\n",
        "print(\"First Element of List is: \", L[0]) # Indexing\n",
        "print('Last Element of List is: ', L[-1])"
      ],
      "metadata": {
        "colab": {
          "base_uri": "https://localhost:8080/"
        },
        "id": "XDbdqzGcPVdX",
        "outputId": "717f363e-d0a1-4540-86da-5ac6b77adfeb"
      },
      "execution_count": null,
      "outputs": [
        {
          "output_type": "stream",
          "name": "stdout",
          "text": [
            "The Number of Elements of a List is:  7\n",
            "First Element of List is:  1\n",
            "Last Element of List is:  7\n"
          ]
        }
      ]
    },
    {
      "cell_type": "code",
      "source": [
        "# Accessing Alternative Elements (Slicing)\n",
        "print(L[0:6:2])"
      ],
      "metadata": {
        "colab": {
          "base_uri": "https://localhost:8080/"
        },
        "id": "MBjjL6H_P_AH",
        "outputId": "76705d22-ba28-43a0-b1d5-562c6e4e9d8f"
      },
      "execution_count": null,
      "outputs": [
        {
          "output_type": "stream",
          "name": "stdout",
          "text": [
            "[1, 3, 5]\n"
          ]
        }
      ]
    },
    {
      "cell_type": "code",
      "source": [
        "# Reverse the List\n",
        "print(L[::-1])\n"
      ],
      "metadata": {
        "colab": {
          "base_uri": "https://localhost:8080/"
        },
        "id": "YRuDvyqcRImv",
        "outputId": "1fd54ba7-43cc-4802-8ad6-69471cb8ebc8"
      },
      "execution_count": null,
      "outputs": [
        {
          "output_type": "stream",
          "name": "stdout",
          "text": [
            "[7, 6, 5, 4, 3, 2, 1]\n"
          ]
        }
      ]
    },
    {
      "cell_type": "code",
      "source": [
        "print(L)"
      ],
      "metadata": {
        "colab": {
          "base_uri": "https://localhost:8080/"
        },
        "id": "6lXaA49RRpPy",
        "outputId": "e234e1d7-b31d-40aa-8b27-ea8038f6fb5a"
      },
      "execution_count": null,
      "outputs": [
        {
          "output_type": "stream",
          "name": "stdout",
          "text": [
            "[1, 2, 3, 4, 5, 6, 7]\n"
          ]
        }
      ]
    },
    {
      "cell_type": "code",
      "source": [
        "# Compute Sum of List Elements\n",
        "L1 = [2, 4, 1, 5, 7, 6, 12, 36, 45] # Defining List\n",
        "S = 0 # Initializing Sum Variable\n",
        "for i in L1: # Accessing List Elements\n",
        "  S = S + i # Adding an Element to the List\n",
        "print(\"Sum of List is: \", S) # Displaying the Result"
      ],
      "metadata": {
        "colab": {
          "base_uri": "https://localhost:8080/"
        },
        "id": "7Vrld2wfRryQ",
        "outputId": "285c3156-650d-4688-f79a-750aabfe41c2"
      },
      "execution_count": null,
      "outputs": [
        {
          "output_type": "stream",
          "name": "stdout",
          "text": [
            "Sum of List is:  118\n"
          ]
        }
      ]
    },
    {
      "cell_type": "code",
      "source": [
        "# Find the Sum of Even and Odd Numbers of a List\n",
        "L2 = [1, 2, 3, 4, 5, 6, 7, 8, 9, 10]\n",
        "ESum = 0; OSum = 0\n",
        "for i in L2:\n",
        "  if i % 2 == 0:\n",
        "    ESum += i\n",
        "  else:\n",
        "    OSum += i\n",
        "print('The Sum of Even Elements: ', ESum); print('The Sum of Odd Elements: ', OSum)"
      ],
      "metadata": {
        "colab": {
          "base_uri": "https://localhost:8080/"
        },
        "id": "Bw0WnvR3SHT3",
        "outputId": "74fb6a89-c555-4aa7-eb42-e1a6db71f0f3"
      },
      "execution_count": null,
      "outputs": [
        {
          "output_type": "stream",
          "name": "stdout",
          "text": [
            "The Sum of Even Elements:  30\n",
            "The Sum of Odd Elements:  25\n"
          ]
        }
      ]
    },
    {
      "cell_type": "code",
      "source": [
        "# Find the Even Indexed Sum of List Elements\n",
        "L3 = [2, 3, 5, 4, 7, 8, 9]\n",
        "Sum = 0\n",
        "for i in range(0, len(L3), 2):\n",
        "  Sum = Sum + L3[i]\n",
        "print(\"Even Indexed Elements Sum is: \", Sum)\n"
      ],
      "metadata": {
        "colab": {
          "base_uri": "https://localhost:8080/"
        },
        "id": "mtGKnJCZS0TL",
        "outputId": "3b209358-638f-4c57-9f5d-5fb75c8ec3bb"
      },
      "execution_count": null,
      "outputs": [
        {
          "output_type": "stream",
          "name": "stdout",
          "text": [
            "Even Indexed Elements Sum is:  23\n"
          ]
        }
      ]
    },
    {
      "cell_type": "code",
      "source": [
        "# Find the Odd Indexed Sum of List Elements\n",
        "L3 = [2, 3, 5, 4, 7, 8, 9]\n",
        "Sum = 0\n",
        "for i in range(1, len(L3), 2):\n",
        "  Sum = Sum + L3[i]\n",
        "print(\"Odd Indexed Elements Sum is: \", Sum)"
      ],
      "metadata": {
        "colab": {
          "base_uri": "https://localhost:8080/"
        },
        "id": "kDLSISVzURAy",
        "outputId": "c3ad6114-1574-4331-95f8-fac87a3678e3"
      },
      "execution_count": null,
      "outputs": [
        {
          "output_type": "stream",
          "name": "stdout",
          "text": [
            "Odd Indexed Elements Sum is:  15\n"
          ]
        }
      ]
    },
    {
      "cell_type": "code",
      "source": [
        "# Tuple\n",
        "# Tuple also a Sequence like List\n",
        "# Tuple is Immutable like string\n",
        "# Tuple supports indexing, slicing also\n",
        "\n",
        "# Creation of an Empty Tuple\n",
        "\n",
        "t = ()\n",
        "\n",
        "print(t)"
      ],
      "metadata": {
        "id": "UwtOqGiTUvJj",
        "colab": {
          "base_uri": "https://localhost:8080/"
        },
        "outputId": "72077025-7288-44ea-9939-f3b42f4a1416"
      },
      "execution_count": null,
      "outputs": [
        {
          "output_type": "stream",
          "name": "stdout",
          "text": [
            "()\n"
          ]
        }
      ]
    },
    {
      "cell_type": "code",
      "source": [
        "t = tuple()\n",
        "print(t)"
      ],
      "metadata": {
        "colab": {
          "base_uri": "https://localhost:8080/"
        },
        "id": "LD1plv_iIdvp",
        "outputId": "6947be11-7b63-4386-fce7-76e8a637360e"
      },
      "execution_count": null,
      "outputs": [
        {
          "output_type": "stream",
          "name": "stdout",
          "text": [
            "()\n"
          ]
        }
      ]
    },
    {
      "cell_type": "code",
      "source": [
        "t1 = (1, 2, 3, 4, 5)\n",
        "# Display tuple elements\n",
        "for i in t1:\n",
        "  print(i)"
      ],
      "metadata": {
        "colab": {
          "base_uri": "https://localhost:8080/"
        },
        "id": "7KJsuqOzInVI",
        "outputId": "e37d0026-8f34-49fc-a5c6-1ba8c2096437"
      },
      "execution_count": null,
      "outputs": [
        {
          "output_type": "stream",
          "name": "stdout",
          "text": [
            "1\n",
            "2\n",
            "3\n",
            "4\n",
            "5\n"
          ]
        }
      ]
    },
    {
      "cell_type": "code",
      "source": [
        "for i in range(len(t1)):\n",
        "  print(t1[i])"
      ],
      "metadata": {
        "colab": {
          "base_uri": "https://localhost:8080/"
        },
        "id": "uDTod9hRIygV",
        "outputId": "e61e5134-70d5-434e-b5ee-23bb3774a837"
      },
      "execution_count": null,
      "outputs": [
        {
          "output_type": "stream",
          "name": "stdout",
          "text": [
            "1\n",
            "2\n",
            "3\n",
            "4\n",
            "5\n"
          ]
        }
      ]
    },
    {
      "cell_type": "code",
      "source": [
        "print(min(t1))"
      ],
      "metadata": {
        "colab": {
          "base_uri": "https://localhost:8080/"
        },
        "id": "Rw_ZfrstI-e4",
        "outputId": "6fa32130-d4db-481c-b7be-93836db6d965"
      },
      "execution_count": null,
      "outputs": [
        {
          "output_type": "stream",
          "name": "stdout",
          "text": [
            "1\n"
          ]
        }
      ]
    },
    {
      "cell_type": "code",
      "source": [
        "print(max(t1))"
      ],
      "metadata": {
        "colab": {
          "base_uri": "https://localhost:8080/"
        },
        "id": "4UJLC8BNJUf5",
        "outputId": "24106c77-f314-45ad-fd45-41c2e080973f"
      },
      "execution_count": null,
      "outputs": [
        {
          "output_type": "stream",
          "name": "stdout",
          "text": [
            "5\n"
          ]
        }
      ]
    },
    {
      "cell_type": "code",
      "source": [
        "print(sum(t1))"
      ],
      "metadata": {
        "colab": {
          "base_uri": "https://localhost:8080/"
        },
        "id": "pSXhPgpBJZJ2",
        "outputId": "92ac59a0-b758-4078-ff1a-a0b033014a19"
      },
      "execution_count": null,
      "outputs": [
        {
          "output_type": "stream",
          "name": "stdout",
          "text": [
            "15\n"
          ]
        }
      ]
    },
    {
      "cell_type": "code",
      "source": [
        "t1"
      ],
      "metadata": {
        "colab": {
          "base_uri": "https://localhost:8080/"
        },
        "id": "6RPxRG_eJegT",
        "outputId": "17ce3634-5ae8-4441-990d-0d2fb99d9b66"
      },
      "execution_count": null,
      "outputs": [
        {
          "output_type": "execute_result",
          "data": {
            "text/plain": [
              "(1, 2, 3, 4, 5)"
            ]
          },
          "metadata": {},
          "execution_count": 10
        }
      ]
    },
    {
      "cell_type": "code",
      "source": [
        "t1[0:3]"
      ],
      "metadata": {
        "colab": {
          "base_uri": "https://localhost:8080/"
        },
        "id": "6HLG7boGJlbQ",
        "outputId": "3e137b39-7c19-47f2-d6e8-5b6a4635637b"
      },
      "execution_count": null,
      "outputs": [
        {
          "output_type": "execute_result",
          "data": {
            "text/plain": [
              "(1, 2, 3)"
            ]
          },
          "metadata": {},
          "execution_count": 11
        }
      ]
    },
    {
      "cell_type": "code",
      "source": [
        "t1[::-1]"
      ],
      "metadata": {
        "colab": {
          "base_uri": "https://localhost:8080/"
        },
        "id": "lXhrnReWJqXM",
        "outputId": "d937a663-b534-4425-a05e-30b4c4e89316"
      },
      "execution_count": null,
      "outputs": [
        {
          "output_type": "execute_result",
          "data": {
            "text/plain": [
              "(5, 4, 3, 2, 1)"
            ]
          },
          "metadata": {},
          "execution_count": 12
        }
      ]
    },
    {
      "cell_type": "code",
      "source": [
        "print(dir(t1))"
      ],
      "metadata": {
        "colab": {
          "base_uri": "https://localhost:8080/"
        },
        "id": "F8u0rFEIJwoo",
        "outputId": "8fc3f95f-2289-42c7-a792-61ec9a34792f"
      },
      "execution_count": null,
      "outputs": [
        {
          "output_type": "stream",
          "name": "stdout",
          "text": [
            "['__add__', '__class__', '__contains__', '__delattr__', '__dir__', '__doc__', '__eq__', '__format__', '__ge__', '__getattribute__', '__getitem__', '__getnewargs__', '__gt__', '__hash__', '__init__', '__init_subclass__', '__iter__', '__le__', '__len__', '__lt__', '__mul__', '__ne__', '__new__', '__reduce__', '__reduce_ex__', '__repr__', '__rmul__', '__setattr__', '__sizeof__', '__str__', '__subclasshook__', 'count', 'index']\n"
          ]
        }
      ]
    },
    {
      "cell_type": "code",
      "source": [
        "t = (1, 2, 1, 4, 1, 4, 1, 2)"
      ],
      "metadata": {
        "id": "yILLHcsxJ4TN"
      },
      "execution_count": null,
      "outputs": []
    },
    {
      "cell_type": "code",
      "source": [
        "print(t.count(2))"
      ],
      "metadata": {
        "colab": {
          "base_uri": "https://localhost:8080/"
        },
        "id": "grVgCP14KKwW",
        "outputId": "ad4a9919-ca90-4fc2-8029-12a87228904f"
      },
      "execution_count": null,
      "outputs": [
        {
          "output_type": "stream",
          "name": "stdout",
          "text": [
            "2\n"
          ]
        }
      ]
    },
    {
      "cell_type": "code",
      "source": [
        "print(t[::-1].count(2))"
      ],
      "metadata": {
        "colab": {
          "base_uri": "https://localhost:8080/"
        },
        "id": "xqnRHw2HKPWI",
        "outputId": "26474e4b-2acc-4643-9429-6a6283131d65"
      },
      "execution_count": null,
      "outputs": [
        {
          "output_type": "stream",
          "name": "stdout",
          "text": [
            "2\n"
          ]
        }
      ]
    },
    {
      "cell_type": "code",
      "source": [
        "t = (\"One\", \"Two\", \"Three\", \"Four\")\n",
        "\n",
        "print(t[0][::-1])"
      ],
      "metadata": {
        "colab": {
          "base_uri": "https://localhost:8080/"
        },
        "id": "0qRUTJKxKb16",
        "outputId": "d943168d-7cf5-41f3-f6ec-0091644a1290"
      },
      "execution_count": null,
      "outputs": [
        {
          "output_type": "stream",
          "name": "stdout",
          "text": [
            "enO\n"
          ]
        }
      ]
    },
    {
      "cell_type": "code",
      "source": [
        "print(t[2][1:4])"
      ],
      "metadata": {
        "colab": {
          "base_uri": "https://localhost:8080/"
        },
        "id": "SKQkUdQ1LL94",
        "outputId": "0f1adc4d-7658-4dab-cad2-df8bfa16ceb3"
      },
      "execution_count": null,
      "outputs": [
        {
          "output_type": "stream",
          "name": "stdout",
          "text": [
            "hre\n"
          ]
        }
      ]
    },
    {
      "cell_type": "code",
      "source": [
        "t = ([1, 2, 3], [4, 5, 6])\n",
        "for i in t:\n",
        "  for j in i:\n",
        "    print(j)"
      ],
      "metadata": {
        "colab": {
          "base_uri": "https://localhost:8080/"
        },
        "id": "F0xLVUdHL5Iz",
        "outputId": "b630848c-8233-4561-fe2f-47bddbbe02d3"
      },
      "execution_count": null,
      "outputs": [
        {
          "output_type": "stream",
          "name": "stdout",
          "text": [
            "1\n",
            "2\n",
            "3\n",
            "4\n",
            "5\n",
            "6\n"
          ]
        }
      ]
    },
    {
      "cell_type": "code",
      "source": [
        "t = (1, 'ABC', [1, 2, 3], 2.3)\n",
        "for i in t:\n",
        "  print(i)"
      ],
      "metadata": {
        "colab": {
          "base_uri": "https://localhost:8080/"
        },
        "id": "4ufWOOitMUX1",
        "outputId": "206ea4c3-7a86-45ff-84a8-07f412e1f380"
      },
      "execution_count": null,
      "outputs": [
        {
          "output_type": "stream",
          "name": "stdout",
          "text": [
            "1\n",
            "ABC\n",
            "[1, 2, 3]\n",
            "2.3\n"
          ]
        }
      ]
    },
    {
      "cell_type": "code",
      "source": [
        "print(sum(t[2]))"
      ],
      "metadata": {
        "colab": {
          "base_uri": "https://localhost:8080/"
        },
        "id": "Ucqg2flUMo-U",
        "outputId": "15f19de1-7848-45cd-a1ef-8294cf4d9b1d"
      },
      "execution_count": null,
      "outputs": [
        {
          "output_type": "stream",
          "name": "stdout",
          "text": [
            "6\n"
          ]
        }
      ]
    },
    {
      "cell_type": "code",
      "source": [
        "print(len(t[1]))"
      ],
      "metadata": {
        "colab": {
          "base_uri": "https://localhost:8080/"
        },
        "id": "QWyJ9mvnM3EV",
        "outputId": "2b73ec99-2bdc-44e7-ff6f-00dab6d9af88"
      },
      "execution_count": null,
      "outputs": [
        {
          "output_type": "stream",
          "name": "stdout",
          "text": [
            "3\n"
          ]
        }
      ]
    },
    {
      "cell_type": "code",
      "source": [
        "# Set\n",
        "s = set() # set() used to create an Empty Set\n",
        "\n",
        "print(s)"
      ],
      "metadata": {
        "colab": {
          "base_uri": "https://localhost:8080/"
        },
        "id": "dJVTy7ABM9_z",
        "outputId": "9ba715a7-2bab-4813-ad01-1fd0aa88c6d8"
      },
      "execution_count": null,
      "outputs": [
        {
          "output_type": "stream",
          "name": "stdout",
          "text": [
            "set()\n"
          ]
        }
      ]
    },
    {
      "cell_type": "code",
      "source": [
        "S = {'Str', 1, 2.6, 3, 4, 1, 2, 5, (5, 6, 7)}\n",
        "print(len(S))"
      ],
      "metadata": {
        "colab": {
          "base_uri": "https://localhost:8080/"
        },
        "id": "cvulIdCPN1lb",
        "outputId": "6a296e60-0e56-4f79-d501-83e2f3ead2e7"
      },
      "execution_count": null,
      "outputs": [
        {
          "output_type": "stream",
          "name": "stdout",
          "text": [
            "8\n"
          ]
        }
      ]
    },
    {
      "cell_type": "code",
      "source": [
        "S"
      ],
      "metadata": {
        "colab": {
          "base_uri": "https://localhost:8080/"
        },
        "id": "q0_a6PqHOEDt",
        "outputId": "c52f5dda-7b95-4194-c7cd-ecd01a4a30e7"
      },
      "execution_count": null,
      "outputs": [
        {
          "output_type": "execute_result",
          "data": {
            "text/plain": [
              "{(5, 6, 7), 1, 2, 2.6, 3, 4, 5, 'Str'}"
            ]
          },
          "metadata": {},
          "execution_count": 51
        }
      ]
    },
    {
      "cell_type": "code",
      "source": [
        "print(dir(S))"
      ],
      "metadata": {
        "colab": {
          "base_uri": "https://localhost:8080/"
        },
        "id": "RHGv_qT1OLR2",
        "outputId": "575a7c4a-32dc-4857-c696-26d60c11b1d1"
      },
      "execution_count": null,
      "outputs": [
        {
          "output_type": "stream",
          "name": "stdout",
          "text": [
            "['__and__', '__class__', '__contains__', '__delattr__', '__dir__', '__doc__', '__eq__', '__format__', '__ge__', '__getattribute__', '__gt__', '__hash__', '__iand__', '__init__', '__init_subclass__', '__ior__', '__isub__', '__iter__', '__ixor__', '__le__', '__len__', '__lt__', '__ne__', '__new__', '__or__', '__rand__', '__reduce__', '__reduce_ex__', '__repr__', '__ror__', '__rsub__', '__rxor__', '__setattr__', '__sizeof__', '__str__', '__sub__', '__subclasshook__', '__xor__', 'add', 'clear', 'copy', 'difference', 'difference_update', 'discard', 'intersection', 'intersection_update', 'isdisjoint', 'issubset', 'issuperset', 'pop', 'remove', 'symmetric_difference', 'symmetric_difference_update', 'union', 'update']\n"
          ]
        }
      ]
    },
    {
      "cell_type": "code",
      "source": [
        "S.add('XYZ')"
      ],
      "metadata": {
        "id": "cec9ZYXQPi52"
      },
      "execution_count": null,
      "outputs": []
    },
    {
      "cell_type": "code",
      "source": [
        "S"
      ],
      "metadata": {
        "colab": {
          "base_uri": "https://localhost:8080/"
        },
        "id": "V9J6UaqZP8hs",
        "outputId": "a7a029c5-c300-4f1c-93d0-6c95ffd0adf1"
      },
      "execution_count": null,
      "outputs": [
        {
          "output_type": "execute_result",
          "data": {
            "text/plain": [
              "{(5, 6, 7), 1, 2, 2.6, 3, 4, 5, 'Str', 'XYZ'}"
            ]
          },
          "metadata": {},
          "execution_count": 55
        }
      ]
    },
    {
      "cell_type": "code",
      "source": [
        "print(S.remove(2))"
      ],
      "metadata": {
        "colab": {
          "base_uri": "https://localhost:8080/"
        },
        "id": "mr8oHpLGQIxk",
        "outputId": "aecbfa44-af45-4130-ec42-af4db9bd5c76"
      },
      "execution_count": null,
      "outputs": [
        {
          "output_type": "stream",
          "name": "stdout",
          "text": [
            "None\n"
          ]
        }
      ]
    },
    {
      "cell_type": "code",
      "source": [
        "S"
      ],
      "metadata": {
        "id": "eVSKAxbqQOTb"
      },
      "execution_count": null,
      "outputs": []
    },
    {
      "cell_type": "code",
      "source": [
        "s = {1, 2, 3}\n",
        "t = {3, 4, 5}\n",
        "\n",
        "print(s.union(t))"
      ],
      "metadata": {
        "colab": {
          "base_uri": "https://localhost:8080/"
        },
        "id": "27tZwkdNQPhG",
        "outputId": "b15f471e-908c-4943-979c-49c2aa4789ba"
      },
      "execution_count": null,
      "outputs": [
        {
          "output_type": "stream",
          "name": "stdout",
          "text": [
            "{1, 2, 3, 4, 5}\n"
          ]
        }
      ]
    },
    {
      "cell_type": "code",
      "source": [
        "print(s.intersection(t))"
      ],
      "metadata": {
        "colab": {
          "base_uri": "https://localhost:8080/"
        },
        "id": "hh6uXTeXQpfm",
        "outputId": "f05a64bd-445e-4e7c-eb64-0ccf5af677d9"
      },
      "execution_count": null,
      "outputs": [
        {
          "output_type": "stream",
          "name": "stdout",
          "text": [
            "{3}\n"
          ]
        }
      ]
    },
    {
      "cell_type": "code",
      "source": [
        "print(t.difference(s))"
      ],
      "metadata": {
        "colab": {
          "base_uri": "https://localhost:8080/"
        },
        "id": "97ImVZJcRg5t",
        "outputId": "fd6de163-7535-4480-c06d-8786da52f947"
      },
      "execution_count": null,
      "outputs": [
        {
          "output_type": "stream",
          "name": "stdout",
          "text": [
            "{4, 5}\n"
          ]
        }
      ]
    },
    {
      "cell_type": "code",
      "source": [
        "# Dictionary\n",
        "\n",
        "print(dir(dict()))\n",
        "print(dir({}))"
      ],
      "metadata": {
        "id": "i9LStFtkRr3M",
        "colab": {
          "base_uri": "https://localhost:8080/"
        },
        "outputId": "aa3b56d2-5067-4ebe-aa20-56bd309395b4"
      },
      "execution_count": null,
      "outputs": [
        {
          "output_type": "stream",
          "name": "stdout",
          "text": [
            "['__class__', '__contains__', '__delattr__', '__delitem__', '__dir__', '__doc__', '__eq__', '__format__', '__ge__', '__getattribute__', '__getitem__', '__gt__', '__hash__', '__init__', '__init_subclass__', '__iter__', '__le__', '__len__', '__lt__', '__ne__', '__new__', '__reduce__', '__reduce_ex__', '__repr__', '__setattr__', '__setitem__', '__sizeof__', '__str__', '__subclasshook__', 'clear', 'copy', 'fromkeys', 'get', 'items', 'keys', 'pop', 'popitem', 'setdefault', 'update', 'values']\n",
            "['__class__', '__contains__', '__delattr__', '__delitem__', '__dir__', '__doc__', '__eq__', '__format__', '__ge__', '__getattribute__', '__getitem__', '__gt__', '__hash__', '__init__', '__init_subclass__', '__iter__', '__le__', '__len__', '__lt__', '__ne__', '__new__', '__reduce__', '__reduce_ex__', '__repr__', '__setattr__', '__setitem__', '__sizeof__', '__str__', '__subclasshook__', 'clear', 'copy', 'fromkeys', 'get', 'items', 'keys', 'pop', 'popitem', 'setdefault', 'update', 'values']\n"
          ]
        }
      ]
    },
    {
      "cell_type": "code",
      "source": [
        "# Creation of an Empty Dictionary\n",
        "d = {}\n",
        "print(d)"
      ],
      "metadata": {
        "colab": {
          "base_uri": "https://localhost:8080/"
        },
        "id": "mgNrVdJYXuQh",
        "outputId": "aeb2d1cf-884d-43d1-9ee9-01da5ab2d076"
      },
      "execution_count": null,
      "outputs": [
        {
          "output_type": "stream",
          "name": "stdout",
          "text": [
            "{}\n"
          ]
        }
      ]
    },
    {
      "cell_type": "code",
      "source": [
        "d = {1:'Abc', 2:'Def', 3:'xyz'} # dictionary with 3 keys and values\n",
        "d1 = { 'Vijayawada': 10000, 'Kakinada': 20000, 'Tirupati': 3000}"
      ],
      "metadata": {
        "id": "40a6UqGCYVsi"
      },
      "execution_count": 15,
      "outputs": []
    },
    {
      "cell_type": "code",
      "source": [
        "print(d)\n",
        "# Adding a new element to dictionary\n",
        "d[4]='vbn'"
      ],
      "metadata": {
        "id": "MFty0XLgZSAA",
        "colab": {
          "base_uri": "https://localhost:8080/"
        },
        "outputId": "975e95f0-2575-466b-8516-15ca464f6cee"
      },
      "execution_count": 16,
      "outputs": [
        {
          "output_type": "stream",
          "name": "stdout",
          "text": [
            "{1: 'Abc', 2: 'Def', 3: 'xyz'}\n"
          ]
        }
      ]
    },
    {
      "cell_type": "code",
      "source": [
        "# Display Whole Dictionary\n",
        "print(d)"
      ],
      "metadata": {
        "colab": {
          "base_uri": "https://localhost:8080/"
        },
        "id": "7521hmzoZk35",
        "outputId": "09197954-a100-4cae-e48f-627753da8199"
      },
      "execution_count": 17,
      "outputs": [
        {
          "output_type": "stream",
          "name": "stdout",
          "text": [
            "{1: 'Abc', 2: 'Def', 3: 'xyz', 4: 'vbn'}\n"
          ]
        }
      ]
    },
    {
      "cell_type": "code",
      "source": [
        "# Accessing single value using Key\n",
        "print(d[2])"
      ],
      "metadata": {
        "colab": {
          "base_uri": "https://localhost:8080/"
        },
        "id": "ELnnnnkGZozs",
        "outputId": "a026a2e9-b0dc-4aaa-a270-a28447a86ddd"
      },
      "execution_count": 18,
      "outputs": [
        {
          "output_type": "stream",
          "name": "stdout",
          "text": [
            "Def\n"
          ]
        }
      ]
    },
    {
      "cell_type": "code",
      "source": [
        "# 'clear', 'copy', 'fromkeys', 'get', 'items', 'keys', 'pop', 'popitem', 'setdefault', 'update', 'values'\n",
        "print(d1)\n",
        "d1.clear()\n",
        "print(d1)"
      ],
      "metadata": {
        "colab": {
          "base_uri": "https://localhost:8080/"
        },
        "id": "mAim0wbSZy8U",
        "outputId": "0a28d07d-e298-4831-f5a1-1baaaf32baa1"
      },
      "execution_count": 19,
      "outputs": [
        {
          "output_type": "stream",
          "name": "stdout",
          "text": [
            "{'Vijayawada': 10000, 'Kakinada': 20000, 'Tirupati': 3000}\n",
            "{}\n"
          ]
        }
      ]
    },
    {
      "cell_type": "code",
      "source": [
        "# copy\n",
        "d2 = {1:2, 3:4, 5:6, 7:8, 9:0}\n",
        "d3 = d2.copy()\n",
        "d4 = d2\n",
        "print(d3)\n",
        "print(d4)"
      ],
      "metadata": {
        "colab": {
          "base_uri": "https://localhost:8080/"
        },
        "id": "tyw_Uk04aU4n",
        "outputId": "fc78dec7-36e6-44e9-e4a9-25ffb2361a20"
      },
      "execution_count": 20,
      "outputs": [
        {
          "output_type": "stream",
          "name": "stdout",
          "text": [
            "{1: 2, 3: 4, 5: 6, 7: 8, 9: 0}\n",
            "{1: 2, 3: 4, 5: 6, 7: 8, 9: 0}\n"
          ]
        }
      ]
    },
    {
      "cell_type": "code",
      "source": [
        "help(d.fromkeys)"
      ],
      "metadata": {
        "colab": {
          "base_uri": "https://localhost:8080/"
        },
        "id": "Hali0gOHazDO",
        "outputId": "af319467-4df6-4c52-b1b4-1e21c348ae92"
      },
      "execution_count": null,
      "outputs": [
        {
          "output_type": "stream",
          "name": "stdout",
          "text": [
            "Help on built-in function fromkeys:\n",
            "\n",
            "fromkeys(iterable, value=None, /) method of builtins.type instance\n",
            "    Create a new dictionary with keys from iterable and values set to value.\n",
            "\n"
          ]
        }
      ]
    },
    {
      "cell_type": "code",
      "source": [
        "# cREATION OF dICTIONARY USING A lIST\n",
        "l = [\"Vijayawada\", \"Guntur\", \"Ongole\", \"Amaravati\"]\n",
        "sales = dict.fromkeys(l)\n",
        "print(sales)\n"
      ],
      "metadata": {
        "colab": {
          "base_uri": "https://localhost:8080/"
        },
        "id": "w7UMtu6XbK3w",
        "outputId": "91182daa-f1a0-482c-dd13-00a5d89870dd"
      },
      "execution_count": 38,
      "outputs": [
        {
          "output_type": "stream",
          "name": "stdout",
          "text": [
            "{'Vijayawada': None, 'Guntur': None, 'Ongole': None, 'Amaravati': None}\n"
          ]
        }
      ]
    },
    {
      "cell_type": "code",
      "source": [
        "sales['Vijayawada'] = 12345\n",
        "sales['Ongole'] = 23547\n",
        "sales['Amaravati'] = 87654\n",
        "sales['Guntur'] = 25478"
      ],
      "metadata": {
        "id": "YX-8p_0UcSMt"
      },
      "execution_count": 39,
      "outputs": []
    },
    {
      "cell_type": "code",
      "source": [
        "print(sales)"
      ],
      "metadata": {
        "colab": {
          "base_uri": "https://localhost:8080/"
        },
        "id": "BGPPnNkacrmq",
        "outputId": "b2dfb360-f50b-4e58-f6aa-2254f4e3b555"
      },
      "execution_count": 40,
      "outputs": [
        {
          "output_type": "stream",
          "name": "stdout",
          "text": [
            "{'Vijayawada': 12345, 'Guntur': 25478, 'Ongole': 23547, 'Amaravati': 87654}\n"
          ]
        }
      ]
    },
    {
      "cell_type": "code",
      "source": [
        "help(sales.get)"
      ],
      "metadata": {
        "colab": {
          "base_uri": "https://localhost:8080/"
        },
        "id": "3m_0bxu7cuFQ",
        "outputId": "27a96e25-690f-4470-c65b-0073e71541f0"
      },
      "execution_count": 41,
      "outputs": [
        {
          "output_type": "stream",
          "name": "stdout",
          "text": [
            "Help on built-in function get:\n",
            "\n",
            "get(key, default=None, /) method of builtins.dict instance\n",
            "    Return the value for key if key is in the dictionary, else default.\n",
            "\n"
          ]
        }
      ]
    },
    {
      "cell_type": "code",
      "source": [
        "print(sales['Guntur'])\n",
        "print(sales.get('Guntur', 0))"
      ],
      "metadata": {
        "colab": {
          "base_uri": "https://localhost:8080/"
        },
        "id": "aiZD_zuudOB0",
        "outputId": "57b57158-18c9-42d7-800a-ee053e97a304"
      },
      "execution_count": 42,
      "outputs": [
        {
          "output_type": "stream",
          "name": "stdout",
          "text": [
            "25478\n",
            "25478\n"
          ]
        }
      ]
    },
    {
      "cell_type": "code",
      "source": [
        "print(sales.get('Kakinada', 0))"
      ],
      "metadata": {
        "colab": {
          "base_uri": "https://localhost:8080/"
        },
        "id": "BC3rgpoYdceW",
        "outputId": "55ca10fe-e90f-44db-afee-2d92d4d72676"
      },
      "execution_count": 43,
      "outputs": [
        {
          "output_type": "stream",
          "name": "stdout",
          "text": [
            "0\n"
          ]
        }
      ]
    },
    {
      "cell_type": "code",
      "source": [
        "help(sales.items)"
      ],
      "metadata": {
        "colab": {
          "base_uri": "https://localhost:8080/"
        },
        "id": "tJ7UpNDgdzer",
        "outputId": "a90e711f-b7cf-49c2-d11e-a9a189d5170c"
      },
      "execution_count": 44,
      "outputs": [
        {
          "output_type": "stream",
          "name": "stdout",
          "text": [
            "Help on built-in function items:\n",
            "\n",
            "items(...) method of builtins.dict instance\n",
            "    D.items() -> a set-like object providing a view on D's items\n",
            "\n"
          ]
        }
      ]
    },
    {
      "cell_type": "code",
      "source": [
        "# Using for with items()\n",
        "for i, j in sales.items():\n",
        "  print(i, j)"
      ],
      "metadata": {
        "colab": {
          "base_uri": "https://localhost:8080/"
        },
        "id": "zo4VwhZ6eUNu",
        "outputId": "64acbeb3-6294-4a8d-d73b-2945f996a865"
      },
      "execution_count": 45,
      "outputs": [
        {
          "output_type": "stream",
          "name": "stdout",
          "text": [
            "Vijayawada 12345\n",
            "Guntur 25478\n",
            "Ongole 23547\n",
            "Amaravati 87654\n"
          ]
        }
      ]
    },
    {
      "cell_type": "code",
      "source": [
        "print(dir({}))"
      ],
      "metadata": {
        "id": "3pYbKsvUebFZ",
        "colab": {
          "base_uri": "https://localhost:8080/"
        },
        "outputId": "921aa274-398c-42a8-8502-ce078ce61c82"
      },
      "execution_count": 46,
      "outputs": [
        {
          "output_type": "stream",
          "name": "stdout",
          "text": [
            "['__class__', '__contains__', '__delattr__', '__delitem__', '__dir__', '__doc__', '__eq__', '__format__', '__ge__', '__getattribute__', '__getitem__', '__gt__', '__hash__', '__init__', '__init_subclass__', '__iter__', '__le__', '__len__', '__lt__', '__ne__', '__new__', '__reduce__', '__reduce_ex__', '__repr__', '__setattr__', '__setitem__', '__sizeof__', '__str__', '__subclasshook__', 'clear', 'copy', 'fromkeys', 'get', 'items', 'keys', 'pop', 'popitem', 'setdefault', 'update', 'values']\n"
          ]
        }
      ]
    },
    {
      "cell_type": "code",
      "source": [
        "print(help({}.keys))"
      ],
      "metadata": {
        "colab": {
          "base_uri": "https://localhost:8080/"
        },
        "id": "cEjrPLkZBpav",
        "outputId": "7fc2682d-3cff-417f-f1d0-777f37958fa2"
      },
      "execution_count": 47,
      "outputs": [
        {
          "output_type": "stream",
          "name": "stdout",
          "text": [
            "Help on built-in function keys:\n",
            "\n",
            "keys(...) method of builtins.dict instance\n",
            "    D.keys() -> a set-like object providing a view on D's keys\n",
            "\n",
            "None\n"
          ]
        }
      ]
    },
    {
      "cell_type": "code",
      "source": [
        "print(sales.keys())"
      ],
      "metadata": {
        "colab": {
          "base_uri": "https://localhost:8080/"
        },
        "id": "ly0b4qAQBwug",
        "outputId": "29d17ab4-ddbd-4963-8d83-eb9ae2ce4f4d"
      },
      "execution_count": 48,
      "outputs": [
        {
          "output_type": "stream",
          "name": "stdout",
          "text": [
            "dict_keys(['Vijayawada', 'Guntur', 'Ongole', 'Amaravati'])\n"
          ]
        }
      ]
    },
    {
      "cell_type": "code",
      "source": [
        "for i in sales.keys():\n",
        "  print(i)"
      ],
      "metadata": {
        "id": "XKnJw-f9B5uo"
      },
      "execution_count": 61,
      "outputs": []
    },
    {
      "cell_type": "code",
      "source": [
        ""
      ],
      "metadata": {
        "id": "0p3XzvnrCD-R"
      },
      "execution_count": 49,
      "outputs": []
    },
    {
      "cell_type": "code",
      "source": [
        "help(sales.pop)"
      ],
      "metadata": {
        "colab": {
          "base_uri": "https://localhost:8080/"
        },
        "outputId": "9803c8ba-ba7e-42ff-8fc4-2a3a9fe0dbb6",
        "id": "Rw6JkycVCLbE"
      },
      "execution_count": 50,
      "outputs": [
        {
          "output_type": "stream",
          "name": "stdout",
          "text": [
            "Help on built-in function pop:\n",
            "\n",
            "pop(...) method of builtins.dict instance\n",
            "    D.pop(k[,d]) -> v, remove specified key and return the corresponding value.\n",
            "    If key is not found, d is returned if given, otherwise KeyError is raised\n",
            "\n"
          ]
        }
      ]
    },
    {
      "cell_type": "code",
      "source": [
        "print(sales.pop('Guntur'))"
      ],
      "metadata": {
        "colab": {
          "base_uri": "https://localhost:8080/"
        },
        "id": "riuy7SD7COzK",
        "outputId": "28b55b65-2604-4693-850e-332dd3b4371c"
      },
      "execution_count": 51,
      "outputs": [
        {
          "output_type": "stream",
          "name": "stdout",
          "text": [
            "25478\n"
          ]
        }
      ]
    },
    {
      "cell_type": "code",
      "source": [
        "help(sales.popitem)"
      ],
      "metadata": {
        "colab": {
          "base_uri": "https://localhost:8080/"
        },
        "id": "45-CWGOOCfsi",
        "outputId": "63e79f7e-40e6-428b-85f3-af91fc62749f"
      },
      "execution_count": 52,
      "outputs": [
        {
          "output_type": "stream",
          "name": "stdout",
          "text": [
            "Help on built-in function popitem:\n",
            "\n",
            "popitem(...) method of builtins.dict instance\n",
            "    D.popitem() -> (k, v), remove and return some (key, value) pair as a\n",
            "    2-tuple; but raise KeyError if D is empty.\n",
            "\n"
          ]
        }
      ]
    },
    {
      "cell_type": "code",
      "source": [
        "print(sales)"
      ],
      "metadata": {
        "colab": {
          "base_uri": "https://localhost:8080/"
        },
        "id": "WI8jgeOAC1Ta",
        "outputId": "ef5eeb09-c308-473a-cd2e-7193be098e28"
      },
      "execution_count": 59,
      "outputs": [
        {
          "output_type": "stream",
          "name": "stdout",
          "text": [
            "{}\n"
          ]
        }
      ]
    },
    {
      "cell_type": "code",
      "source": [
        "sales.popitem()"
      ],
      "metadata": {
        "colab": {
          "base_uri": "https://localhost:8080/",
          "height": 165
        },
        "id": "p1FmUteRC7By",
        "outputId": "cffdb6c5-8592-4467-d070-d254d1fd98e8"
      },
      "execution_count": 60,
      "outputs": [
        {
          "output_type": "error",
          "ename": "KeyError",
          "evalue": "ignored",
          "traceback": [
            "\u001b[0;31m---------------------------------------------------------------------------\u001b[0m",
            "\u001b[0;31mKeyError\u001b[0m                                  Traceback (most recent call last)",
            "\u001b[0;32m<ipython-input-60-4f94a402dbb9>\u001b[0m in \u001b[0;36m<module>\u001b[0;34m()\u001b[0m\n\u001b[0;32m----> 1\u001b[0;31m \u001b[0msales\u001b[0m\u001b[0;34m.\u001b[0m\u001b[0mpopitem\u001b[0m\u001b[0;34m(\u001b[0m\u001b[0;34m)\u001b[0m\u001b[0;34m\u001b[0m\u001b[0;34m\u001b[0m\u001b[0m\n\u001b[0m",
            "\u001b[0;31mKeyError\u001b[0m: 'popitem(): dictionary is empty'"
          ]
        }
      ]
    },
    {
      "cell_type": "code",
      "source": [
        "help({}.setdefault)"
      ],
      "metadata": {
        "colab": {
          "base_uri": "https://localhost:8080/"
        },
        "id": "ReIa9U_1C-Dm",
        "outputId": "e9037b8f-388e-456a-dd83-62df47ec0093"
      },
      "execution_count": 62,
      "outputs": [
        {
          "output_type": "stream",
          "name": "stdout",
          "text": [
            "Help on built-in function setdefault:\n",
            "\n",
            "setdefault(key, default=None, /) method of builtins.dict instance\n",
            "    Insert key with a value of default if key is not in the dictionary.\n",
            "    \n",
            "    Return the value for key if key is in the dictionary, else default.\n",
            "\n"
          ]
        }
      ]
    },
    {
      "cell_type": "code",
      "source": [
        "sales['DMART'] = 5689"
      ],
      "metadata": {
        "id": "xZW8FEM5DVM4"
      },
      "execution_count": 63,
      "outputs": []
    },
    {
      "cell_type": "code",
      "source": [
        "print(sales)"
      ],
      "metadata": {
        "colab": {
          "base_uri": "https://localhost:8080/"
        },
        "id": "ysM16LyCDe1i",
        "outputId": "7984031a-df97-4724-bd8a-7bbefa3c727e"
      },
      "execution_count": 64,
      "outputs": [
        {
          "output_type": "stream",
          "name": "stdout",
          "text": [
            "{'DMART': 5689}\n"
          ]
        }
      ]
    },
    {
      "cell_type": "code",
      "source": [
        "sales.setdefault('PVP', 2354)"
      ],
      "metadata": {
        "id": "mIVi6TsqDglQ"
      },
      "execution_count": 67,
      "outputs": []
    },
    {
      "cell_type": "code",
      "source": [
        "print(sales)"
      ],
      "metadata": {
        "colab": {
          "base_uri": "https://localhost:8080/"
        },
        "id": "4AhJ3WNiDn6o",
        "outputId": "882e3cf1-d5a9-43c4-baf5-ab841dea33ed"
      },
      "execution_count": 68,
      "outputs": [
        {
          "output_type": "stream",
          "name": "stdout",
          "text": [
            "{'DMART': 5689, 'PVP': None}\n"
          ]
        }
      ]
    },
    {
      "cell_type": "code",
      "source": [
        "sales.setdefault('def', 1234)"
      ],
      "metadata": {
        "colab": {
          "base_uri": "https://localhost:8080/"
        },
        "id": "d1RfajEVDpyX",
        "outputId": "cb79d549-ed4d-41bb-a2e0-4f041a950996"
      },
      "execution_count": 70,
      "outputs": [
        {
          "output_type": "execute_result",
          "data": {
            "text/plain": [
              "1234"
            ]
          },
          "metadata": {},
          "execution_count": 70
        }
      ]
    },
    {
      "cell_type": "code",
      "source": [
        "sales"
      ],
      "metadata": {
        "colab": {
          "base_uri": "https://localhost:8080/"
        },
        "id": "HMJxh7_cD9MS",
        "outputId": "d6278a74-a021-4700-b9c3-5059b9c490ce"
      },
      "execution_count": 71,
      "outputs": [
        {
          "output_type": "execute_result",
          "data": {
            "text/plain": [
              "{'DMART': 5689, 'PVP': None, 'abc': None, 'def': 1234}"
            ]
          },
          "metadata": {},
          "execution_count": 71
        }
      ]
    },
    {
      "cell_type": "code",
      "source": [
        "sales.setdefault('def', 234)"
      ],
      "metadata": {
        "colab": {
          "base_uri": "https://localhost:8080/"
        },
        "id": "7tG0wxllEFj2",
        "outputId": "4c846539-970f-45ff-c0e2-2607559d1ca4"
      },
      "execution_count": 73,
      "outputs": [
        {
          "output_type": "execute_result",
          "data": {
            "text/plain": [
              "1234"
            ]
          },
          "metadata": {},
          "execution_count": 73
        }
      ]
    },
    {
      "cell_type": "code",
      "source": [
        "help({}.update)"
      ],
      "metadata": {
        "colab": {
          "base_uri": "https://localhost:8080/"
        },
        "id": "-d8BoItDEVPI",
        "outputId": "51bd0831-674e-4b43-d3c9-965686a16509"
      },
      "execution_count": 74,
      "outputs": [
        {
          "output_type": "stream",
          "name": "stdout",
          "text": [
            "Help on built-in function update:\n",
            "\n",
            "update(...) method of builtins.dict instance\n",
            "    D.update([E, ]**F) -> None.  Update D from dict/iterable E and F.\n",
            "    If E is present and has a .keys() method, then does:  for k in E: D[k] = E[k]\n",
            "    If E is present and lacks a .keys() method, then does:  for k, v in E: D[k] = v\n",
            "    In either case, this is followed by: for k in F:  D[k] = F[k]\n",
            "\n"
          ]
        }
      ]
    },
    {
      "cell_type": "code",
      "source": [
        "E = ((1, 2), (3, 4))\n",
        "F = ((5, 6), (7, 8))\n",
        "sales.update(E)"
      ],
      "metadata": {
        "id": "NrAtvYp3Eh8k"
      },
      "execution_count": 85,
      "outputs": []
    },
    {
      "cell_type": "code",
      "source": [
        "sales"
      ],
      "metadata": {
        "colab": {
          "base_uri": "https://localhost:8080/"
        },
        "id": "Ybdtd2ZxE4pH",
        "outputId": "72e9f965-1191-4ec3-ceba-d0f60262aaba"
      },
      "execution_count": 79,
      "outputs": [
        {
          "output_type": "execute_result",
          "data": {
            "text/plain": [
              "{1: 2, 3: 4, 'DMART': 5689, 'PVP': None, 'abc': None, 'def': 1234}"
            ]
          },
          "metadata": {},
          "execution_count": 79
        }
      ]
    },
    {
      "cell_type": "code",
      "source": [
        "for i in sales.values():\n",
        "  print(i)"
      ],
      "metadata": {
        "colab": {
          "base_uri": "https://localhost:8080/"
        },
        "id": "897X6PggFYmL",
        "outputId": "50281df0-eaa5-4057-cb0c-3a9dbf02e511"
      },
      "execution_count": 86,
      "outputs": [
        {
          "output_type": "stream",
          "name": "stdout",
          "text": [
            "5689\n",
            "None\n",
            "None\n",
            "1234\n",
            "2\n",
            "4\n"
          ]
        }
      ]
    },
    {
      "cell_type": "code",
      "source": [
        "# Introduction to Python Functions\n",
        "# A Function is a set of statements used to perform some kind of meaningful task\n",
        "# Function in Python starts with 'def' Keyword\n",
        "\n",
        "# Write a Python function to Wish\n",
        "\n",
        "def Greet():            # Function Definition\n",
        "  print(\"Hello, World\")\n",
        "  print(\"Hello, Python\")\n",
        "\n",
        "Greet()                 # Calling of a Function\n"
      ],
      "metadata": {
        "colab": {
          "base_uri": "https://localhost:8080/"
        },
        "id": "hDBtFdHzFu0g",
        "outputId": "5a8a2f5d-b3ef-4d3a-a2a6-ce3861aaa759"
      },
      "execution_count": 90,
      "outputs": [
        {
          "output_type": "stream",
          "name": "stdout",
          "text": [
            "Hello, World\n",
            "Hello, Python\n"
          ]
        }
      ]
    },
    {
      "cell_type": "code",
      "source": [
        "# Write a Python Function to add 2 Integers\n",
        "\n",
        "def Add():\n",
        "  A = int(input('Enter any Number:  '))\n",
        "  B = int(input('Enter any Number:  '))\n",
        "  C = A + B\n",
        "  print(\"The Sum is: \", C)\n",
        "Add()     # Calling a Function"
      ],
      "metadata": {
        "colab": {
          "base_uri": "https://localhost:8080/"
        },
        "id": "JgtxesvWGpIl",
        "outputId": "abf48c46-4160-4c61-e777-deb473a80475"
      },
      "execution_count": 92,
      "outputs": [
        {
          "output_type": "stream",
          "name": "stdout",
          "text": [
            "Enter any Number:  10\n",
            "Enter any Number:  20\n",
            "The Sum is:  30\n"
          ]
        }
      ]
    },
    {
      "cell_type": "code",
      "source": [
        "# Write a Python Function to add 2 Integers\n",
        "\n",
        "def Add(A, B):\n",
        "  C = A + B\n",
        "  print(\"The Sum is: \", C)\n",
        "\n",
        "\n",
        "A = int(input('Enter any Number:  '))\n",
        "B = int(input('Enter any Number:  '))\n",
        "Add(A, B)     # Calling a Function"
      ],
      "metadata": {
        "colab": {
          "base_uri": "https://localhost:8080/"
        },
        "id": "vrFWB7DwHZof",
        "outputId": "9640444b-8ee7-4bc9-8e26-bbf6e22b11be"
      },
      "execution_count": 95,
      "outputs": [
        {
          "output_type": "stream",
          "name": "stdout",
          "text": [
            "Enter any Number:  8\n",
            "Enter any Number:  2\n",
            "The Sum is:  10\n"
          ]
        }
      ]
    },
    {
      "cell_type": "code",
      "source": [
        "# Write a Python Function to Find the Given Number is Even or Odd\n",
        "\n",
        "def Even_or_Odd():\n",
        "  Number = int(input('Enter any Number:  '))\n",
        "  if Number % 2 == 0:\n",
        "    print('Even')\n",
        "  else:\n",
        "    print('Odd')\n",
        "\n",
        "Even_or_Odd()"
      ],
      "metadata": {
        "colab": {
          "base_uri": "https://localhost:8080/"
        },
        "id": "pofbRIEzHuFR",
        "outputId": "12bab5e5-8674-4c4d-c1b8-bf767ad16361"
      },
      "execution_count": 98,
      "outputs": [
        {
          "output_type": "stream",
          "name": "stdout",
          "text": [
            "Enter any Number:  156\n",
            "Even\n"
          ]
        }
      ]
    },
    {
      "cell_type": "code",
      "source": [
        "# Python Function to Generate Multiplication Table using Functions\n",
        "\n",
        "def Mul_Table():\n",
        "  number = int(input('Enter a Number:  '))\n",
        "  for i in range(1, 11):\n",
        "    print(i, 'x', number, '=', i*number)\n",
        "\n",
        "Mul_Table()"
      ],
      "metadata": {
        "colab": {
          "base_uri": "https://localhost:8080/"
        },
        "id": "1gLqP1sfIPoL",
        "outputId": "d72ae645-187a-4f82-a751-12f0162ab021"
      },
      "execution_count": 100,
      "outputs": [
        {
          "output_type": "stream",
          "name": "stdout",
          "text": [
            "Enter a Number:  7\n",
            "1 x 7 = 7\n",
            "2 x 7 = 14\n",
            "3 x 7 = 21\n",
            "4 x 7 = 28\n",
            "5 x 7 = 35\n",
            "6 x 7 = 42\n",
            "7 x 7 = 49\n",
            "8 x 7 = 56\n",
            "9 x 7 = 63\n",
            "10 x 7 = 70\n"
          ]
        }
      ]
    },
    {
      "cell_type": "code",
      "source": [
        "# Python Function to Find out Biggest of 3 numbers\n",
        "def Biggest():\n",
        "  a = int(input('Enter First Number: '))\n",
        "  b = int(input('Enter Second Number: '))\n",
        "  c = int(input('Enter Third Number: '))\n",
        "  big = -1\n",
        "  if a > b and a > c:\n",
        "    big = a\n",
        "  elif b>a and b>c:\n",
        "    big = b\n",
        "  else:\n",
        "    big = c\n",
        "  return big\n",
        "\n",
        "Big = Biggest()\n",
        "print('Biggest of Three Numbers is:  ', Big)"
      ],
      "metadata": {
        "colab": {
          "base_uri": "https://localhost:8080/"
        },
        "id": "R6ltVD65JSR_",
        "outputId": "d6565eb1-5779-4244-97be-d89ae0ede4e3"
      },
      "execution_count": 102,
      "outputs": [
        {
          "output_type": "stream",
          "name": "stdout",
          "text": [
            "Enter First Number: 6\n",
            "Enter Second Number: 5\n",
            "Enter Third Number: 4\n",
            "Biggest of Three Numbers is:   6\n"
          ]
        }
      ]
    },
    {
      "cell_type": "code",
      "source": [
        "# Python Program to add List Elements\n",
        "\n",
        "L = [1, 4, 6, 8, 4, 2, 3]\n",
        "\n",
        "def Add():\n",
        "  S = 0\n",
        "  for i in L:\n",
        "    S = S + i\n",
        "  print('The Sum is:  ', S)\n",
        "\n",
        "Add()"
      ],
      "metadata": {
        "colab": {
          "base_uri": "https://localhost:8080/"
        },
        "id": "5PBZEOczKN--",
        "outputId": "a658b3b4-50b9-4b56-d18f-b16013e10e6b"
      },
      "execution_count": 104,
      "outputs": [
        {
          "output_type": "stream",
          "name": "stdout",
          "text": [
            "The Sum is:   28\n"
          ]
        }
      ]
    },
    {
      "cell_type": "code",
      "source": [
        "# write a Python Function to Swap 2 Integers\n",
        "\n",
        "A = 10\n",
        "B = 20\n",
        "def Swap(A, B):\n",
        "  print(\"A and B Values Before Swapping: \", A, B)\n",
        "  A, B = B, A\n",
        "  print(\"A and B Values After Swapping: \", A, B)\n",
        "Swap(A, B)"
      ],
      "metadata": {
        "colab": {
          "base_uri": "https://localhost:8080/"
        },
        "id": "mVkthH48K5ks",
        "outputId": "d7c36b73-72a4-4009-f102-c61c38e11b5f"
      },
      "execution_count": 107,
      "outputs": [
        {
          "output_type": "stream",
          "name": "stdout",
          "text": [
            "A and B Values Before Swapping:  10 20\n",
            "A and B Values After Swapping:  20 10\n"
          ]
        }
      ]
    },
    {
      "cell_type": "code",
      "source": [
        "# Write a Python Script to Generate a Sequence using Functions\n",
        "\n",
        "def Seq():\n",
        "  for i in range(1, 21):\n",
        "    print(i, end = ' ')\n",
        "\n",
        "Seq()\n"
      ],
      "metadata": {
        "colab": {
          "base_uri": "https://localhost:8080/"
        },
        "id": "XJj6E5sMLmdO",
        "outputId": "e709d2d3-7c8f-49cb-ab17-bc34613d44ca"
      },
      "execution_count": 110,
      "outputs": [
        {
          "output_type": "stream",
          "name": "stdout",
          "text": [
            "1 2 3 4 5 6 7 8 9 10 11 12 13 14 15 16 17 18 19 20 "
          ]
        }
      ]
    },
    {
      "cell_type": "code",
      "source": [
        ""
      ],
      "metadata": {
        "id": "HY6UsD0lMOSG"
      },
      "execution_count": null,
      "outputs": []
    }
  ]
}