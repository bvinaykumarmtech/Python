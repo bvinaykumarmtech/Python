{
  "nbformat": 4,
  "nbformat_minor": 0,
  "metadata": {
    "colab": {
      "name": "Python Basics (08-03-2022).ipynb",
      "provenance": [],
      "authorship_tag": "ABX9TyPVWTVt0ITzZmDsMAHsmLie",
      "include_colab_link": true
    },
    "kernelspec": {
      "name": "python3",
      "display_name": "Python 3"
    },
    "language_info": {
      "name": "python"
    }
  },
  "cells": [
    {
      "cell_type": "markdown",
      "metadata": {
        "id": "view-in-github",
        "colab_type": "text"
      },
      "source": [
        "<a href=\"https://colab.research.google.com/github/bvinaykumarmtech/Python/blob/master/Python_Basics_(08_03_2022).ipynb\" target=\"_parent\"><img src=\"https://colab.research.google.com/assets/colab-badge.svg\" alt=\"Open In Colab\"/></a>"
      ]
    },
    {
      "cell_type": "code",
      "execution_count": null,
      "metadata": {
        "colab": {
          "base_uri": "https://localhost:8080/"
        },
        "id": "YLcSdQ9j1pAH",
        "outputId": "e59870d4-09d3-4a1a-b8e6-4ebc8a4c2827"
      },
      "outputs": [
        {
          "output_type": "stream",
          "name": "stdout",
          "text": [
            "Enter any Number:  56\n",
            "The Given Number is Even\n"
          ]
        }
      ],
      "source": [
        "# Even or Odd\n",
        "number = int(input('Enter any Number:  '))\n",
        "if number % 2 == 1:\n",
        "  print('The Given number is Odd')\n",
        "else:\n",
        "  print('The Given Number is Even')"
      ]
    },
    {
      "cell_type": "code",
      "source": [
        "# If Number is Even Say 'Hai' Otherwise 'Bye'\n",
        "number = int(input('Enter any Number:'))\n",
        "a = number % 2\n",
        "if a == 0:\n",
        "  print('Hai')\n",
        "else:\n",
        "  print('Bye')"
      ],
      "metadata": {
        "id": "M_g0MKQ521m8",
        "colab": {
          "base_uri": "https://localhost:8080/"
        },
        "outputId": "6409dd54-4959-4b63-a1f8-9576b31ae74b"
      },
      "execution_count": null,
      "outputs": [
        {
          "output_type": "stream",
          "name": "stdout",
          "text": [
            "Enter any Number:56\n",
            "Hai\n"
          ]
        }
      ]
    },
    {
      "cell_type": "code",
      "source": [
        "# List is a Sequence like Strings\n",
        "# List is Mutable\n",
        "# List is a Class\n",
        "# List is a Heterogeneous Container (It may have same type of elements or Different Type)\n",
        "\n",
        "# How to Create an Empty List\n",
        "\n",
        "L = list()\n",
        "# Adding Elements to a List\n",
        "L.append(1) # Integer\n",
        "L.append(2.2) # Float\n",
        "L.append(\"Paul\") # String\n",
        "\n",
        "# Displaying List Elements\n",
        "print(L)"
      ],
      "metadata": {
        "colab": {
          "base_uri": "https://localhost:8080/"
        },
        "id": "_17xAWt4MqnU",
        "outputId": "4de5c7b7-6622-4022-90c8-78aa87335ecd"
      },
      "execution_count": null,
      "outputs": [
        {
          "output_type": "stream",
          "name": "stdout",
          "text": [
            "[1, 2.2, 'Paul']\n"
          ]
        }
      ]
    },
    {
      "cell_type": "code",
      "source": [
        "# Element by Element Access\n",
        "for i in L:\n",
        "  print(i)"
      ],
      "metadata": {
        "colab": {
          "base_uri": "https://localhost:8080/"
        },
        "id": "Qrbzs4aZNn4z",
        "outputId": "cf114c08-b5df-4262-dae6-0b93c77d54a5"
      },
      "execution_count": null,
      "outputs": [
        {
          "output_type": "stream",
          "name": "stdout",
          "text": [
            "1\n",
            "2.2\n",
            "Paul\n"
          ]
        }
      ]
    },
    {
      "cell_type": "code",
      "source": [
        "for i in range(len(L)):\n",
        "  print(i, '=>', L[i])"
      ],
      "metadata": {
        "colab": {
          "base_uri": "https://localhost:8080/"
        },
        "id": "5UHX_eEROA-n",
        "outputId": "5e4aca16-c006-4818-da5b-c69af015ac7e"
      },
      "execution_count": null,
      "outputs": [
        {
          "output_type": "stream",
          "name": "stdout",
          "text": [
            "0 => 1\n",
            "1 => 2.2\n",
            "2 => Paul\n"
          ]
        }
      ]
    },
    {
      "cell_type": "code",
      "source": [
        "i = 0\n",
        "while i < len(L):\n",
        "  print(i, '=>', L[i])\n",
        "  i = i + 1"
      ],
      "metadata": {
        "colab": {
          "base_uri": "https://localhost:8080/"
        },
        "id": "vX1nWd2KOcqp",
        "outputId": "1c28c01d-dac9-411e-fca8-9b2075a2458a"
      },
      "execution_count": null,
      "outputs": [
        {
          "output_type": "stream",
          "name": "stdout",
          "text": [
            "0 => 1\n",
            "1 => 2.2\n",
            "2 => Paul\n"
          ]
        }
      ]
    },
    {
      "cell_type": "code",
      "source": [
        "# List of Integers\n",
        "L = [1, 2, 3, 4, 5, 6, 7]\n",
        "print('The Number of Elements of a List is: ', len(L)) # Length\n",
        "print(\"First Element of List is: \", L[0]) # Indexing\n",
        "print('Last Element of List is: ', L[-1])"
      ],
      "metadata": {
        "colab": {
          "base_uri": "https://localhost:8080/"
        },
        "id": "XDbdqzGcPVdX",
        "outputId": "717f363e-d0a1-4540-86da-5ac6b77adfeb"
      },
      "execution_count": null,
      "outputs": [
        {
          "output_type": "stream",
          "name": "stdout",
          "text": [
            "The Number of Elements of a List is:  7\n",
            "First Element of List is:  1\n",
            "Last Element of List is:  7\n"
          ]
        }
      ]
    },
    {
      "cell_type": "code",
      "source": [
        "# Accessing Alternative Elements (Slicing)\n",
        "print(L[0:6:2])"
      ],
      "metadata": {
        "colab": {
          "base_uri": "https://localhost:8080/"
        },
        "id": "MBjjL6H_P_AH",
        "outputId": "76705d22-ba28-43a0-b1d5-562c6e4e9d8f"
      },
      "execution_count": null,
      "outputs": [
        {
          "output_type": "stream",
          "name": "stdout",
          "text": [
            "[1, 3, 5]\n"
          ]
        }
      ]
    },
    {
      "cell_type": "code",
      "source": [
        "# Reverse the List\n",
        "print(L[::-1])\n"
      ],
      "metadata": {
        "colab": {
          "base_uri": "https://localhost:8080/"
        },
        "id": "YRuDvyqcRImv",
        "outputId": "1fd54ba7-43cc-4802-8ad6-69471cb8ebc8"
      },
      "execution_count": null,
      "outputs": [
        {
          "output_type": "stream",
          "name": "stdout",
          "text": [
            "[7, 6, 5, 4, 3, 2, 1]\n"
          ]
        }
      ]
    },
    {
      "cell_type": "code",
      "source": [
        "print(L)"
      ],
      "metadata": {
        "colab": {
          "base_uri": "https://localhost:8080/"
        },
        "id": "6lXaA49RRpPy",
        "outputId": "e234e1d7-b31d-40aa-8b27-ea8038f6fb5a"
      },
      "execution_count": null,
      "outputs": [
        {
          "output_type": "stream",
          "name": "stdout",
          "text": [
            "[1, 2, 3, 4, 5, 6, 7]\n"
          ]
        }
      ]
    },
    {
      "cell_type": "code",
      "source": [
        "# Compute Sum of List Elements\n",
        "L1 = [2, 4, 1, 5, 7, 6, 12, 36, 45] # Defining List\n",
        "S = 0 # Initializing Sum Variable\n",
        "for i in L1: # Accessing List Elements\n",
        "  S = S + i # Adding an Element to the List\n",
        "print(\"Sum of List is: \", S) # Displaying the Result"
      ],
      "metadata": {
        "colab": {
          "base_uri": "https://localhost:8080/"
        },
        "id": "7Vrld2wfRryQ",
        "outputId": "285c3156-650d-4688-f79a-750aabfe41c2"
      },
      "execution_count": null,
      "outputs": [
        {
          "output_type": "stream",
          "name": "stdout",
          "text": [
            "Sum of List is:  118\n"
          ]
        }
      ]
    },
    {
      "cell_type": "code",
      "source": [
        "# Find the Sum of Even and Odd Numbers of a List\n",
        "L2 = [1, 2, 3, 4, 5, 6, 7, 8, 9, 10]\n",
        "ESum = 0; OSum = 0\n",
        "for i in L2:\n",
        "  if i % 2 == 0:\n",
        "    ESum += i\n",
        "  else:\n",
        "    OSum += i\n",
        "print('The Sum of Even Elements: ', ESum); print('The Sum of Odd Elements: ', OSum)"
      ],
      "metadata": {
        "colab": {
          "base_uri": "https://localhost:8080/"
        },
        "id": "Bw0WnvR3SHT3",
        "outputId": "74fb6a89-c555-4aa7-eb42-e1a6db71f0f3"
      },
      "execution_count": null,
      "outputs": [
        {
          "output_type": "stream",
          "name": "stdout",
          "text": [
            "The Sum of Even Elements:  30\n",
            "The Sum of Odd Elements:  25\n"
          ]
        }
      ]
    },
    {
      "cell_type": "code",
      "source": [
        "# Find the Even Indexed Sum of List Elements\n",
        "L3 = [2, 3, 5, 4, 7, 8, 9]\n",
        "Sum = 0\n",
        "for i in range(0, len(L3), 2):\n",
        "  Sum = Sum + L3[i]\n",
        "print(\"Even Indexed Elements Sum is: \", Sum)\n"
      ],
      "metadata": {
        "colab": {
          "base_uri": "https://localhost:8080/"
        },
        "id": "mtGKnJCZS0TL",
        "outputId": "3b209358-638f-4c57-9f5d-5fb75c8ec3bb"
      },
      "execution_count": null,
      "outputs": [
        {
          "output_type": "stream",
          "name": "stdout",
          "text": [
            "Even Indexed Elements Sum is:  23\n"
          ]
        }
      ]
    },
    {
      "cell_type": "code",
      "source": [
        "# Find the Odd Indexed Sum of List Elements\n",
        "L3 = [2, 3, 5, 4, 7, 8, 9]\n",
        "Sum = 0\n",
        "for i in range(1, len(L3), 2):\n",
        "  Sum = Sum + L3[i]\n",
        "print(\"Odd Indexed Elements Sum is: \", Sum)"
      ],
      "metadata": {
        "colab": {
          "base_uri": "https://localhost:8080/"
        },
        "id": "kDLSISVzURAy",
        "outputId": "c3ad6114-1574-4331-95f8-fac87a3678e3"
      },
      "execution_count": null,
      "outputs": [
        {
          "output_type": "stream",
          "name": "stdout",
          "text": [
            "Odd Indexed Elements Sum is:  15\n"
          ]
        }
      ]
    },
    {
      "cell_type": "code",
      "source": [
        "# Tuple\n",
        "# Tuple also a Sequence like List\n",
        "# Tuple is Immutable like string\n",
        "# Tuple supports indexing, slicing also\n",
        "\n",
        "# Creation of an Empty Tuple\n",
        "\n",
        "t = ()\n",
        "\n",
        "print(t)"
      ],
      "metadata": {
        "id": "UwtOqGiTUvJj",
        "colab": {
          "base_uri": "https://localhost:8080/"
        },
        "outputId": "72077025-7288-44ea-9939-f3b42f4a1416"
      },
      "execution_count": null,
      "outputs": [
        {
          "output_type": "stream",
          "name": "stdout",
          "text": [
            "()\n"
          ]
        }
      ]
    },
    {
      "cell_type": "code",
      "source": [
        "t = tuple()\n",
        "print(t)"
      ],
      "metadata": {
        "colab": {
          "base_uri": "https://localhost:8080/"
        },
        "id": "LD1plv_iIdvp",
        "outputId": "6947be11-7b63-4386-fce7-76e8a637360e"
      },
      "execution_count": null,
      "outputs": [
        {
          "output_type": "stream",
          "name": "stdout",
          "text": [
            "()\n"
          ]
        }
      ]
    },
    {
      "cell_type": "code",
      "source": [
        "t1 = (1, 2, 3, 4, 5)\n",
        "# Display tuple elements\n",
        "for i in t1:\n",
        "  print(i)"
      ],
      "metadata": {
        "colab": {
          "base_uri": "https://localhost:8080/"
        },
        "id": "7KJsuqOzInVI",
        "outputId": "e37d0026-8f34-49fc-a5c6-1ba8c2096437"
      },
      "execution_count": null,
      "outputs": [
        {
          "output_type": "stream",
          "name": "stdout",
          "text": [
            "1\n",
            "2\n",
            "3\n",
            "4\n",
            "5\n"
          ]
        }
      ]
    },
    {
      "cell_type": "code",
      "source": [
        "for i in range(len(t1)):\n",
        "  print(t1[i])"
      ],
      "metadata": {
        "colab": {
          "base_uri": "https://localhost:8080/"
        },
        "id": "uDTod9hRIygV",
        "outputId": "e61e5134-70d5-434e-b5ee-23bb3774a837"
      },
      "execution_count": null,
      "outputs": [
        {
          "output_type": "stream",
          "name": "stdout",
          "text": [
            "1\n",
            "2\n",
            "3\n",
            "4\n",
            "5\n"
          ]
        }
      ]
    },
    {
      "cell_type": "code",
      "source": [
        "print(min(t1))"
      ],
      "metadata": {
        "colab": {
          "base_uri": "https://localhost:8080/"
        },
        "id": "Rw_ZfrstI-e4",
        "outputId": "6fa32130-d4db-481c-b7be-93836db6d965"
      },
      "execution_count": null,
      "outputs": [
        {
          "output_type": "stream",
          "name": "stdout",
          "text": [
            "1\n"
          ]
        }
      ]
    },
    {
      "cell_type": "code",
      "source": [
        "print(max(t1))"
      ],
      "metadata": {
        "colab": {
          "base_uri": "https://localhost:8080/"
        },
        "id": "4UJLC8BNJUf5",
        "outputId": "24106c77-f314-45ad-fd45-41c2e080973f"
      },
      "execution_count": null,
      "outputs": [
        {
          "output_type": "stream",
          "name": "stdout",
          "text": [
            "5\n"
          ]
        }
      ]
    },
    {
      "cell_type": "code",
      "source": [
        "print(sum(t1))"
      ],
      "metadata": {
        "colab": {
          "base_uri": "https://localhost:8080/"
        },
        "id": "pSXhPgpBJZJ2",
        "outputId": "92ac59a0-b758-4078-ff1a-a0b033014a19"
      },
      "execution_count": null,
      "outputs": [
        {
          "output_type": "stream",
          "name": "stdout",
          "text": [
            "15\n"
          ]
        }
      ]
    },
    {
      "cell_type": "code",
      "source": [
        "t1"
      ],
      "metadata": {
        "colab": {
          "base_uri": "https://localhost:8080/"
        },
        "id": "6RPxRG_eJegT",
        "outputId": "17ce3634-5ae8-4441-990d-0d2fb99d9b66"
      },
      "execution_count": null,
      "outputs": [
        {
          "output_type": "execute_result",
          "data": {
            "text/plain": [
              "(1, 2, 3, 4, 5)"
            ]
          },
          "metadata": {},
          "execution_count": 10
        }
      ]
    },
    {
      "cell_type": "code",
      "source": [
        "t1[0:3]"
      ],
      "metadata": {
        "colab": {
          "base_uri": "https://localhost:8080/"
        },
        "id": "6HLG7boGJlbQ",
        "outputId": "3e137b39-7c19-47f2-d6e8-5b6a4635637b"
      },
      "execution_count": null,
      "outputs": [
        {
          "output_type": "execute_result",
          "data": {
            "text/plain": [
              "(1, 2, 3)"
            ]
          },
          "metadata": {},
          "execution_count": 11
        }
      ]
    },
    {
      "cell_type": "code",
      "source": [
        "t1[::-1]"
      ],
      "metadata": {
        "colab": {
          "base_uri": "https://localhost:8080/"
        },
        "id": "lXhrnReWJqXM",
        "outputId": "d937a663-b534-4425-a05e-30b4c4e89316"
      },
      "execution_count": null,
      "outputs": [
        {
          "output_type": "execute_result",
          "data": {
            "text/plain": [
              "(5, 4, 3, 2, 1)"
            ]
          },
          "metadata": {},
          "execution_count": 12
        }
      ]
    },
    {
      "cell_type": "code",
      "source": [
        "print(dir(t1))"
      ],
      "metadata": {
        "colab": {
          "base_uri": "https://localhost:8080/"
        },
        "id": "F8u0rFEIJwoo",
        "outputId": "8fc3f95f-2289-42c7-a792-61ec9a34792f"
      },
      "execution_count": null,
      "outputs": [
        {
          "output_type": "stream",
          "name": "stdout",
          "text": [
            "['__add__', '__class__', '__contains__', '__delattr__', '__dir__', '__doc__', '__eq__', '__format__', '__ge__', '__getattribute__', '__getitem__', '__getnewargs__', '__gt__', '__hash__', '__init__', '__init_subclass__', '__iter__', '__le__', '__len__', '__lt__', '__mul__', '__ne__', '__new__', '__reduce__', '__reduce_ex__', '__repr__', '__rmul__', '__setattr__', '__sizeof__', '__str__', '__subclasshook__', 'count', 'index']\n"
          ]
        }
      ]
    },
    {
      "cell_type": "code",
      "source": [
        "t = (1, 2, 1, 4, 1, 4, 1, 2)"
      ],
      "metadata": {
        "id": "yILLHcsxJ4TN"
      },
      "execution_count": null,
      "outputs": []
    },
    {
      "cell_type": "code",
      "source": [
        "print(t.count(2))"
      ],
      "metadata": {
        "colab": {
          "base_uri": "https://localhost:8080/"
        },
        "id": "grVgCP14KKwW",
        "outputId": "ad4a9919-ca90-4fc2-8029-12a87228904f"
      },
      "execution_count": null,
      "outputs": [
        {
          "output_type": "stream",
          "name": "stdout",
          "text": [
            "2\n"
          ]
        }
      ]
    },
    {
      "cell_type": "code",
      "source": [
        "print(t[::-1].count(2))"
      ],
      "metadata": {
        "colab": {
          "base_uri": "https://localhost:8080/"
        },
        "id": "xqnRHw2HKPWI",
        "outputId": "26474e4b-2acc-4643-9429-6a6283131d65"
      },
      "execution_count": null,
      "outputs": [
        {
          "output_type": "stream",
          "name": "stdout",
          "text": [
            "2\n"
          ]
        }
      ]
    },
    {
      "cell_type": "code",
      "source": [
        "t = (\"One\", \"Two\", \"Three\", \"Four\")\n",
        "\n",
        "print(t[0][::-1])"
      ],
      "metadata": {
        "colab": {
          "base_uri": "https://localhost:8080/"
        },
        "id": "0qRUTJKxKb16",
        "outputId": "d943168d-7cf5-41f3-f6ec-0091644a1290"
      },
      "execution_count": null,
      "outputs": [
        {
          "output_type": "stream",
          "name": "stdout",
          "text": [
            "enO\n"
          ]
        }
      ]
    },
    {
      "cell_type": "code",
      "source": [
        "print(t[2][1:4])"
      ],
      "metadata": {
        "colab": {
          "base_uri": "https://localhost:8080/"
        },
        "id": "SKQkUdQ1LL94",
        "outputId": "0f1adc4d-7658-4dab-cad2-df8bfa16ceb3"
      },
      "execution_count": null,
      "outputs": [
        {
          "output_type": "stream",
          "name": "stdout",
          "text": [
            "hre\n"
          ]
        }
      ]
    },
    {
      "cell_type": "code",
      "source": [
        "t = ([1, 2, 3], [4, 5, 6])\n",
        "for i in t:\n",
        "  for j in i:\n",
        "    print(j)"
      ],
      "metadata": {
        "colab": {
          "base_uri": "https://localhost:8080/"
        },
        "id": "F0xLVUdHL5Iz",
        "outputId": "b630848c-8233-4561-fe2f-47bddbbe02d3"
      },
      "execution_count": null,
      "outputs": [
        {
          "output_type": "stream",
          "name": "stdout",
          "text": [
            "1\n",
            "2\n",
            "3\n",
            "4\n",
            "5\n",
            "6\n"
          ]
        }
      ]
    },
    {
      "cell_type": "code",
      "source": [
        "t = (1, 'ABC', [1, 2, 3], 2.3)\n",
        "for i in t:\n",
        "  print(i)"
      ],
      "metadata": {
        "colab": {
          "base_uri": "https://localhost:8080/"
        },
        "id": "4ufWOOitMUX1",
        "outputId": "206ea4c3-7a86-45ff-84a8-07f412e1f380"
      },
      "execution_count": null,
      "outputs": [
        {
          "output_type": "stream",
          "name": "stdout",
          "text": [
            "1\n",
            "ABC\n",
            "[1, 2, 3]\n",
            "2.3\n"
          ]
        }
      ]
    },
    {
      "cell_type": "code",
      "source": [
        "print(sum(t[2]))"
      ],
      "metadata": {
        "colab": {
          "base_uri": "https://localhost:8080/"
        },
        "id": "Ucqg2flUMo-U",
        "outputId": "15f19de1-7848-45cd-a1ef-8294cf4d9b1d"
      },
      "execution_count": null,
      "outputs": [
        {
          "output_type": "stream",
          "name": "stdout",
          "text": [
            "6\n"
          ]
        }
      ]
    },
    {
      "cell_type": "code",
      "source": [
        "print(len(t[1]))"
      ],
      "metadata": {
        "colab": {
          "base_uri": "https://localhost:8080/"
        },
        "id": "QWyJ9mvnM3EV",
        "outputId": "2b73ec99-2bdc-44e7-ff6f-00dab6d9af88"
      },
      "execution_count": null,
      "outputs": [
        {
          "output_type": "stream",
          "name": "stdout",
          "text": [
            "3\n"
          ]
        }
      ]
    },
    {
      "cell_type": "code",
      "source": [
        "# Set\n",
        "s = set() # set() used to create an Empty Set\n",
        "\n",
        "print(s)"
      ],
      "metadata": {
        "colab": {
          "base_uri": "https://localhost:8080/"
        },
        "id": "dJVTy7ABM9_z",
        "outputId": "9ba715a7-2bab-4813-ad01-1fd0aa88c6d8"
      },
      "execution_count": null,
      "outputs": [
        {
          "output_type": "stream",
          "name": "stdout",
          "text": [
            "set()\n"
          ]
        }
      ]
    },
    {
      "cell_type": "code",
      "source": [
        "S = {'Str', 1, 2.6, 3, 4, 1, 2, 5, (5, 6, 7)}\n",
        "print(len(S))"
      ],
      "metadata": {
        "colab": {
          "base_uri": "https://localhost:8080/"
        },
        "id": "cvulIdCPN1lb",
        "outputId": "6a296e60-0e56-4f79-d501-83e2f3ead2e7"
      },
      "execution_count": null,
      "outputs": [
        {
          "output_type": "stream",
          "name": "stdout",
          "text": [
            "8\n"
          ]
        }
      ]
    },
    {
      "cell_type": "code",
      "source": [
        "S"
      ],
      "metadata": {
        "colab": {
          "base_uri": "https://localhost:8080/"
        },
        "id": "q0_a6PqHOEDt",
        "outputId": "c52f5dda-7b95-4194-c7cd-ecd01a4a30e7"
      },
      "execution_count": null,
      "outputs": [
        {
          "output_type": "execute_result",
          "data": {
            "text/plain": [
              "{(5, 6, 7), 1, 2, 2.6, 3, 4, 5, 'Str'}"
            ]
          },
          "metadata": {},
          "execution_count": 51
        }
      ]
    },
    {
      "cell_type": "code",
      "source": [
        "print(dir(S))"
      ],
      "metadata": {
        "colab": {
          "base_uri": "https://localhost:8080/"
        },
        "id": "RHGv_qT1OLR2",
        "outputId": "575a7c4a-32dc-4857-c696-26d60c11b1d1"
      },
      "execution_count": null,
      "outputs": [
        {
          "output_type": "stream",
          "name": "stdout",
          "text": [
            "['__and__', '__class__', '__contains__', '__delattr__', '__dir__', '__doc__', '__eq__', '__format__', '__ge__', '__getattribute__', '__gt__', '__hash__', '__iand__', '__init__', '__init_subclass__', '__ior__', '__isub__', '__iter__', '__ixor__', '__le__', '__len__', '__lt__', '__ne__', '__new__', '__or__', '__rand__', '__reduce__', '__reduce_ex__', '__repr__', '__ror__', '__rsub__', '__rxor__', '__setattr__', '__sizeof__', '__str__', '__sub__', '__subclasshook__', '__xor__', 'add', 'clear', 'copy', 'difference', 'difference_update', 'discard', 'intersection', 'intersection_update', 'isdisjoint', 'issubset', 'issuperset', 'pop', 'remove', 'symmetric_difference', 'symmetric_difference_update', 'union', 'update']\n"
          ]
        }
      ]
    },
    {
      "cell_type": "code",
      "source": [
        "S.add('XYZ')"
      ],
      "metadata": {
        "id": "cec9ZYXQPi52"
      },
      "execution_count": null,
      "outputs": []
    },
    {
      "cell_type": "code",
      "source": [
        "S"
      ],
      "metadata": {
        "colab": {
          "base_uri": "https://localhost:8080/"
        },
        "id": "V9J6UaqZP8hs",
        "outputId": "a7a029c5-c300-4f1c-93d0-6c95ffd0adf1"
      },
      "execution_count": null,
      "outputs": [
        {
          "output_type": "execute_result",
          "data": {
            "text/plain": [
              "{(5, 6, 7), 1, 2, 2.6, 3, 4, 5, 'Str', 'XYZ'}"
            ]
          },
          "metadata": {},
          "execution_count": 55
        }
      ]
    },
    {
      "cell_type": "code",
      "source": [
        "print(S.remove(2))"
      ],
      "metadata": {
        "colab": {
          "base_uri": "https://localhost:8080/"
        },
        "id": "mr8oHpLGQIxk",
        "outputId": "aecbfa44-af45-4130-ec42-af4db9bd5c76"
      },
      "execution_count": null,
      "outputs": [
        {
          "output_type": "stream",
          "name": "stdout",
          "text": [
            "None\n"
          ]
        }
      ]
    },
    {
      "cell_type": "code",
      "source": [
        "S"
      ],
      "metadata": {
        "id": "eVSKAxbqQOTb"
      },
      "execution_count": null,
      "outputs": []
    },
    {
      "cell_type": "code",
      "source": [
        "s = {1, 2, 3}\n",
        "t = {3, 4, 5}\n",
        "\n",
        "print(s.union(t))"
      ],
      "metadata": {
        "colab": {
          "base_uri": "https://localhost:8080/"
        },
        "id": "27tZwkdNQPhG",
        "outputId": "b15f471e-908c-4943-979c-49c2aa4789ba"
      },
      "execution_count": null,
      "outputs": [
        {
          "output_type": "stream",
          "name": "stdout",
          "text": [
            "{1, 2, 3, 4, 5}\n"
          ]
        }
      ]
    },
    {
      "cell_type": "code",
      "source": [
        "print(s.intersection(t))"
      ],
      "metadata": {
        "colab": {
          "base_uri": "https://localhost:8080/"
        },
        "id": "hh6uXTeXQpfm",
        "outputId": "f05a64bd-445e-4e7c-eb64-0ccf5af677d9"
      },
      "execution_count": null,
      "outputs": [
        {
          "output_type": "stream",
          "name": "stdout",
          "text": [
            "{3}\n"
          ]
        }
      ]
    },
    {
      "cell_type": "code",
      "source": [
        "print(t.difference(s))"
      ],
      "metadata": {
        "colab": {
          "base_uri": "https://localhost:8080/"
        },
        "id": "97ImVZJcRg5t",
        "outputId": "fd6de163-7535-4480-c06d-8786da52f947"
      },
      "execution_count": null,
      "outputs": [
        {
          "output_type": "stream",
          "name": "stdout",
          "text": [
            "{4, 5}\n"
          ]
        }
      ]
    },
    {
      "cell_type": "code",
      "source": [
        "# Dictionary\n",
        "\n",
        "print(dir(dict()))\n",
        "print(dir({}))"
      ],
      "metadata": {
        "id": "i9LStFtkRr3M",
        "colab": {
          "base_uri": "https://localhost:8080/"
        },
        "outputId": "aa3b56d2-5067-4ebe-aa20-56bd309395b4"
      },
      "execution_count": 3,
      "outputs": [
        {
          "output_type": "stream",
          "name": "stdout",
          "text": [
            "['__class__', '__contains__', '__delattr__', '__delitem__', '__dir__', '__doc__', '__eq__', '__format__', '__ge__', '__getattribute__', '__getitem__', '__gt__', '__hash__', '__init__', '__init_subclass__', '__iter__', '__le__', '__len__', '__lt__', '__ne__', '__new__', '__reduce__', '__reduce_ex__', '__repr__', '__setattr__', '__setitem__', '__sizeof__', '__str__', '__subclasshook__', 'clear', 'copy', 'fromkeys', 'get', 'items', 'keys', 'pop', 'popitem', 'setdefault', 'update', 'values']\n",
            "['__class__', '__contains__', '__delattr__', '__delitem__', '__dir__', '__doc__', '__eq__', '__format__', '__ge__', '__getattribute__', '__getitem__', '__gt__', '__hash__', '__init__', '__init_subclass__', '__iter__', '__le__', '__len__', '__lt__', '__ne__', '__new__', '__reduce__', '__reduce_ex__', '__repr__', '__setattr__', '__setitem__', '__sizeof__', '__str__', '__subclasshook__', 'clear', 'copy', 'fromkeys', 'get', 'items', 'keys', 'pop', 'popitem', 'setdefault', 'update', 'values']\n"
          ]
        }
      ]
    },
    {
      "cell_type": "code",
      "source": [
        "# Creation of an Empty Dictionary\n",
        "d = {}\n",
        "print(d)"
      ],
      "metadata": {
        "colab": {
          "base_uri": "https://localhost:8080/"
        },
        "id": "mgNrVdJYXuQh",
        "outputId": "aeb2d1cf-884d-43d1-9ee9-01da5ab2d076"
      },
      "execution_count": 5,
      "outputs": [
        {
          "output_type": "stream",
          "name": "stdout",
          "text": [
            "{}\n"
          ]
        }
      ]
    },
    {
      "cell_type": "code",
      "source": [
        "d = {1:'Abc', 2:'Def', 3:'xyz'} # dictionary with 3 keys and values\n",
        "d1 = { 'Vijayawada': 10000, 'Kakinada': 20000, 'Tirupati': 3000}"
      ],
      "metadata": {
        "id": "40a6UqGCYVsi"
      },
      "execution_count": 7,
      "outputs": []
    },
    {
      "cell_type": "code",
      "source": [
        "# Adding a new element to dictionary\n",
        "d[4]='vbn'"
      ],
      "metadata": {
        "id": "MFty0XLgZSAA"
      },
      "execution_count": 8,
      "outputs": []
    },
    {
      "cell_type": "code",
      "source": [
        "# Display Whole Dictionary\n",
        "print(d)"
      ],
      "metadata": {
        "colab": {
          "base_uri": "https://localhost:8080/"
        },
        "id": "7521hmzoZk35",
        "outputId": "b14137af-d024-4cae-8340-121e13f83bce"
      },
      "execution_count": 11,
      "outputs": [
        {
          "output_type": "stream",
          "name": "stdout",
          "text": [
            "{1: 'Abc', 2: 'Def', 3: 'xyz', 4: 'vbn'}\n"
          ]
        }
      ]
    },
    {
      "cell_type": "code",
      "source": [
        "# Accessing single value using Key\n",
        "print(d[2])"
      ],
      "metadata": {
        "colab": {
          "base_uri": "https://localhost:8080/"
        },
        "id": "ELnnnnkGZozs",
        "outputId": "181aec48-7196-4320-fac4-29cc54055931"
      },
      "execution_count": 12,
      "outputs": [
        {
          "output_type": "stream",
          "name": "stdout",
          "text": [
            "Def\n"
          ]
        }
      ]
    },
    {
      "cell_type": "code",
      "source": [
        "# 'clear', 'copy', 'fromkeys', 'get', 'items', 'keys', 'pop', 'popitem', 'setdefault', 'update', 'values'\n",
        "print(d1)\n",
        "d1.clear()\n",
        "print(d1)"
      ],
      "metadata": {
        "colab": {
          "base_uri": "https://localhost:8080/"
        },
        "id": "mAim0wbSZy8U",
        "outputId": "de3b8b26-d7cc-46fd-fcec-906aa35a4df5"
      },
      "execution_count": 14,
      "outputs": [
        {
          "output_type": "stream",
          "name": "stdout",
          "text": [
            "{'Vijayawada': 10000, 'Kakinada': 20000, 'Tirupati': 3000}\n",
            "{}\n"
          ]
        }
      ]
    },
    {
      "cell_type": "code",
      "source": [
        "d2 = {1:2, 3:4, 5:6, 7:8, 9:0}\n",
        "d3 = d2.copy()\n",
        "d4 = d2\n",
        "print(d3)\n",
        "print(d4)"
      ],
      "metadata": {
        "colab": {
          "base_uri": "https://localhost:8080/"
        },
        "id": "tyw_Uk04aU4n",
        "outputId": "6e0c4b79-cf4e-43a9-cc25-ba98c7ebba81"
      },
      "execution_count": 17,
      "outputs": [
        {
          "output_type": "stream",
          "name": "stdout",
          "text": [
            "{1: 2, 3: 4, 5: 6, 7: 8, 9: 0}\n",
            "{1: 2, 3: 4, 5: 6, 7: 8, 9: 0}\n"
          ]
        }
      ]
    },
    {
      "cell_type": "code",
      "source": [
        "help(d.fromkeys)"
      ],
      "metadata": {
        "colab": {
          "base_uri": "https://localhost:8080/"
        },
        "id": "Hali0gOHazDO",
        "outputId": "af319467-4df6-4c52-b1b4-1e21c348ae92"
      },
      "execution_count": 18,
      "outputs": [
        {
          "output_type": "stream",
          "name": "stdout",
          "text": [
            "Help on built-in function fromkeys:\n",
            "\n",
            "fromkeys(iterable, value=None, /) method of builtins.type instance\n",
            "    Create a new dictionary with keys from iterable and values set to value.\n",
            "\n"
          ]
        }
      ]
    },
    {
      "cell_type": "code",
      "source": [
        "l = [\"Vijayawada\", \"Guntur\", \"Ongole\", \"Amaravati\"]\n",
        "sales = dict.fromkeys(l)\n",
        "print(sales)\n"
      ],
      "metadata": {
        "colab": {
          "base_uri": "https://localhost:8080/"
        },
        "id": "w7UMtu6XbK3w",
        "outputId": "d90435a3-99ba-450b-9959-42bda5fde9cb"
      },
      "execution_count": 22,
      "outputs": [
        {
          "output_type": "stream",
          "name": "stdout",
          "text": [
            "{'Vijayawada': None, 'Guntur': None, 'Ongole': None, 'Amaravati': None}\n"
          ]
        }
      ]
    },
    {
      "cell_type": "code",
      "source": [
        "sales['Vijayawada'] = 12345\n",
        "sales['Ongole'] = 23547\n",
        "sales['Amaravati'] = 87654\n",
        "sales['Guntur'] = 25478"
      ],
      "metadata": {
        "id": "YX-8p_0UcSMt"
      },
      "execution_count": 25,
      "outputs": []
    },
    {
      "cell_type": "code",
      "source": [
        "print(sales)"
      ],
      "metadata": {
        "colab": {
          "base_uri": "https://localhost:8080/"
        },
        "id": "BGPPnNkacrmq",
        "outputId": "09ee3ed7-d16c-4978-8ad1-5353e898b9cc"
      },
      "execution_count": 26,
      "outputs": [
        {
          "output_type": "stream",
          "name": "stdout",
          "text": [
            "{'Vijayawada': 12345, 'Guntur': 25478, 'Ongole': 23547, 'Amaravati': 87654}\n"
          ]
        }
      ]
    },
    {
      "cell_type": "code",
      "source": [
        "help(sales.get)"
      ],
      "metadata": {
        "colab": {
          "base_uri": "https://localhost:8080/"
        },
        "id": "3m_0bxu7cuFQ",
        "outputId": "166d5a1e-32a7-4ad8-85f0-754492203738"
      },
      "execution_count": 27,
      "outputs": [
        {
          "output_type": "stream",
          "name": "stdout",
          "text": [
            "Help on built-in function get:\n",
            "\n",
            "get(key, default=None, /) method of builtins.dict instance\n",
            "    Return the value for key if key is in the dictionary, else default.\n",
            "\n"
          ]
        }
      ]
    },
    {
      "cell_type": "code",
      "source": [
        "print(sales.get('Guntur', 0))"
      ],
      "metadata": {
        "colab": {
          "base_uri": "https://localhost:8080/"
        },
        "id": "aiZD_zuudOB0",
        "outputId": "cc5e8518-41c2-40c9-9aea-29b2e844f3a4"
      },
      "execution_count": 32,
      "outputs": [
        {
          "output_type": "stream",
          "name": "stdout",
          "text": [
            "25478\n"
          ]
        }
      ]
    },
    {
      "cell_type": "code",
      "source": [
        "print(sales.get('Kakinada', 0))"
      ],
      "metadata": {
        "colab": {
          "base_uri": "https://localhost:8080/"
        },
        "id": "BC3rgpoYdceW",
        "outputId": "771e8b1d-acce-48fe-e92c-c8dab3c28bdf"
      },
      "execution_count": 30,
      "outputs": [
        {
          "output_type": "stream",
          "name": "stdout",
          "text": [
            "0\n"
          ]
        }
      ]
    },
    {
      "cell_type": "code",
      "source": [
        "help(sales.items)"
      ],
      "metadata": {
        "colab": {
          "base_uri": "https://localhost:8080/"
        },
        "id": "tJ7UpNDgdzer",
        "outputId": "17981e89-20c6-4b24-dae3-70fc455bd9e1"
      },
      "execution_count": 33,
      "outputs": [
        {
          "output_type": "stream",
          "name": "stdout",
          "text": [
            "Help on built-in function items:\n",
            "\n",
            "items(...) method of builtins.dict instance\n",
            "    D.items() -> a set-like object providing a view on D's items\n",
            "\n"
          ]
        }
      ]
    },
    {
      "cell_type": "code",
      "source": [
        "# Using for with items()\n",
        "for i, j in sales.items():\n",
        "  print(i, j)"
      ],
      "metadata": {
        "colab": {
          "base_uri": "https://localhost:8080/"
        },
        "id": "zo4VwhZ6eUNu",
        "outputId": "ed6052b3-0e89-4a83-d417-636f126d5013"
      },
      "execution_count": 36,
      "outputs": [
        {
          "output_type": "stream",
          "name": "stdout",
          "text": [
            "Vijayawada 12345\n",
            "Guntur 25478\n",
            "Ongole 23547\n",
            "Amaravati 87654\n"
          ]
        }
      ]
    },
    {
      "cell_type": "code",
      "source": [
        ""
      ],
      "metadata": {
        "id": "3pYbKsvUebFZ"
      },
      "execution_count": null,
      "outputs": []
    }
  ]
}