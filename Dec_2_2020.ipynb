{
  "nbformat": 4,
  "nbformat_minor": 0,
  "metadata": {
    "colab": {
      "name": "Dec_2_2020.ipynb",
      "provenance": [],
      "authorship_tag": "ABX9TyMiJoE2RoAQAXG39sV3mAaA",
      "include_colab_link": true
    },
    "kernelspec": {
      "name": "python3",
      "display_name": "Python 3"
    }
  },
  "cells": [
    {
      "cell_type": "markdown",
      "metadata": {
        "id": "view-in-github",
        "colab_type": "text"
      },
      "source": [
        "<a href=\"https://colab.research.google.com/github/bvinaykumarmtech/Python/blob/master/Dec_2_2020.ipynb\" target=\"_parent\"><img src=\"https://colab.research.google.com/assets/colab-badge.svg\" alt=\"Open In Colab\"/></a>"
      ]
    },
    {
      "cell_type": "markdown",
      "metadata": {
        "id": "ggbTUmnXrsHp"
      },
      "source": [
        "# To demonstrate Python if, else and else statements.\n",
        "IF STATEMENT\n",
        "Syntax: if condition/variable:\n",
        "          statements # True block (When the condition is true True block will executed)"
      ]
    },
    {
      "cell_type": "code",
      "metadata": {
        "id": "-PgtU7werjFY"
      },
      "source": [
        "# To demonstrate Python if, else and else statements.\n",
        "IF STATEMENT\n",
        "Syntax: if condition/variable:\n",
        "          statements # True block (When the condition is true True block will executed)"
      ],
      "execution_count": null,
      "outputs": []
    },
    {
      "cell_type": "code",
      "metadata": {
        "colab": {
          "base_uri": "https://localhost:8080/"
        },
        "id": "KdVc9tVRr2Bc",
        "outputId": "13a451a5-1886-407c-de79-8c34a9416dbd"
      },
      "source": [
        "# Exercise-1 (Simple Interest)\n",
        "# SI = PTR/100\n",
        "P= float(input('Enter Principal Amount, '))\n",
        "T= int(input('Enter number of years,  '))\n",
        "R= int(input('Enter rate of interest,  '))\n",
        "SI= (P*T*R)/100\n",
        "print('Simple Interest is, ', SI)"
      ],
      "execution_count": 3,
      "outputs": [
        {
          "output_type": "stream",
          "text": [
            "Enter Principal Amount, 10000.12\n",
            "Enter number of years,  5\n",
            "Enter rate of interest,  24\n",
            "Simple Interest is,  12000.144000000002\n"
          ],
          "name": "stdout"
        }
      ]
    },
    {
      "cell_type": "code",
      "metadata": {
        "colab": {
          "base_uri": "https://localhost:8080/"
        },
        "id": "IBfygc9Rsgpg",
        "outputId": "c8a8a1f7-9ed1-4ea8-cde5-6e3b0329a603"
      },
      "source": [
        "# Exercise-2 (Simple Interest with control statement)\n",
        "# SI = PTR/100\n",
        "R= 24\n",
        "P= float(input('Enter Principal Amount, '))\n",
        "T= int(input('Enter number of years,  '))\n",
        "if P>100000:\n",
        "  R= 12\n",
        "SI= (P*T*R)/100\n",
        "print('Simple Interest is, ', SI)"
      ],
      "execution_count": 4,
      "outputs": [
        {
          "output_type": "stream",
          "text": [
            "Enter Principal Amount, 100000\n",
            "Enter number of years,  5\n",
            "Simple Interest is,  120000.0\n"
          ],
          "name": "stdout"
        }
      ]
    },
    {
      "cell_type": "markdown",
      "metadata": {
        "id": "H5DFzmtJ2YF6"
      },
      "source": [
        ""
      ]
    },
    {
      "cell_type": "code",
      "metadata": {
        "id": "9enRkMyK2Y30"
      },
      "source": [
        "# Exercise-3 (Voter Eligibility Checking)\n",
        "'''Description: To cast out vote the age must be >=18.\n",
        "                        If age is less than 18.\n",
        "                        They are not eligible to cast your vote.'''\n",
        "# if, elif and else\n",
        "# if, elif and else are required to solve this task.\n",
        "\"\"\"Syntax: if condition:\n",
        "                     True statements (True block)\n",
        "                 elif condition:\n",
        "                     ELIF statements (ELIF True block)\n",
        "                 else:\n",
        "                     False statements (False block)\"\"\"\n",
        "\"\"\"\n",
        "Case 1: if condition is True True Block will be executed and remaining all blocks\n",
        "(elif and else) will be skipped (not be executed).\n",
        "Case 2: if condition is False, then elif condition will be checked.\n",
        "    case 2.1 if elif condition is True then ELIF Block will be executed and else block will be skipped.\n",
        "    case 2.2 if elif condition is False then else block will be executed.\"\"\"\n",
        "\n",
        "print('Enter Your age:    ', end = ' ')\n",
        "age= int(input())\n",
        "if age == 18:\n",
        "    print(\"You are Eligible to cast your Vote,  \", age)\n",
        "elif age < 18:\n",
        "    print(\"You are not Eligible to cast your Vote,  \", age)    \n",
        "else:\n",
        "    print(\"You are Eligible to cast your Vote,  \", age)"
      ],
      "execution_count": null,
      "outputs": []
    },
    {
      "cell_type": "code",
      "metadata": {
        "colab": {
          "base_uri": "https://localhost:8080/"
        },
        "id": "2juiC5KYtYcD",
        "outputId": "6ebc06ac-fa70-4752-bcd5-5d3a08ecd5a0"
      },
      "source": [
        "# Exercise-2 (Simple Interest with control statement)\n",
        "# SI = PTR/100\n",
        "R= 24\n",
        "P= float(input('Enter Principal Amount, '))\n",
        "T= int(input('Enter number of years,  '))\n",
        "if P>100000:\n",
        "  R= 12\n",
        "SI= (P*T*R)/100\n",
        "print('Simple Interest is, ', SI)"
      ],
      "execution_count": 5,
      "outputs": [
        {
          "output_type": "stream",
          "text": [
            "Enter Principal Amount, 100001\n",
            "Enter number of years,  5\n",
            "Simple Interest is,  60000.6\n"
          ],
          "name": "stdout"
        }
      ]
    },
    {
      "cell_type": "code",
      "metadata": {
        "id": "819zI-k1tkVv"
      },
      "source": [
        "Session 1: Conditional Statements in Python and range() function in Python.\n",
        "\tEg: if, elif and else                range() - used to generate sequesce of numbers\n",
        "\t\t\t\tIt takes atmost 3 arguments\n",
        "\n",
        "Session 2: Iterative Statements in Python.\n",
        "\tEg: for and while\n",
        "\n",
        "Session 3: Control Statements in Python.\n",
        "\tEg: break, continue and pass"
      ],
      "execution_count": null,
      "outputs": []
    },
    {
      "cell_type": "code",
      "metadata": {
        "id": "zWevJ2uY9GEF"
      },
      "source": [
        "# Exercise-3 (Voter Eligibility Checking)\n",
        "'''Description: To cast out vote the age must be >=18.\n",
        "                        If age is less than 18.\n",
        "                        They are not eligible to cast your vote.'''\n",
        "# if, elif and else\n",
        "# if, elif and else are required to solve this task.\n",
        "\"\"\"Syntax: if condition:\n",
        "                     True statements (True block)\n",
        "                 elif condition:\n",
        "                     ELIF statements (ELIF True block)\n",
        "                 else:\n",
        "                     False statements (False block)\"\"\"\n",
        "\"\"\"\n",
        "Case 1: if condition is True True Block will be executed and remaining all blocks\n",
        "(elif and else) will be skipped (not be executed).\n",
        "Case 2: if condition is False, then elif condition will be checked.\n",
        "    case 2.1 if elif condition is True then ELIF Block will be executed and else block will be skipped.\n",
        "    case 2.2 if elif condition is False then else block will be executed.\"\"\"\n",
        "\n",
        "print('Enter Your age:    ', end = ' ')\n",
        "age= int(input())\n",
        "if age == 18:\n",
        "    print(\"You are Eligible to cast your Vote,  \", age)\n",
        "elif age < 18:\n",
        "    print(\"You are not Eligible to cast your Vote,  \", age)    \n",
        "else:\n",
        "    print(\"You are Eligible to cast your Vote,  \", age)"
      ],
      "execution_count": null,
      "outputs": []
    }
  ]
}