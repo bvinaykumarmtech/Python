{
 "cells": [
  {
   "cell_type": "markdown",
   "metadata": {},
   "source": [
    "### Python modules\n",
    "- Module Creation and Usage\n",
    "- Advanced Modules and Packages\n",
    "    - numpy\n",
    "    - pandas\n",
    "    - matplotlib"
   ]
  },
  {
   "cell_type": "code",
   "execution_count": 1,
   "metadata": {},
   "outputs": [
    {
     "name": "stdout",
     "output_type": "stream",
     "text": [
      "Hello Python\n",
      "30\n",
      "Vinay\n",
      "3.14\n"
     ]
    }
   ],
   "source": [
    "# Creation of Used Module\n",
    "import mymodule\n",
    "mymodule.say_hi()\n",
    "tot = mymodule.add(10, 20)\n",
    "print(tot)\n",
    "print(mymodule.name)\n",
    "print(mymodule.pi)"
   ]
  },
  {
   "cell_type": "code",
   "execution_count": 2,
   "metadata": {},
   "outputs": [
    {
     "name": "stdout",
     "output_type": "stream",
     "text": [
      "Hello Python\n"
     ]
    }
   ],
   "source": [
    "import mymodule as f\n",
    "f.say_hi()"
   ]
  },
  {
   "cell_type": "code",
   "execution_count": 3,
   "metadata": {},
   "outputs": [
    {
     "name": "stdout",
     "output_type": "stream",
     "text": [
      "Hello Python\n"
     ]
    }
   ],
   "source": [
    "from mymodule import *\n",
    "f.say_hi()"
   ]
  },
  {
   "cell_type": "code",
   "execution_count": 4,
   "metadata": {},
   "outputs": [
    {
     "data": {
      "text/plain": [
       "['__builtins__',\n",
       " '__cached__',\n",
       " '__doc__',\n",
       " '__file__',\n",
       " '__loader__',\n",
       " '__name__',\n",
       " '__package__',\n",
       " '__spec__',\n",
       " 'add',\n",
       " 'name',\n",
       " 'pi',\n",
       " 'say_hi']"
      ]
     },
     "execution_count": 4,
     "metadata": {},
     "output_type": "execute_result"
    }
   ],
   "source": [
    "dir(f)"
   ]
  },
  {
   "cell_type": "code",
   "execution_count": 12,
   "metadata": {},
   "outputs": [
    {
     "name": "stdout",
     "output_type": "stream",
     "text": [
      "Hai Function\n"
     ]
    }
   ],
   "source": [
    "print(say_hi.__doc__)"
   ]
  },
  {
   "cell_type": "code",
   "execution_count": 9,
   "metadata": {},
   "outputs": [
    {
     "name": "stdout",
     "output_type": "stream",
     "text": [
      "Good Bye\n",
      "Hello\n"
     ]
    }
   ],
   "source": [
    "import mymodule1\n",
    "mymodule1.bye()\n",
    "mymodule1.hello()"
   ]
  },
  {
   "cell_type": "markdown",
   "metadata": {},
   "source": [
    "### numerical Python\n",
    "- Homogeneous operations\n",
    "- All mathematical functions we use numpy package (third party)"
   ]
  },
  {
   "cell_type": "code",
   "execution_count": 54,
   "metadata": {},
   "outputs": [
    {
     "name": "stdout",
     "output_type": "stream",
     "text": [
      "<class 'numpy.ndarray'>\n"
     ]
    }
   ],
   "source": [
    "import numpy as np\n",
    "a = np.array([2, 4, 6, 8], dtype = np.int8) # List Array\n",
    "print(type(a))"
   ]
  },
  {
   "cell_type": "code",
   "execution_count": 57,
   "metadata": {},
   "outputs": [
    {
     "name": "stdout",
     "output_type": "stream",
     "text": [
      "1\n",
      "(4,)\n",
      "4\n",
      "4\n",
      "int32\n"
     ]
    }
   ],
   "source": [
    "# Attributes of a ndarray\n",
    "print(a.ndim) # no. of dimensions\n",
    "print(a.shape) # no. of elements and columns\n",
    "print(a.size) # number of elements\n",
    "print(a.itemsize)   # bytes required to store\n",
    "print(a.dtype) # datatype"
   ]
  },
  {
   "cell_type": "code",
   "execution_count": 58,
   "metadata": {},
   "outputs": [
    {
     "name": "stdout",
     "output_type": "stream",
     "text": [
      "<class 'numpy.ndarray'>\n"
     ]
    }
   ],
   "source": [
    "import numpy as np  # Tuple Array\n",
    "a = np.array((2, 4, 6, 8))\n",
    "print(type(a))"
   ]
  },
  {
   "cell_type": "code",
   "execution_count": 59,
   "metadata": {},
   "outputs": [
    {
     "name": "stdout",
     "output_type": "stream",
     "text": [
      "1\n",
      "(4,)\n",
      "4\n",
      "4\n",
      "int32\n"
     ]
    }
   ],
   "source": [
    "# Attributes of a ndarray\n",
    "print(a.ndim) # no. of dimensions\n",
    "print(a.shape) # no. of elements and columns\n",
    "print(a.size) # number of elements\n",
    "print(a.itemsize)   # bytes required to store\n",
    "print(a.dtype) # datatype"
   ]
  },
  {
   "cell_type": "code",
   "execution_count": 71,
   "metadata": {},
   "outputs": [
    {
     "name": "stdout",
     "output_type": "stream",
     "text": [
      "[ 7  8  9 10]\n"
     ]
    },
    {
     "data": {
      "text/plain": [
       "array([ 7,  8,  9, 10])"
      ]
     },
     "execution_count": 71,
     "metadata": {},
     "output_type": "execute_result"
    }
   ],
   "source": [
    "# Add 5 to all Elements of List\n",
    "l = np.array([2, 3, 4, 5])\n",
    "l = l + 5\n",
    "print(l)\n",
    "l"
   ]
  },
  {
   "cell_type": "code",
   "execution_count": 68,
   "metadata": {},
   "outputs": [
    {
     "name": "stdout",
     "output_type": "stream",
     "text": [
      "[1, 2, 3, 4, 5]\n",
      "[6, 7, 8, 9, 10]\n"
     ]
    }
   ],
   "source": [
    "l = [1, 2, 3, 4, 5]\n",
    "print(l)\n",
    "l = list(map(lambda x: x+5, l))\n",
    "print(l)"
   ]
  },
  {
   "cell_type": "code",
   "execution_count": 81,
   "metadata": {},
   "outputs": [
    {
     "name": "stdout",
     "output_type": "stream",
     "text": [
      "[ 8 10 12 14]\n"
     ]
    },
    {
     "data": {
      "text/plain": [
       "array([ 8, 10, 12, 14])"
      ]
     },
     "execution_count": 81,
     "metadata": {},
     "output_type": "execute_result"
    }
   ],
   "source": [
    "m = np.array([2, 3, 4, 5])\n",
    "n = np.array([6, 7, 8, 9])\n",
    "print(m + n)\n",
    "m + n"
   ]
  },
  {
   "cell_type": "code",
   "execution_count": 78,
   "metadata": {},
   "outputs": [
    {
     "name": "stdout",
     "output_type": "stream",
     "text": [
      "[     64    2187   65536 1953125]\n"
     ]
    },
    {
     "data": {
      "text/plain": [
       "array([     64,    2187,   65536, 1953125], dtype=int32)"
      ]
     },
     "execution_count": 78,
     "metadata": {},
     "output_type": "execute_result"
    }
   ],
   "source": [
    "m = np.array([2, 3, 4, 5])\n",
    "n = np.array([6, 7, 8, 9])\n",
    "print(m ** n)\n",
    "m ** n"
   ]
  },
  {
   "cell_type": "code",
   "execution_count": 90,
   "metadata": {},
   "outputs": [
    {
     "name": "stdout",
     "output_type": "stream",
     "text": [
      "0.34773921966552734\n",
      "0.0\n"
     ]
    }
   ],
   "source": [
    "import time\n",
    "values = list(range(1000000))\n",
    "s = time.time()\n",
    "lvalues = [i**2 for i in values]  # list comprehension\n",
    "e = time.time()\n",
    "print(e-s)\n",
    "avalues = np.array(values)\n",
    "s = time.time()\n",
    "avalues = avalues ** 2\n",
    "e= time.time()\n",
    "print(e-s)"
   ]
  },
  {
   "cell_type": "code",
   "execution_count": null,
   "metadata": {},
   "outputs": [],
   "source": []
  }
 ],
 "metadata": {
  "kernelspec": {
   "display_name": "Python 3",
   "language": "python",
   "name": "python3"
  },
  "language_info": {
   "codemirror_mode": {
    "name": "ipython",
    "version": 3
   },
   "file_extension": ".py",
   "mimetype": "text/x-python",
   "name": "python",
   "nbconvert_exporter": "python",
   "pygments_lexer": "ipython3",
   "version": "3.7.3"
  }
 },
 "nbformat": 4,
 "nbformat_minor": 2
}
